{
  "nbformat": 4,
  "nbformat_minor": 0,
  "metadata": {
    "colab": {
      "name": "Binary_Search.ipynb",
      "provenance": [],
      "authorship_tag": "ABX9TyM7J+dapM+fNzWUZK+NZM0/",
      "include_colab_link": true
    },
    "kernelspec": {
      "name": "python3",
      "display_name": "Python 3"
    },
    "language_info": {
      "name": "python"
    }
  },
  "cells": [
    {
      "cell_type": "markdown",
      "metadata": {
        "id": "view-in-github",
        "colab_type": "text"
      },
      "source": [
        "<a href=\"https://colab.research.google.com/github/shobhittya/deeplearning/blob/main/Binary_Search.ipynb\" target=\"_parent\"><img src=\"https://colab.research.google.com/assets/colab-badge.svg\" alt=\"Open In Colab\"/></a>"
      ]
    },
    {
      "cell_type": "code",
      "metadata": {
        "id": "ZsoRhSK5Vr5k"
      },
      "source": [
        "tests = []"
      ],
      "execution_count": 6,
      "outputs": []
    },
    {
      "cell_type": "code",
      "metadata": {
        "id": "vKE-FNOjVwye"
      },
      "source": [
        "# cards is empty\n",
        "tests.append({\n",
        "    'input': {\n",
        "        'cards': [],\n",
        "        'query': 7\n",
        "    },\n",
        "    'output': -1\n",
        "})"
      ],
      "execution_count": 8,
      "outputs": []
    },
    {
      "cell_type": "code",
      "metadata": {
        "id": "1vt37at1VnQF"
      },
      "source": [
        "# numbers can repeat in cards\n",
        "tests.append({\n",
        "    'input': {\n",
        "        'cards': [8, 8, 6, 6, 6, 6, 6, 3, 2, 2, 2, 0, 0, 0],\n",
        "        'query': 3\n",
        "    },\n",
        "    'output': 7\n",
        "})"
      ],
      "execution_count": 9,
      "outputs": []
    },
    {
      "cell_type": "code",
      "metadata": {
        "id": "MZ-YxkhcWqFo"
      },
      "source": [
        "# numbers can repeat in cards\n",
        "tests.append({\n",
        "    'input': {\n",
        "        'cards': [8, 8, 6, 6, 6, 6, 6, 3, 2, 2, 2, 0, 0, 0],\n",
        "        'query': 6\n",
        "    },\n",
        "    'output': 2\n",
        "})"
      ],
      "execution_count": 18,
      "outputs": []
    },
    {
      "cell_type": "code",
      "metadata": {
        "id": "RfCPMIMeTeRl"
      },
      "source": [
        "def test_location(cards, query, mid):\n",
        "  mid_number = cards[mid]\n",
        "  print(\"mid:\", mid, \",mid_number:\", mid_number)\n",
        "  if mid_number == query :\n",
        "    if mid-1>0 and cards[mid-1]==query:\n",
        "      return 'left'\n",
        "    else:\n",
        "      return 'found'\n",
        "  elif mid_number<query:\n",
        "    return 'left'\n",
        "  else :\n",
        "    return 'right'\n",
        "    \n",
        "       "
      ],
      "execution_count": 10,
      "outputs": []
    },
    {
      "cell_type": "code",
      "metadata": {
        "id": "LlozsBPVT1AR"
      },
      "source": [
        "def locate_cards(cards, query):\n",
        "  lo, hi = 0, len(cards)-1\n",
        "\n",
        "  while lo <= hi:\n",
        "    print(\"lo:\", lo, \",hi:\", hi)\n",
        "    mid = (lo+hi) //2\n",
        "    result = test_location(cards, query, mid)\n",
        "\n",
        "    if result == \"found\":\n",
        "      return mid\n",
        "    elif result == \"left\":\n",
        "      hi = mid-1\n",
        "    else :\n",
        "      lo = mid+1\n",
        "  \n",
        "  return -1"
      ],
      "execution_count": 11,
      "outputs": []
    },
    {
      "cell_type": "code",
      "metadata": {
        "colab": {
          "base_uri": "https://localhost:8080/"
        },
        "id": "JOQdWaOOWUrG",
        "outputId": "1250f3a3-7fb2-4ae2-8791-5a07f2d9aef4"
      },
      "source": [
        "tests"
      ],
      "execution_count": 19,
      "outputs": [
        {
          "output_type": "execute_result",
          "data": {
            "text/plain": [
              "[{'input': {'cards': [8, 8, 6, 6, 6, 6, 6, 3, 2, 2, 2, 0, 0, 0], 'query': 3},\n",
              "  'output': 7},\n",
              " {'input': {'cards': [], 'query': 7}, 'output': -1},\n",
              " {'input': {'cards': [8, 8, 6, 6, 6, 6, 6, 3, 2, 2, 2, 0, 0, 0], 'query': 3},\n",
              "  'output': 7},\n",
              " {'input': {'cards': [8, 8, 6, 6, 6, 6, 6, 3, 2, 2, 2, 0, 0, 0], 'query': 6},\n",
              "  'output': 2}]"
            ]
          },
          "metadata": {},
          "execution_count": 19
        }
      ]
    },
    {
      "cell_type": "code",
      "metadata": {
        "colab": {
          "base_uri": "https://localhost:8080/"
        },
        "id": "jl1nfLfnVEGJ",
        "outputId": "5d104b4a-659a-41bc-f109-0da7e32f8b94"
      },
      "source": [
        "cards1 = tests[1]['input']['cards']\n",
        "query1 = tests[1]['input']['query']\n",
        "\n",
        "locate_cards(cards1, query1)"
      ],
      "execution_count": 15,
      "outputs": [
        {
          "output_type": "execute_result",
          "data": {
            "text/plain": [
              "-1"
            ]
          },
          "metadata": {},
          "execution_count": 15
        }
      ]
    },
    {
      "cell_type": "code",
      "metadata": {
        "colab": {
          "base_uri": "https://localhost:8080/"
        },
        "id": "ORtHL4mGWbb9",
        "outputId": "bacb021f-12c1-4189-bcc5-dbd77cef3ec7"
      },
      "source": [
        "cards2 = tests[2]['input']['cards']\n",
        "query2 = tests[2]['input']['query']\n",
        "\n",
        "locate_cards(cards2, query2)"
      ],
      "execution_count": 17,
      "outputs": [
        {
          "output_type": "stream",
          "name": "stdout",
          "text": [
            "lo: 0 ,hi: 13\n",
            "mid: 6 ,mid_number: 6\n",
            "lo: 7 ,hi: 13\n",
            "mid: 10 ,mid_number: 2\n",
            "lo: 7 ,hi: 9\n",
            "mid: 8 ,mid_number: 2\n",
            "lo: 7 ,hi: 7\n",
            "mid: 7 ,mid_number: 3\n"
          ]
        },
        {
          "output_type": "execute_result",
          "data": {
            "text/plain": [
              "7"
            ]
          },
          "metadata": {},
          "execution_count": 17
        }
      ]
    },
    {
      "cell_type": "code",
      "metadata": {
        "colab": {
          "base_uri": "https://localhost:8080/"
        },
        "id": "sKo2r_pWWt3Y",
        "outputId": "2c7971f1-916e-4426-96b9-c8ea8f4e1213"
      },
      "source": [
        "cards3 = tests[3]['input']['cards']\n",
        "query3 = tests[3]['input']['query']\n",
        "\n",
        "locate_cards(cards3, query3)"
      ],
      "execution_count": 20,
      "outputs": [
        {
          "output_type": "stream",
          "name": "stdout",
          "text": [
            "lo: 0 ,hi: 13\n",
            "mid: 6 ,mid_number: 6\n",
            "lo: 0 ,hi: 5\n",
            "mid: 2 ,mid_number: 6\n"
          ]
        },
        {
          "output_type": "execute_result",
          "data": {
            "text/plain": [
              "2"
            ]
          },
          "metadata": {},
          "execution_count": 20
        }
      ]
    }
  ]
}