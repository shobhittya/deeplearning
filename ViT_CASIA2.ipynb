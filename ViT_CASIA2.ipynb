{
  "nbformat": 4,
  "nbformat_minor": 0,
  "metadata": {
    "colab": {
      "name": "ViT_CASIA1.ipynb",
      "provenance": [],
      "collapsed_sections": [],
      "authorship_tag": "ABX9TyMrq7mFKqYhmY/GiKjI/vhX",
      "include_colab_link": true
    },
    "kernelspec": {
      "name": "python3",
      "display_name": "Python 3"
    },
    "language_info": {
      "name": "python"
    },
    "accelerator": "GPU"
  },
  "cells": [
    {
      "cell_type": "markdown",
      "metadata": {
        "id": "view-in-github",
        "colab_type": "text"
      },
      "source": [
        "<a href=\"https://colab.research.google.com/github/shobhittya/deeplearning/blob/main/ViT_CASIA2.ipynb\" target=\"_parent\"><img src=\"https://colab.research.google.com/assets/colab-badge.svg\" alt=\"Open In Colab\"/></a>"
      ]
    },
    {
      "cell_type": "code",
      "metadata": {
        "colab": {
          "base_uri": "https://localhost:8080/"
        },
        "id": "VC_UileKzSZf",
        "outputId": "b75821db-be20-4c58-fb59-2921de59f13e"
      },
      "source": [
        "pip install -U tensorflow-addons"
      ],
      "execution_count": 1,
      "outputs": [
        {
          "output_type": "stream",
          "name": "stdout",
          "text": [
            "Collecting tensorflow-addons\n",
            "  Downloading tensorflow_addons-0.14.0-cp37-cp37m-manylinux_2_12_x86_64.manylinux2010_x86_64.whl (1.1 MB)\n",
            "\u001b[K     |████████████████████████████████| 1.1 MB 5.1 MB/s \n",
            "\u001b[?25hRequirement already satisfied: typeguard>=2.7 in /usr/local/lib/python3.7/dist-packages (from tensorflow-addons) (2.7.1)\n",
            "Installing collected packages: tensorflow-addons\n",
            "Successfully installed tensorflow-addons-0.14.0\n"
          ]
        }
      ]
    },
    {
      "cell_type": "code",
      "metadata": {
        "id": "dAcVvz-MynhQ"
      },
      "source": [
        "import numpy as np\n",
        "import matplotlib.pyplot as plt\n",
        "from tensorflow.keras.layers import Input, Dense, Flatten, Conv2D, MaxPooling2D, BatchNormalization, Dropout, Reshape, Concatenate, LeakyReLU\n",
        "from tensorflow.keras.preprocessing.image import ImageDataGenerator\n",
        "from tensorflow.keras.optimizers import Adam\n",
        "from tensorflow.keras.models import Model\n",
        "\n",
        "import numpy as np\n",
        "import tensorflow as tf\n",
        "from tensorflow import keras\n",
        "from tensorflow.keras import layers\n",
        "import tensorflow_addons as tfa\n",
        "\n",
        "#import necessary libraries\n",
        "import numpy as np\n",
        "import matplotlib.pyplot as plt\n",
        "%matplotlib inline\n",
        "np.random.seed(2)\n",
        "from sklearn.model_selection import train_test_split\n",
        "from sklearn.metrics import confusion_matrix\n",
        "from keras.utils.np_utils import to_categorical\n",
        "from keras.models import Sequential\n",
        "from keras.layers import Dense, Flatten, Conv2D, MaxPool2D, Dropout\n",
        "from tensorflow.keras.optimizers import Adam\n",
        "from keras.preprocessing.image import ImageDataGenerator\n",
        "from keras.callbacks import EarlyStopping"
      ],
      "execution_count": 2,
      "outputs": []
    },
    {
      "cell_type": "markdown",
      "metadata": {
        "id": "7VT6popDzsSF"
      },
      "source": [
        "**Prepare The Data**"
      ]
    },
    {
      "cell_type": "code",
      "metadata": {
        "id": "j2ddME14zdeg"
      },
      "source": [
        "!pip install opendatasets --upgrade --quiet"
      ],
      "execution_count": 3,
      "outputs": []
    },
    {
      "cell_type": "code",
      "metadata": {
        "id": "ghdT2iN_zeTV"
      },
      "source": [
        "import opendatasets as od"
      ],
      "execution_count": 4,
      "outputs": []
    },
    {
      "cell_type": "code",
      "metadata": {
        "id": "z6Gy_sRJzeQb"
      },
      "source": [
        "dataset_url = \"https://www.kaggle.com/sophatvathana/casia-dataset\""
      ],
      "execution_count": 5,
      "outputs": []
    },
    {
      "cell_type": "code",
      "metadata": {
        "colab": {
          "base_uri": "https://localhost:8080/"
        },
        "id": "B0tj90bIzjLh",
        "outputId": "ed8543c0-e688-4d7b-f8c1-fec1fcb4039d"
      },
      "source": [
        "od.download(dataset_url)"
      ],
      "execution_count": 6,
      "outputs": [
        {
          "output_type": "stream",
          "name": "stdout",
          "text": [
            "Please provide your Kaggle credentials to download this dataset. Learn more: http://bit.ly/kaggle-creds\n",
            "Your Kaggle username: shobhittyagi\n",
            "Your Kaggle Key: ··········\n",
            "Downloading casia-dataset.zip to ./casia-dataset\n"
          ]
        },
        {
          "output_type": "stream",
          "name": "stderr",
          "text": [
            "100%|██████████| 5.22G/5.22G [00:48<00:00, 115MB/s] \n"
          ]
        },
        {
          "output_type": "stream",
          "name": "stdout",
          "text": [
            "\n"
          ]
        }
      ]
    },
    {
      "cell_type": "code",
      "metadata": {
        "id": "CJFMhLs5zkBp"
      },
      "source": [
        "import numpy as np \n",
        "import pandas as pd \n",
        "import matplotlib.pyplot as plt2\n",
        "import os\n",
        "import tensorflow as tf\n",
        "from keras.preprocessing.image import ImageDataGenerator, load_img\n",
        "from keras.layers import (Conv2D, BatchNormalization, Activation, MaxPooling2D, GlobalAveragePooling2D, Dense, Flatten, Dropout)\n",
        "from tensorflow.keras.optimizers import RMSprop, Adam, SGD\n",
        "from keras import regularizers\n",
        "from keras.callbacks import CSVLogger, ModelCheckpoint, ReduceLROnPlateau"
      ],
      "execution_count": 7,
      "outputs": []
    },
    {
      "cell_type": "code",
      "metadata": {
        "id": "C_8r025Mzj_Q"
      },
      "source": [
        "from PIL import Image, ImageChops, ImageEnhance\n",
        "import os\n",
        "import itertools"
      ],
      "execution_count": 8,
      "outputs": []
    },
    {
      "cell_type": "code",
      "metadata": {
        "id": "EhhejRpeWxsE"
      },
      "source": [
        "def convert_to_ela_image(path, quality):\n",
        "    temp_filename = 'temp_file_name.jpg'\n",
        "    ela_filename = 'temp_ela.png'\n",
        "    \n",
        "    image = Image.open(path).convert('RGB')\n",
        "    image.save(temp_filename, 'JPEG', quality = quality)\n",
        "    temp_image = Image.open(temp_filename)\n",
        "    \n",
        "    ela_image = ImageChops.difference(image, temp_image)\n",
        "    \n",
        "    extrema = ela_image.getextrema()\n",
        "    max_diff = max([ex[1] for ex in extrema])\n",
        "    if max_diff == 0:\n",
        "        max_diff = 1\n",
        "    scale = 255.0 / max_diff\n",
        "    \n",
        "    ela_image = ImageEnhance.Brightness(ela_image).enhance(scale)\n",
        "    \n",
        "    return ela_image"
      ],
      "execution_count": 9,
      "outputs": []
    },
    {
      "cell_type": "code",
      "metadata": {
        "id": "uNKu5W_7WxpQ"
      },
      "source": [
        "image_size = (128, 128)"
      ],
      "execution_count": 10,
      "outputs": []
    },
    {
      "cell_type": "code",
      "metadata": {
        "id": "60tOoNssWxmm"
      },
      "source": [
        "\n",
        "def prepare_image(image_path):\n",
        "    return np.array(convert_to_ela_image(image_path, 90).resize(image_size)).flatten() / 255.0"
      ],
      "execution_count": 11,
      "outputs": []
    },
    {
      "cell_type": "code",
      "metadata": {
        "id": "TlAE-7-mWxjr"
      },
      "source": [
        "X = [] # ELA converted images\n",
        "Y = [] # 0 for fake, 1 for real"
      ],
      "execution_count": 36,
      "outputs": []
    },
    {
      "cell_type": "code",
      "metadata": {
        "colab": {
          "base_uri": "https://localhost:8080/"
        },
        "id": "mzZ5ONDkXJ74",
        "outputId": "ae79b2cd-0e8a-4436-dc6d-8440aae5e471"
      },
      "source": [
        "\n",
        "import random\n",
        "path = '/content/casia-dataset/CASIA2/Au/'\n",
        "for dirname, _, filenames in os.walk(path):\n",
        "    for filename in filenames:\n",
        "        if filename.endswith('jpg') or filename.endswith('png'):\n",
        "            full_path = os.path.join(dirname, filename)\n",
        "            X.append(prepare_image(full_path))\n",
        "            Y.append(1)\n",
        "            if len(Y) % 500 == 0:\n",
        "                print(f'Processing {len(Y)} images')\n",
        "\n",
        "random.shuffle(X)\n",
        "X = X[:2100]\n",
        "Y = Y[:2100]\n",
        "print(len(X), len(Y))"
      ],
      "execution_count": 37,
      "outputs": [
        {
          "output_type": "stream",
          "name": "stdout",
          "text": [
            "Processing 500 images\n",
            "Processing 1000 images\n",
            "Processing 1500 images\n",
            "Processing 2000 images\n",
            "Processing 2500 images\n",
            "Processing 3000 images\n"
          ]
        },
        {
          "output_type": "stream",
          "name": "stderr",
          "text": [
            "/usr/local/lib/python3.7/dist-packages/PIL/TiffImagePlugin.py:770: UserWarning: Possibly corrupt EXIF data.  Expecting to read 8 bytes but only got 2. Skipping tag 41487\n",
            "  \" Skipping tag %s\" % (size, len(data), tag)\n",
            "/usr/local/lib/python3.7/dist-packages/PIL/TiffImagePlugin.py:770: UserWarning: Possibly corrupt EXIF data.  Expecting to read 8 bytes but only got 0. Skipping tag 41988\n",
            "  \" Skipping tag %s\" % (size, len(data), tag)\n"
          ]
        },
        {
          "output_type": "stream",
          "name": "stdout",
          "text": [
            "Processing 3500 images\n",
            "Processing 4000 images\n",
            "Processing 4500 images\n",
            "Processing 5000 images\n",
            "Processing 5500 images\n",
            "Processing 6000 images\n",
            "Processing 6500 images\n",
            "Processing 7000 images\n",
            "2100 2100\n"
          ]
        }
      ]
    },
    {
      "cell_type": "code",
      "metadata": {
        "colab": {
          "base_uri": "https://localhost:8080/"
        },
        "id": "quS-8mtfXJ5U",
        "outputId": "69080745-c679-4556-945b-013e43c67f23"
      },
      "source": [
        "path = '/content/casia-dataset/CASIA2/Tp/'\n",
        "for dirname, _, filenames in os.walk(path):\n",
        "    for filename in filenames:\n",
        "        if filename.endswith('jpg') or filename.endswith('png'):\n",
        "            full_path = os.path.join(dirname, filename)\n",
        "            X.append(prepare_image(full_path))\n",
        "            Y.append(0)\n",
        "            if len(Y) % 500 == 0:\n",
        "                print(f'Processing {len(Y)} images')\n",
        "\n",
        "print(len(X), len(Y))"
      ],
      "execution_count": 38,
      "outputs": [
        {
          "output_type": "stream",
          "name": "stdout",
          "text": [
            "Processing 2500 images\n",
            "Processing 3000 images\n",
            "Processing 3500 images\n",
            "Processing 4000 images\n",
            "4164 4164\n"
          ]
        }
      ]
    },
    {
      "cell_type": "code",
      "metadata": {
        "id": "Gzd83rFnXJ20"
      },
      "source": [
        "X = np.array(X)\n",
        "Y = to_categorical(Y, 2)\n",
        "X = X.reshape(-1, 128, 128, 3)"
      ],
      "execution_count": 39,
      "outputs": []
    },
    {
      "cell_type": "code",
      "metadata": {
        "colab": {
          "base_uri": "https://localhost:8080/"
        },
        "id": "1GiBEKTaXJ0W",
        "outputId": "3a853332-37bd-4f66-88a7-9317c2fedd55"
      },
      "source": [
        "X_train, X_val, Y_train, Y_val = train_test_split(X, Y, test_size = 0.2, random_state=5)\n",
        "X = X.reshape(-1,1,1,1)\n",
        "print(len(X_train), len(Y_train))\n",
        "print(len(X_val), len(Y_val))"
      ],
      "execution_count": 40,
      "outputs": [
        {
          "output_type": "stream",
          "name": "stdout",
          "text": [
            "3331 3331\n",
            "833 833\n"
          ]
        }
      ]
    },
    {
      "cell_type": "code",
      "metadata": {
        "id": "ZOcfWxGsXJx-"
      },
      "source": [
        "model = tf.keras.models.Sequential(\n",
        "    [\n",
        "     tf.keras.layers.Conv2D(32, (3,3), padding='same', activation='relu', input_shape = (128, 128, 3)),\n",
        "     tf.keras.layers.MaxPooling2D(2,2),\n",
        "\n",
        "     tf.keras.layers.Conv2D(64, (3,3), padding='same', activation='relu'),\n",
        "     tf.keras.layers.MaxPooling2D(2,2),\n",
        "\n",
        "     tf.keras.layers.Conv2D(128, (3,3), padding='same', activation='relu'),\n",
        "     tf.keras.layers.MaxPooling2D(2,2),\n",
        "\n",
        "     tf.keras.layers.Conv2D(256, (3,3), padding='same', activation='relu'),\n",
        "     tf.keras.layers.MaxPooling2D(2,2),\n",
        "\n",
        "     tf.keras.layers.Flatten(),\n",
        "\n",
        "     tf.keras.layers.Dense(512, activation='relu'),\n",
        "     tf.keras.layers.Dropout(0.5),\n",
        "     tf.keras.layers.Dense(2, activation='softmax')\n",
        "     ]\n",
        ")"
      ],
      "execution_count": 41,
      "outputs": []
    },
    {
      "cell_type": "code",
      "metadata": {
        "colab": {
          "base_uri": "https://localhost:8080/"
        },
        "id": "jcu4eFP4XJvF",
        "outputId": "d5d15bb8-dafb-4d66-c912-ded2fd5d83c0"
      },
      "source": [
        "model.summary()"
      ],
      "execution_count": 42,
      "outputs": [
        {
          "output_type": "stream",
          "name": "stdout",
          "text": [
            "Model: \"sequential_3\"\n",
            "_________________________________________________________________\n",
            "Layer (type)                 Output Shape              Param #   \n",
            "=================================================================\n",
            "conv2d_16 (Conv2D)           (None, 128, 128, 32)      896       \n",
            "_________________________________________________________________\n",
            "max_pooling2d_16 (MaxPooling (None, 64, 64, 32)        0         \n",
            "_________________________________________________________________\n",
            "conv2d_17 (Conv2D)           (None, 64, 64, 64)        18496     \n",
            "_________________________________________________________________\n",
            "max_pooling2d_17 (MaxPooling (None, 32, 32, 64)        0         \n",
            "_________________________________________________________________\n",
            "conv2d_18 (Conv2D)           (None, 32, 32, 128)       73856     \n",
            "_________________________________________________________________\n",
            "max_pooling2d_18 (MaxPooling (None, 16, 16, 128)       0         \n",
            "_________________________________________________________________\n",
            "conv2d_19 (Conv2D)           (None, 16, 16, 256)       295168    \n",
            "_________________________________________________________________\n",
            "max_pooling2d_19 (MaxPooling (None, 8, 8, 256)         0         \n",
            "_________________________________________________________________\n",
            "flatten_4 (Flatten)          (None, 16384)             0         \n",
            "_________________________________________________________________\n",
            "dense_8 (Dense)              (None, 512)               8389120   \n",
            "_________________________________________________________________\n",
            "dropout_4 (Dropout)          (None, 512)               0         \n",
            "_________________________________________________________________\n",
            "dense_9 (Dense)              (None, 2)                 1026      \n",
            "=================================================================\n",
            "Total params: 8,778,562\n",
            "Trainable params: 8,778,562\n",
            "Non-trainable params: 0\n",
            "_________________________________________________________________\n"
          ]
        }
      ]
    },
    {
      "cell_type": "code",
      "metadata": {
        "id": "bw8Wqd9_XeP3"
      },
      "source": [
        "\n",
        "model.compile(optimizer='adam', loss='binary_crossentropy', metrics = ['accuracy'])"
      ],
      "execution_count": 43,
      "outputs": []
    },
    {
      "cell_type": "code",
      "metadata": {
        "id": "4Gm3QB3jXeNW"
      },
      "source": [
        "epochs = 100\n",
        "batch_size = 64"
      ],
      "execution_count": 44,
      "outputs": []
    },
    {
      "cell_type": "code",
      "metadata": {
        "colab": {
          "base_uri": "https://localhost:8080/"
        },
        "id": "pZUUCL4EXeK2",
        "outputId": "e5880588-1969-4b48-acb2-2ea55647348f"
      },
      "source": [
        "\n",
        "init_lr = 1e-3\n",
        "optimizer = Adam(lr = init_lr, decay = init_lr/epochs)"
      ],
      "execution_count": 45,
      "outputs": [
        {
          "output_type": "stream",
          "name": "stderr",
          "text": [
            "/usr/local/lib/python3.7/dist-packages/keras/optimizer_v2/optimizer_v2.py:356: UserWarning: The `lr` argument is deprecated, use `learning_rate` instead.\n",
            "  \"The `lr` argument is deprecated, use `learning_rate` instead.\")\n"
          ]
        }
      ]
    },
    {
      "cell_type": "code",
      "metadata": {
        "id": "Vzjy15wSXeIQ"
      },
      "source": [
        "checkpoint = ModelCheckpoint(filepath='/content/Model_weights/MiniNet.h5',\n",
        "                             save_best_only=True,\n",
        "                             verbose=1,\n",
        "                             mode='min',\n",
        "                             moniter='val_loss'\n",
        "                            )\n",
        "reduce_lr = ReduceLROnPlateau(monitor='val_loss', \n",
        "                              factor=0.15, \n",
        "                              patience=8, \n",
        "                              verbose=1\n",
        "                             )\n",
        "csv_logger = CSVLogger('training.log')\n",
        "early_stopping = EarlyStopping(monitor = 'val_acc',\n",
        "                              min_delta = 0,\n",
        "                              patience =5,\n",
        "                              verbose = 0,\n",
        "                              mode = 'auto')\n",
        "\n",
        "callbacks = [checkpoint, reduce_lr, early_stopping, csv_logger]"
      ],
      "execution_count": 46,
      "outputs": []
    },
    {
      "cell_type": "code",
      "metadata": {
        "colab": {
          "base_uri": "https://localhost:8080/"
        },
        "id": "FRa2oJKtXeBw",
        "outputId": "96538ea3-12f6-44be-8c52-85eaba27e449"
      },
      "source": [
        "hist = model.fit(X_train,\n",
        "                 Y_train,\n",
        "                 batch_size = batch_size,\n",
        "                 epochs = epochs,\n",
        "                validation_data = (X_val, Y_val),\n",
        "                 verbose = 1, \n",
        "                callbacks = callbacks)"
      ],
      "execution_count": 47,
      "outputs": [
        {
          "output_type": "stream",
          "name": "stdout",
          "text": [
            "Epoch 1/100\n",
            "53/53 [==============================] - 3s 41ms/step - loss: 0.4840 - accuracy: 0.7550 - val_loss: 0.3701 - val_accuracy: 0.8571\n",
            "\n",
            "Epoch 00001: val_loss improved from inf to 0.37015, saving model to /content/Model_weights/MiniNet.h5\n",
            "WARNING:tensorflow:Early stopping conditioned on metric `val_acc` which is not available. Available metrics are: loss,accuracy,val_loss,val_accuracy,lr\n",
            "Epoch 2/100\n",
            "53/53 [==============================] - 2s 29ms/step - loss: 0.3745 - accuracy: 0.8649 - val_loss: 0.3343 - val_accuracy: 0.8667\n",
            "\n",
            "Epoch 00002: val_loss improved from 0.37015 to 0.33433, saving model to /content/Model_weights/MiniNet.h5\n",
            "WARNING:tensorflow:Early stopping conditioned on metric `val_acc` which is not available. Available metrics are: loss,accuracy,val_loss,val_accuracy,lr\n",
            "Epoch 3/100\n",
            "53/53 [==============================] - 2s 32ms/step - loss: 0.3234 - accuracy: 0.8835 - val_loss: 0.3171 - val_accuracy: 0.8824\n",
            "\n",
            "Epoch 00003: val_loss improved from 0.33433 to 0.31708, saving model to /content/Model_weights/MiniNet.h5\n",
            "WARNING:tensorflow:Early stopping conditioned on metric `val_acc` which is not available. Available metrics are: loss,accuracy,val_loss,val_accuracy,lr\n",
            "Epoch 4/100\n",
            "53/53 [==============================] - 2s 30ms/step - loss: 0.3075 - accuracy: 0.8943 - val_loss: 0.3407 - val_accuracy: 0.8824\n",
            "\n",
            "Epoch 00004: val_loss did not improve from 0.31708\n",
            "WARNING:tensorflow:Early stopping conditioned on metric `val_acc` which is not available. Available metrics are: loss,accuracy,val_loss,val_accuracy,lr\n",
            "Epoch 5/100\n",
            "53/53 [==============================] - 2s 29ms/step - loss: 0.2971 - accuracy: 0.8910 - val_loss: 0.3026 - val_accuracy: 0.8896\n",
            "\n",
            "Epoch 00005: val_loss improved from 0.31708 to 0.30265, saving model to /content/Model_weights/MiniNet.h5\n",
            "WARNING:tensorflow:Early stopping conditioned on metric `val_acc` which is not available. Available metrics are: loss,accuracy,val_loss,val_accuracy,lr\n",
            "Epoch 6/100\n",
            "53/53 [==============================] - 2s 29ms/step - loss: 0.2828 - accuracy: 0.9006 - val_loss: 0.2927 - val_accuracy: 0.8932\n",
            "\n",
            "Epoch 00006: val_loss improved from 0.30265 to 0.29265, saving model to /content/Model_weights/MiniNet.h5\n",
            "WARNING:tensorflow:Early stopping conditioned on metric `val_acc` which is not available. Available metrics are: loss,accuracy,val_loss,val_accuracy,lr\n",
            "Epoch 7/100\n",
            "53/53 [==============================] - 2s 30ms/step - loss: 0.2733 - accuracy: 0.9054 - val_loss: 0.3108 - val_accuracy: 0.8872\n",
            "\n",
            "Epoch 00007: val_loss did not improve from 0.29265\n",
            "WARNING:tensorflow:Early stopping conditioned on metric `val_acc` which is not available. Available metrics are: loss,accuracy,val_loss,val_accuracy,lr\n",
            "Epoch 8/100\n",
            "53/53 [==============================] - 2s 29ms/step - loss: 0.2607 - accuracy: 0.9102 - val_loss: 0.3016 - val_accuracy: 0.8908\n",
            "\n",
            "Epoch 00008: val_loss did not improve from 0.29265\n",
            "WARNING:tensorflow:Early stopping conditioned on metric `val_acc` which is not available. Available metrics are: loss,accuracy,val_loss,val_accuracy,lr\n",
            "Epoch 9/100\n",
            "53/53 [==============================] - 2s 29ms/step - loss: 0.2553 - accuracy: 0.9108 - val_loss: 0.3011 - val_accuracy: 0.8908\n",
            "\n",
            "Epoch 00009: val_loss did not improve from 0.29265\n",
            "WARNING:tensorflow:Early stopping conditioned on metric `val_acc` which is not available. Available metrics are: loss,accuracy,val_loss,val_accuracy,lr\n",
            "Epoch 10/100\n",
            "53/53 [==============================] - 2s 30ms/step - loss: 0.2527 - accuracy: 0.9078 - val_loss: 0.2945 - val_accuracy: 0.8980\n",
            "\n",
            "Epoch 00010: val_loss did not improve from 0.29265\n",
            "WARNING:tensorflow:Early stopping conditioned on metric `val_acc` which is not available. Available metrics are: loss,accuracy,val_loss,val_accuracy,lr\n",
            "Epoch 11/100\n",
            "53/53 [==============================] - 2s 29ms/step - loss: 0.2744 - accuracy: 0.9003 - val_loss: 0.3145 - val_accuracy: 0.8860\n",
            "\n",
            "Epoch 00011: val_loss did not improve from 0.29265\n",
            "WARNING:tensorflow:Early stopping conditioned on metric `val_acc` which is not available. Available metrics are: loss,accuracy,val_loss,val_accuracy,lr\n",
            "Epoch 12/100\n",
            "53/53 [==============================] - 2s 29ms/step - loss: 0.2341 - accuracy: 0.9132 - val_loss: 0.3553 - val_accuracy: 0.8691\n",
            "\n",
            "Epoch 00012: val_loss did not improve from 0.29265\n",
            "WARNING:tensorflow:Early stopping conditioned on metric `val_acc` which is not available. Available metrics are: loss,accuracy,val_loss,val_accuracy,lr\n",
            "Epoch 13/100\n",
            "53/53 [==============================] - 2s 29ms/step - loss: 0.2339 - accuracy: 0.9195 - val_loss: 0.2789 - val_accuracy: 0.8992\n",
            "\n",
            "Epoch 00013: val_loss improved from 0.29265 to 0.27888, saving model to /content/Model_weights/MiniNet.h5\n",
            "WARNING:tensorflow:Early stopping conditioned on metric `val_acc` which is not available. Available metrics are: loss,accuracy,val_loss,val_accuracy,lr\n",
            "Epoch 14/100\n",
            "53/53 [==============================] - 2s 29ms/step - loss: 0.2104 - accuracy: 0.9213 - val_loss: 0.2587 - val_accuracy: 0.9124\n",
            "\n",
            "Epoch 00014: val_loss improved from 0.27888 to 0.25874, saving model to /content/Model_weights/MiniNet.h5\n",
            "WARNING:tensorflow:Early stopping conditioned on metric `val_acc` which is not available. Available metrics are: loss,accuracy,val_loss,val_accuracy,lr\n",
            "Epoch 15/100\n",
            "53/53 [==============================] - 2s 29ms/step - loss: 0.1930 - accuracy: 0.9295 - val_loss: 0.3076 - val_accuracy: 0.8932\n",
            "\n",
            "Epoch 00015: val_loss did not improve from 0.25874\n",
            "WARNING:tensorflow:Early stopping conditioned on metric `val_acc` which is not available. Available metrics are: loss,accuracy,val_loss,val_accuracy,lr\n",
            "Epoch 16/100\n",
            "53/53 [==============================] - 2s 29ms/step - loss: 0.1647 - accuracy: 0.9403 - val_loss: 0.2590 - val_accuracy: 0.9100\n",
            "\n",
            "Epoch 00016: val_loss did not improve from 0.25874\n",
            "WARNING:tensorflow:Early stopping conditioned on metric `val_acc` which is not available. Available metrics are: loss,accuracy,val_loss,val_accuracy,lr\n",
            "Epoch 17/100\n",
            "53/53 [==============================] - 2s 30ms/step - loss: 0.1402 - accuracy: 0.9460 - val_loss: 0.2526 - val_accuracy: 0.9268\n",
            "\n",
            "Epoch 00017: val_loss improved from 0.25874 to 0.25255, saving model to /content/Model_weights/MiniNet.h5\n",
            "WARNING:tensorflow:Early stopping conditioned on metric `val_acc` which is not available. Available metrics are: loss,accuracy,val_loss,val_accuracy,lr\n",
            "Epoch 18/100\n",
            "53/53 [==============================] - 2s 29ms/step - loss: 0.1376 - accuracy: 0.9469 - val_loss: 0.2467 - val_accuracy: 0.9208\n",
            "\n",
            "Epoch 00018: val_loss improved from 0.25255 to 0.24672, saving model to /content/Model_weights/MiniNet.h5\n",
            "WARNING:tensorflow:Early stopping conditioned on metric `val_acc` which is not available. Available metrics are: loss,accuracy,val_loss,val_accuracy,lr\n",
            "Epoch 19/100\n",
            "53/53 [==============================] - 2s 30ms/step - loss: 0.1218 - accuracy: 0.9541 - val_loss: 0.3139 - val_accuracy: 0.9040\n",
            "\n",
            "Epoch 00019: val_loss did not improve from 0.24672\n",
            "WARNING:tensorflow:Early stopping conditioned on metric `val_acc` which is not available. Available metrics are: loss,accuracy,val_loss,val_accuracy,lr\n",
            "Epoch 20/100\n",
            "53/53 [==============================] - 2s 29ms/step - loss: 0.1211 - accuracy: 0.9499 - val_loss: 0.2648 - val_accuracy: 0.9196\n",
            "\n",
            "Epoch 00020: val_loss did not improve from 0.24672\n",
            "WARNING:tensorflow:Early stopping conditioned on metric `val_acc` which is not available. Available metrics are: loss,accuracy,val_loss,val_accuracy,lr\n",
            "Epoch 21/100\n",
            "53/53 [==============================] - 2s 29ms/step - loss: 0.1123 - accuracy: 0.9526 - val_loss: 0.3167 - val_accuracy: 0.9148\n",
            "\n",
            "Epoch 00021: val_loss did not improve from 0.24672\n",
            "WARNING:tensorflow:Early stopping conditioned on metric `val_acc` which is not available. Available metrics are: loss,accuracy,val_loss,val_accuracy,lr\n",
            "Epoch 22/100\n",
            "53/53 [==============================] - 2s 29ms/step - loss: 0.0876 - accuracy: 0.9637 - val_loss: 0.3298 - val_accuracy: 0.9064\n",
            "\n",
            "Epoch 00022: val_loss did not improve from 0.24672\n",
            "WARNING:tensorflow:Early stopping conditioned on metric `val_acc` which is not available. Available metrics are: loss,accuracy,val_loss,val_accuracy,lr\n",
            "Epoch 23/100\n",
            "53/53 [==============================] - 2s 29ms/step - loss: 0.0899 - accuracy: 0.9655 - val_loss: 0.4529 - val_accuracy: 0.9016\n",
            "\n",
            "Epoch 00023: val_loss did not improve from 0.24672\n",
            "WARNING:tensorflow:Early stopping conditioned on metric `val_acc` which is not available. Available metrics are: loss,accuracy,val_loss,val_accuracy,lr\n",
            "Epoch 24/100\n",
            "53/53 [==============================] - 2s 30ms/step - loss: 0.0869 - accuracy: 0.9631 - val_loss: 0.3348 - val_accuracy: 0.9136\n",
            "\n",
            "Epoch 00024: val_loss did not improve from 0.24672\n",
            "WARNING:tensorflow:Early stopping conditioned on metric `val_acc` which is not available. Available metrics are: loss,accuracy,val_loss,val_accuracy,lr\n",
            "Epoch 25/100\n",
            "53/53 [==============================] - 2s 30ms/step - loss: 0.0560 - accuracy: 0.9772 - val_loss: 0.3581 - val_accuracy: 0.9160\n",
            "\n",
            "Epoch 00025: val_loss did not improve from 0.24672\n",
            "WARNING:tensorflow:Early stopping conditioned on metric `val_acc` which is not available. Available metrics are: loss,accuracy,val_loss,val_accuracy,lr\n",
            "Epoch 26/100\n",
            "53/53 [==============================] - 2s 30ms/step - loss: 0.0418 - accuracy: 0.9847 - val_loss: 0.4361 - val_accuracy: 0.9208\n",
            "\n",
            "Epoch 00026: val_loss did not improve from 0.24672\n",
            "\n",
            "Epoch 00026: ReduceLROnPlateau reducing learning rate to 0.0001500000071246177.\n",
            "WARNING:tensorflow:Early stopping conditioned on metric `val_acc` which is not available. Available metrics are: loss,accuracy,val_loss,val_accuracy,lr\n",
            "Epoch 27/100\n",
            "53/53 [==============================] - 2s 30ms/step - loss: 0.0255 - accuracy: 0.9913 - val_loss: 0.4188 - val_accuracy: 0.9232\n",
            "\n",
            "Epoch 00027: val_loss did not improve from 0.24672\n",
            "WARNING:tensorflow:Early stopping conditioned on metric `val_acc` which is not available. Available metrics are: loss,accuracy,val_loss,val_accuracy,lr\n",
            "Epoch 28/100\n",
            "53/53 [==============================] - 2s 30ms/step - loss: 0.0228 - accuracy: 0.9907 - val_loss: 0.4370 - val_accuracy: 0.9268\n",
            "\n",
            "Epoch 00028: val_loss did not improve from 0.24672\n",
            "WARNING:tensorflow:Early stopping conditioned on metric `val_acc` which is not available. Available metrics are: loss,accuracy,val_loss,val_accuracy,lr\n",
            "Epoch 29/100\n",
            "53/53 [==============================] - 2s 30ms/step - loss: 0.0228 - accuracy: 0.9928 - val_loss: 0.4263 - val_accuracy: 0.9280\n",
            "\n",
            "Epoch 00029: val_loss did not improve from 0.24672\n",
            "WARNING:tensorflow:Early stopping conditioned on metric `val_acc` which is not available. Available metrics are: loss,accuracy,val_loss,val_accuracy,lr\n",
            "Epoch 30/100\n",
            "53/53 [==============================] - 2s 29ms/step - loss: 0.0210 - accuracy: 0.9922 - val_loss: 0.4448 - val_accuracy: 0.9304\n",
            "\n",
            "Epoch 00030: val_loss did not improve from 0.24672\n",
            "WARNING:tensorflow:Early stopping conditioned on metric `val_acc` which is not available. Available metrics are: loss,accuracy,val_loss,val_accuracy,lr\n",
            "Epoch 31/100\n",
            "53/53 [==============================] - 2s 29ms/step - loss: 0.0169 - accuracy: 0.9943 - val_loss: 0.4608 - val_accuracy: 0.9220\n",
            "\n",
            "Epoch 00031: val_loss did not improve from 0.24672\n",
            "WARNING:tensorflow:Early stopping conditioned on metric `val_acc` which is not available. Available metrics are: loss,accuracy,val_loss,val_accuracy,lr\n",
            "Epoch 32/100\n",
            "53/53 [==============================] - 2s 29ms/step - loss: 0.0153 - accuracy: 0.9964 - val_loss: 0.4604 - val_accuracy: 0.9268\n",
            "\n",
            "Epoch 00032: val_loss did not improve from 0.24672\n",
            "WARNING:tensorflow:Early stopping conditioned on metric `val_acc` which is not available. Available metrics are: loss,accuracy,val_loss,val_accuracy,lr\n",
            "Epoch 33/100\n",
            "53/53 [==============================] - 2s 29ms/step - loss: 0.0130 - accuracy: 0.9970 - val_loss: 0.4978 - val_accuracy: 0.9280\n",
            "\n",
            "Epoch 00033: val_loss did not improve from 0.24672\n",
            "WARNING:tensorflow:Early stopping conditioned on metric `val_acc` which is not available. Available metrics are: loss,accuracy,val_loss,val_accuracy,lr\n",
            "Epoch 34/100\n",
            "53/53 [==============================] - 2s 29ms/step - loss: 0.0147 - accuracy: 0.9955 - val_loss: 0.5133 - val_accuracy: 0.9256\n",
            "\n",
            "Epoch 00034: val_loss did not improve from 0.24672\n",
            "\n",
            "Epoch 00034: ReduceLROnPlateau reducing learning rate to 2.2500001068692655e-05.\n",
            "WARNING:tensorflow:Early stopping conditioned on metric `val_acc` which is not available. Available metrics are: loss,accuracy,val_loss,val_accuracy,lr\n",
            "Epoch 35/100\n",
            "53/53 [==============================] - 2s 30ms/step - loss: 0.0119 - accuracy: 0.9961 - val_loss: 0.4962 - val_accuracy: 0.9280\n",
            "\n",
            "Epoch 00035: val_loss did not improve from 0.24672\n",
            "WARNING:tensorflow:Early stopping conditioned on metric `val_acc` which is not available. Available metrics are: loss,accuracy,val_loss,val_accuracy,lr\n",
            "Epoch 36/100\n",
            "53/53 [==============================] - 2s 30ms/step - loss: 0.0114 - accuracy: 0.9967 - val_loss: 0.4983 - val_accuracy: 0.9292\n",
            "\n",
            "Epoch 00036: val_loss did not improve from 0.24672\n",
            "WARNING:tensorflow:Early stopping conditioned on metric `val_acc` which is not available. Available metrics are: loss,accuracy,val_loss,val_accuracy,lr\n",
            "Epoch 37/100\n",
            "53/53 [==============================] - 2s 30ms/step - loss: 0.0111 - accuracy: 0.9979 - val_loss: 0.5017 - val_accuracy: 0.9292\n",
            "\n",
            "Epoch 00037: val_loss did not improve from 0.24672\n",
            "WARNING:tensorflow:Early stopping conditioned on metric `val_acc` which is not available. Available metrics are: loss,accuracy,val_loss,val_accuracy,lr\n",
            "Epoch 38/100\n",
            "53/53 [==============================] - 2s 29ms/step - loss: 0.0114 - accuracy: 0.9976 - val_loss: 0.5005 - val_accuracy: 0.9268\n",
            "\n",
            "Epoch 00038: val_loss did not improve from 0.24672\n",
            "WARNING:tensorflow:Early stopping conditioned on metric `val_acc` which is not available. Available metrics are: loss,accuracy,val_loss,val_accuracy,lr\n",
            "Epoch 39/100\n",
            "53/53 [==============================] - 2s 29ms/step - loss: 0.0124 - accuracy: 0.9958 - val_loss: 0.5054 - val_accuracy: 0.9244\n",
            "\n",
            "Epoch 00039: val_loss did not improve from 0.24672\n",
            "WARNING:tensorflow:Early stopping conditioned on metric `val_acc` which is not available. Available metrics are: loss,accuracy,val_loss,val_accuracy,lr\n",
            "Epoch 40/100\n",
            "53/53 [==============================] - 2s 29ms/step - loss: 0.0108 - accuracy: 0.9970 - val_loss: 0.5062 - val_accuracy: 0.9268\n",
            "\n",
            "Epoch 00040: val_loss did not improve from 0.24672\n",
            "WARNING:tensorflow:Early stopping conditioned on metric `val_acc` which is not available. Available metrics are: loss,accuracy,val_loss,val_accuracy,lr\n",
            "Epoch 41/100\n",
            "53/53 [==============================] - 2s 29ms/step - loss: 0.0107 - accuracy: 0.9982 - val_loss: 0.5106 - val_accuracy: 0.9268\n",
            "\n",
            "Epoch 00041: val_loss did not improve from 0.24672\n",
            "WARNING:tensorflow:Early stopping conditioned on metric `val_acc` which is not available. Available metrics are: loss,accuracy,val_loss,val_accuracy,lr\n",
            "Epoch 42/100\n",
            "53/53 [==============================] - 2s 30ms/step - loss: 0.0101 - accuracy: 0.9973 - val_loss: 0.5106 - val_accuracy: 0.9268\n",
            "\n",
            "Epoch 00042: val_loss did not improve from 0.24672\n",
            "\n",
            "Epoch 00042: ReduceLROnPlateau reducing learning rate to 3.3750000511645338e-06.\n",
            "WARNING:tensorflow:Early stopping conditioned on metric `val_acc` which is not available. Available metrics are: loss,accuracy,val_loss,val_accuracy,lr\n",
            "Epoch 43/100\n",
            "53/53 [==============================] - 2s 30ms/step - loss: 0.0101 - accuracy: 0.9979 - val_loss: 0.5109 - val_accuracy: 0.9268\n",
            "\n",
            "Epoch 00043: val_loss did not improve from 0.24672\n",
            "WARNING:tensorflow:Early stopping conditioned on metric `val_acc` which is not available. Available metrics are: loss,accuracy,val_loss,val_accuracy,lr\n",
            "Epoch 44/100\n",
            "53/53 [==============================] - 2s 30ms/step - loss: 0.0105 - accuracy: 0.9973 - val_loss: 0.5115 - val_accuracy: 0.9280\n",
            "\n",
            "Epoch 00044: val_loss did not improve from 0.24672\n",
            "WARNING:tensorflow:Early stopping conditioned on metric `val_acc` which is not available. Available metrics are: loss,accuracy,val_loss,val_accuracy,lr\n",
            "Epoch 45/100\n",
            "53/53 [==============================] - 2s 30ms/step - loss: 0.0096 - accuracy: 0.9976 - val_loss: 0.5112 - val_accuracy: 0.9280\n",
            "\n",
            "Epoch 00045: val_loss did not improve from 0.24672\n",
            "WARNING:tensorflow:Early stopping conditioned on metric `val_acc` which is not available. Available metrics are: loss,accuracy,val_loss,val_accuracy,lr\n",
            "Epoch 46/100\n",
            "53/53 [==============================] - 2s 33ms/step - loss: 0.0101 - accuracy: 0.9982 - val_loss: 0.5120 - val_accuracy: 0.9280\n",
            "\n",
            "Epoch 00046: val_loss did not improve from 0.24672\n",
            "WARNING:tensorflow:Early stopping conditioned on metric `val_acc` which is not available. Available metrics are: loss,accuracy,val_loss,val_accuracy,lr\n",
            "Epoch 47/100\n",
            "53/53 [==============================] - 2s 30ms/step - loss: 0.0100 - accuracy: 0.9976 - val_loss: 0.5129 - val_accuracy: 0.9280\n",
            "\n",
            "Epoch 00047: val_loss did not improve from 0.24672\n",
            "WARNING:tensorflow:Early stopping conditioned on metric `val_acc` which is not available. Available metrics are: loss,accuracy,val_loss,val_accuracy,lr\n",
            "Epoch 48/100\n",
            "53/53 [==============================] - 2s 30ms/step - loss: 0.0104 - accuracy: 0.9979 - val_loss: 0.5137 - val_accuracy: 0.9280\n",
            "\n",
            "Epoch 00048: val_loss did not improve from 0.24672\n",
            "WARNING:tensorflow:Early stopping conditioned on metric `val_acc` which is not available. Available metrics are: loss,accuracy,val_loss,val_accuracy,lr\n",
            "Epoch 49/100\n",
            "53/53 [==============================] - 2s 30ms/step - loss: 0.0106 - accuracy: 0.9973 - val_loss: 0.5135 - val_accuracy: 0.9268\n",
            "\n",
            "Epoch 00049: val_loss did not improve from 0.24672\n",
            "WARNING:tensorflow:Early stopping conditioned on metric `val_acc` which is not available. Available metrics are: loss,accuracy,val_loss,val_accuracy,lr\n",
            "Epoch 50/100\n",
            "53/53 [==============================] - 2s 30ms/step - loss: 0.0100 - accuracy: 0.9973 - val_loss: 0.5130 - val_accuracy: 0.9268\n",
            "\n",
            "Epoch 00050: val_loss did not improve from 0.24672\n",
            "\n",
            "Epoch 00050: ReduceLROnPlateau reducing learning rate to 5.062500008534698e-07.\n",
            "WARNING:tensorflow:Early stopping conditioned on metric `val_acc` which is not available. Available metrics are: loss,accuracy,val_loss,val_accuracy,lr\n",
            "Epoch 51/100\n",
            "53/53 [==============================] - 2s 30ms/step - loss: 0.0100 - accuracy: 0.9979 - val_loss: 0.5133 - val_accuracy: 0.9268\n",
            "\n",
            "Epoch 00051: val_loss did not improve from 0.24672\n",
            "WARNING:tensorflow:Early stopping conditioned on metric `val_acc` which is not available. Available metrics are: loss,accuracy,val_loss,val_accuracy,lr\n",
            "Epoch 52/100\n",
            "53/53 [==============================] - 2s 30ms/step - loss: 0.0105 - accuracy: 0.9961 - val_loss: 0.5132 - val_accuracy: 0.9268\n",
            "\n",
            "Epoch 00052: val_loss did not improve from 0.24672\n",
            "WARNING:tensorflow:Early stopping conditioned on metric `val_acc` which is not available. Available metrics are: loss,accuracy,val_loss,val_accuracy,lr\n",
            "Epoch 53/100\n",
            "53/53 [==============================] - 2s 30ms/step - loss: 0.0093 - accuracy: 0.9985 - val_loss: 0.5134 - val_accuracy: 0.9268\n",
            "\n",
            "Epoch 00053: val_loss did not improve from 0.24672\n",
            "WARNING:tensorflow:Early stopping conditioned on metric `val_acc` which is not available. Available metrics are: loss,accuracy,val_loss,val_accuracy,lr\n",
            "Epoch 54/100\n",
            "53/53 [==============================] - 2s 30ms/step - loss: 0.0099 - accuracy: 0.9979 - val_loss: 0.5135 - val_accuracy: 0.9268\n",
            "\n",
            "Epoch 00054: val_loss did not improve from 0.24672\n",
            "WARNING:tensorflow:Early stopping conditioned on metric `val_acc` which is not available. Available metrics are: loss,accuracy,val_loss,val_accuracy,lr\n",
            "Epoch 55/100\n",
            "53/53 [==============================] - 2s 29ms/step - loss: 0.0096 - accuracy: 0.9973 - val_loss: 0.5137 - val_accuracy: 0.9268\n",
            "\n",
            "Epoch 00055: val_loss did not improve from 0.24672\n",
            "WARNING:tensorflow:Early stopping conditioned on metric `val_acc` which is not available. Available metrics are: loss,accuracy,val_loss,val_accuracy,lr\n",
            "Epoch 56/100\n",
            "53/53 [==============================] - 2s 30ms/step - loss: 0.0101 - accuracy: 0.9982 - val_loss: 0.5140 - val_accuracy: 0.9268\n",
            "\n",
            "Epoch 00056: val_loss did not improve from 0.24672\n",
            "WARNING:tensorflow:Early stopping conditioned on metric `val_acc` which is not available. Available metrics are: loss,accuracy,val_loss,val_accuracy,lr\n",
            "Epoch 57/100\n",
            "53/53 [==============================] - 2s 30ms/step - loss: 0.0099 - accuracy: 0.9973 - val_loss: 0.5141 - val_accuracy: 0.9268\n",
            "\n",
            "Epoch 00057: val_loss did not improve from 0.24672\n",
            "WARNING:tensorflow:Early stopping conditioned on metric `val_acc` which is not available. Available metrics are: loss,accuracy,val_loss,val_accuracy,lr\n",
            "Epoch 58/100\n",
            "53/53 [==============================] - 2s 30ms/step - loss: 0.0102 - accuracy: 0.9973 - val_loss: 0.5140 - val_accuracy: 0.9268\n",
            "\n",
            "Epoch 00058: val_loss did not improve from 0.24672\n",
            "\n",
            "Epoch 00058: ReduceLROnPlateau reducing learning rate to 7.59374984227179e-08.\n",
            "WARNING:tensorflow:Early stopping conditioned on metric `val_acc` which is not available. Available metrics are: loss,accuracy,val_loss,val_accuracy,lr\n",
            "Epoch 59/100\n",
            "53/53 [==============================] - 2s 30ms/step - loss: 0.0094 - accuracy: 0.9979 - val_loss: 0.5140 - val_accuracy: 0.9268\n",
            "\n",
            "Epoch 00059: val_loss did not improve from 0.24672\n",
            "WARNING:tensorflow:Early stopping conditioned on metric `val_acc` which is not available. Available metrics are: loss,accuracy,val_loss,val_accuracy,lr\n",
            "Epoch 60/100\n",
            "53/53 [==============================] - 2s 30ms/step - loss: 0.0095 - accuracy: 0.9979 - val_loss: 0.5140 - val_accuracy: 0.9268\n",
            "\n",
            "Epoch 00060: val_loss did not improve from 0.24672\n",
            "WARNING:tensorflow:Early stopping conditioned on metric `val_acc` which is not available. Available metrics are: loss,accuracy,val_loss,val_accuracy,lr\n",
            "Epoch 61/100\n",
            "53/53 [==============================] - 2s 29ms/step - loss: 0.0106 - accuracy: 0.9973 - val_loss: 0.5141 - val_accuracy: 0.9268\n",
            "\n",
            "Epoch 00061: val_loss did not improve from 0.24672\n",
            "WARNING:tensorflow:Early stopping conditioned on metric `val_acc` which is not available. Available metrics are: loss,accuracy,val_loss,val_accuracy,lr\n",
            "Epoch 62/100\n",
            "53/53 [==============================] - 2s 30ms/step - loss: 0.0094 - accuracy: 0.9973 - val_loss: 0.5141 - val_accuracy: 0.9268\n",
            "\n",
            "Epoch 00062: val_loss did not improve from 0.24672\n",
            "WARNING:tensorflow:Early stopping conditioned on metric `val_acc` which is not available. Available metrics are: loss,accuracy,val_loss,val_accuracy,lr\n",
            "Epoch 63/100\n",
            "53/53 [==============================] - 2s 33ms/step - loss: 0.0102 - accuracy: 0.9970 - val_loss: 0.5141 - val_accuracy: 0.9268\n",
            "\n",
            "Epoch 00063: val_loss did not improve from 0.24672\n",
            "WARNING:tensorflow:Early stopping conditioned on metric `val_acc` which is not available. Available metrics are: loss,accuracy,val_loss,val_accuracy,lr\n",
            "Epoch 64/100\n",
            "53/53 [==============================] - 2s 30ms/step - loss: 0.0105 - accuracy: 0.9973 - val_loss: 0.5141 - val_accuracy: 0.9268\n",
            "\n",
            "Epoch 00064: val_loss did not improve from 0.24672\n",
            "WARNING:tensorflow:Early stopping conditioned on metric `val_acc` which is not available. Available metrics are: loss,accuracy,val_loss,val_accuracy,lr\n",
            "Epoch 65/100\n",
            "53/53 [==============================] - 2s 30ms/step - loss: 0.0108 - accuracy: 0.9958 - val_loss: 0.5141 - val_accuracy: 0.9268\n",
            "\n",
            "Epoch 00065: val_loss did not improve from 0.24672\n",
            "WARNING:tensorflow:Early stopping conditioned on metric `val_acc` which is not available. Available metrics are: loss,accuracy,val_loss,val_accuracy,lr\n",
            "Epoch 66/100\n",
            "53/53 [==============================] - 2s 30ms/step - loss: 0.0089 - accuracy: 0.9982 - val_loss: 0.5142 - val_accuracy: 0.9268\n",
            "\n",
            "Epoch 00066: val_loss did not improve from 0.24672\n",
            "\n",
            "Epoch 00066: ReduceLROnPlateau reducing learning rate to 1.1390624976570507e-08.\n",
            "WARNING:tensorflow:Early stopping conditioned on metric `val_acc` which is not available. Available metrics are: loss,accuracy,val_loss,val_accuracy,lr\n",
            "Epoch 67/100\n",
            "53/53 [==============================] - 2s 30ms/step - loss: 0.0104 - accuracy: 0.9973 - val_loss: 0.5142 - val_accuracy: 0.9268\n",
            "\n",
            "Epoch 00067: val_loss did not improve from 0.24672\n",
            "WARNING:tensorflow:Early stopping conditioned on metric `val_acc` which is not available. Available metrics are: loss,accuracy,val_loss,val_accuracy,lr\n",
            "Epoch 68/100\n",
            "53/53 [==============================] - 2s 30ms/step - loss: 0.0099 - accuracy: 0.9967 - val_loss: 0.5142 - val_accuracy: 0.9268\n",
            "\n",
            "Epoch 00068: val_loss did not improve from 0.24672\n",
            "WARNING:tensorflow:Early stopping conditioned on metric `val_acc` which is not available. Available metrics are: loss,accuracy,val_loss,val_accuracy,lr\n",
            "Epoch 69/100\n",
            "53/53 [==============================] - 2s 29ms/step - loss: 0.0097 - accuracy: 0.9979 - val_loss: 0.5142 - val_accuracy: 0.9268\n",
            "\n",
            "Epoch 00069: val_loss did not improve from 0.24672\n",
            "WARNING:tensorflow:Early stopping conditioned on metric `val_acc` which is not available. Available metrics are: loss,accuracy,val_loss,val_accuracy,lr\n",
            "Epoch 70/100\n",
            "53/53 [==============================] - 2s 30ms/step - loss: 0.0107 - accuracy: 0.9976 - val_loss: 0.5142 - val_accuracy: 0.9268\n",
            "\n",
            "Epoch 00070: val_loss did not improve from 0.24672\n",
            "WARNING:tensorflow:Early stopping conditioned on metric `val_acc` which is not available. Available metrics are: loss,accuracy,val_loss,val_accuracy,lr\n",
            "Epoch 71/100\n",
            "53/53 [==============================] - 2s 30ms/step - loss: 0.0100 - accuracy: 0.9982 - val_loss: 0.5142 - val_accuracy: 0.9268\n",
            "\n",
            "Epoch 00071: val_loss did not improve from 0.24672\n",
            "WARNING:tensorflow:Early stopping conditioned on metric `val_acc` which is not available. Available metrics are: loss,accuracy,val_loss,val_accuracy,lr\n",
            "Epoch 72/100\n",
            "53/53 [==============================] - 2s 30ms/step - loss: 0.0099 - accuracy: 0.9982 - val_loss: 0.5142 - val_accuracy: 0.9268\n",
            "\n",
            "Epoch 00072: val_loss did not improve from 0.24672\n",
            "WARNING:tensorflow:Early stopping conditioned on metric `val_acc` which is not available. Available metrics are: loss,accuracy,val_loss,val_accuracy,lr\n",
            "Epoch 73/100\n",
            "53/53 [==============================] - 2s 31ms/step - loss: 0.0100 - accuracy: 0.9973 - val_loss: 0.5142 - val_accuracy: 0.9268\n",
            "\n",
            "Epoch 00073: val_loss did not improve from 0.24672\n",
            "WARNING:tensorflow:Early stopping conditioned on metric `val_acc` which is not available. Available metrics are: loss,accuracy,val_loss,val_accuracy,lr\n",
            "Epoch 74/100\n",
            "53/53 [==============================] - 2s 30ms/step - loss: 0.0101 - accuracy: 0.9973 - val_loss: 0.5142 - val_accuracy: 0.9268\n",
            "\n",
            "Epoch 00074: val_loss did not improve from 0.24672\n",
            "\n",
            "Epoch 00074: ReduceLROnPlateau reducing learning rate to 1.7085937997762811e-09.\n",
            "WARNING:tensorflow:Early stopping conditioned on metric `val_acc` which is not available. Available metrics are: loss,accuracy,val_loss,val_accuracy,lr\n",
            "Epoch 75/100\n",
            "53/53 [==============================] - 2s 30ms/step - loss: 0.0099 - accuracy: 0.9976 - val_loss: 0.5142 - val_accuracy: 0.9268\n",
            "\n",
            "Epoch 00075: val_loss did not improve from 0.24672\n",
            "WARNING:tensorflow:Early stopping conditioned on metric `val_acc` which is not available. Available metrics are: loss,accuracy,val_loss,val_accuracy,lr\n",
            "Epoch 76/100\n",
            "53/53 [==============================] - 2s 30ms/step - loss: 0.0117 - accuracy: 0.9961 - val_loss: 0.5142 - val_accuracy: 0.9268\n",
            "\n",
            "Epoch 00076: val_loss did not improve from 0.24672\n",
            "WARNING:tensorflow:Early stopping conditioned on metric `val_acc` which is not available. Available metrics are: loss,accuracy,val_loss,val_accuracy,lr\n",
            "Epoch 77/100\n",
            "53/53 [==============================] - 2s 30ms/step - loss: 0.0098 - accuracy: 0.9982 - val_loss: 0.5142 - val_accuracy: 0.9268\n",
            "\n",
            "Epoch 00077: val_loss did not improve from 0.24672\n",
            "WARNING:tensorflow:Early stopping conditioned on metric `val_acc` which is not available. Available metrics are: loss,accuracy,val_loss,val_accuracy,lr\n",
            "Epoch 78/100\n",
            "53/53 [==============================] - 2s 30ms/step - loss: 0.0099 - accuracy: 0.9973 - val_loss: 0.5142 - val_accuracy: 0.9268\n",
            "\n",
            "Epoch 00078: val_loss did not improve from 0.24672\n",
            "WARNING:tensorflow:Early stopping conditioned on metric `val_acc` which is not available. Available metrics are: loss,accuracy,val_loss,val_accuracy,lr\n",
            "Epoch 79/100\n",
            "53/53 [==============================] - 2s 30ms/step - loss: 0.0101 - accuracy: 0.9976 - val_loss: 0.5142 - val_accuracy: 0.9268\n",
            "\n",
            "Epoch 00079: val_loss did not improve from 0.24672\n",
            "WARNING:tensorflow:Early stopping conditioned on metric `val_acc` which is not available. Available metrics are: loss,accuracy,val_loss,val_accuracy,lr\n",
            "Epoch 80/100\n",
            "53/53 [==============================] - 2s 30ms/step - loss: 0.0100 - accuracy: 0.9976 - val_loss: 0.5142 - val_accuracy: 0.9268\n",
            "\n",
            "Epoch 00080: val_loss did not improve from 0.24672\n",
            "WARNING:tensorflow:Early stopping conditioned on metric `val_acc` which is not available. Available metrics are: loss,accuracy,val_loss,val_accuracy,lr\n",
            "Epoch 81/100\n",
            "53/53 [==============================] - 2s 30ms/step - loss: 0.0101 - accuracy: 0.9976 - val_loss: 0.5142 - val_accuracy: 0.9268\n",
            "\n",
            "Epoch 00081: val_loss did not improve from 0.24672\n",
            "WARNING:tensorflow:Early stopping conditioned on metric `val_acc` which is not available. Available metrics are: loss,accuracy,val_loss,val_accuracy,lr\n",
            "Epoch 82/100\n",
            "53/53 [==============================] - 2s 33ms/step - loss: 0.0120 - accuracy: 0.9961 - val_loss: 0.5142 - val_accuracy: 0.9268\n",
            "\n",
            "Epoch 00082: val_loss did not improve from 0.24672\n",
            "\n",
            "Epoch 00082: ReduceLROnPlateau reducing learning rate to 2.5628907329711126e-10.\n",
            "WARNING:tensorflow:Early stopping conditioned on metric `val_acc` which is not available. Available metrics are: loss,accuracy,val_loss,val_accuracy,lr\n",
            "Epoch 83/100\n",
            "53/53 [==============================] - 2s 30ms/step - loss: 0.0110 - accuracy: 0.9973 - val_loss: 0.5142 - val_accuracy: 0.9268\n",
            "\n",
            "Epoch 00083: val_loss did not improve from 0.24672\n",
            "WARNING:tensorflow:Early stopping conditioned on metric `val_acc` which is not available. Available metrics are: loss,accuracy,val_loss,val_accuracy,lr\n",
            "Epoch 84/100\n",
            "53/53 [==============================] - 2s 31ms/step - loss: 0.0109 - accuracy: 0.9970 - val_loss: 0.5142 - val_accuracy: 0.9268\n",
            "\n",
            "Epoch 00084: val_loss did not improve from 0.24672\n",
            "WARNING:tensorflow:Early stopping conditioned on metric `val_acc` which is not available. Available metrics are: loss,accuracy,val_loss,val_accuracy,lr\n",
            "Epoch 85/100\n",
            "53/53 [==============================] - 2s 30ms/step - loss: 0.0103 - accuracy: 0.9973 - val_loss: 0.5142 - val_accuracy: 0.9268\n",
            "\n",
            "Epoch 00085: val_loss did not improve from 0.24672\n",
            "WARNING:tensorflow:Early stopping conditioned on metric `val_acc` which is not available. Available metrics are: loss,accuracy,val_loss,val_accuracy,lr\n",
            "Epoch 86/100\n",
            "53/53 [==============================] - 2s 30ms/step - loss: 0.0095 - accuracy: 0.9973 - val_loss: 0.5142 - val_accuracy: 0.9268\n",
            "\n",
            "Epoch 00086: val_loss did not improve from 0.24672\n",
            "WARNING:tensorflow:Early stopping conditioned on metric `val_acc` which is not available. Available metrics are: loss,accuracy,val_loss,val_accuracy,lr\n",
            "Epoch 87/100\n",
            "53/53 [==============================] - 2s 30ms/step - loss: 0.0100 - accuracy: 0.9973 - val_loss: 0.5142 - val_accuracy: 0.9268\n",
            "\n",
            "Epoch 00087: val_loss did not improve from 0.24672\n",
            "WARNING:tensorflow:Early stopping conditioned on metric `val_acc` which is not available. Available metrics are: loss,accuracy,val_loss,val_accuracy,lr\n",
            "Epoch 88/100\n",
            "53/53 [==============================] - 2s 30ms/step - loss: 0.0095 - accuracy: 0.9976 - val_loss: 0.5142 - val_accuracy: 0.9268\n",
            "\n",
            "Epoch 00088: val_loss did not improve from 0.24672\n",
            "WARNING:tensorflow:Early stopping conditioned on metric `val_acc` which is not available. Available metrics are: loss,accuracy,val_loss,val_accuracy,lr\n",
            "Epoch 89/100\n",
            "53/53 [==============================] - 2s 31ms/step - loss: 0.0108 - accuracy: 0.9958 - val_loss: 0.5142 - val_accuracy: 0.9268\n",
            "\n",
            "Epoch 00089: val_loss did not improve from 0.24672\n",
            "WARNING:tensorflow:Early stopping conditioned on metric `val_acc` which is not available. Available metrics are: loss,accuracy,val_loss,val_accuracy,lr\n",
            "Epoch 90/100\n",
            "53/53 [==============================] - 2s 33ms/step - loss: 0.0100 - accuracy: 0.9976 - val_loss: 0.5142 - val_accuracy: 0.9268\n",
            "\n",
            "Epoch 00090: val_loss did not improve from 0.24672\n",
            "\n",
            "Epoch 00090: ReduceLROnPlateau reducing learning rate to 3.844336099456669e-11.\n",
            "WARNING:tensorflow:Early stopping conditioned on metric `val_acc` which is not available. Available metrics are: loss,accuracy,val_loss,val_accuracy,lr\n",
            "Epoch 91/100\n",
            "53/53 [==============================] - 2s 30ms/step - loss: 0.0095 - accuracy: 0.9976 - val_loss: 0.5142 - val_accuracy: 0.9268\n",
            "\n",
            "Epoch 00091: val_loss did not improve from 0.24672\n",
            "WARNING:tensorflow:Early stopping conditioned on metric `val_acc` which is not available. Available metrics are: loss,accuracy,val_loss,val_accuracy,lr\n",
            "Epoch 92/100\n",
            "53/53 [==============================] - 2s 30ms/step - loss: 0.0107 - accuracy: 0.9976 - val_loss: 0.5142 - val_accuracy: 0.9268\n",
            "\n",
            "Epoch 00092: val_loss did not improve from 0.24672\n",
            "WARNING:tensorflow:Early stopping conditioned on metric `val_acc` which is not available. Available metrics are: loss,accuracy,val_loss,val_accuracy,lr\n",
            "Epoch 93/100\n",
            "53/53 [==============================] - 2s 31ms/step - loss: 0.0098 - accuracy: 0.9973 - val_loss: 0.5142 - val_accuracy: 0.9268\n",
            "\n",
            "Epoch 00093: val_loss did not improve from 0.24672\n",
            "WARNING:tensorflow:Early stopping conditioned on metric `val_acc` which is not available. Available metrics are: loss,accuracy,val_loss,val_accuracy,lr\n",
            "Epoch 94/100\n",
            "53/53 [==============================] - 2s 30ms/step - loss: 0.0097 - accuracy: 0.9973 - val_loss: 0.5142 - val_accuracy: 0.9268\n",
            "\n",
            "Epoch 00094: val_loss did not improve from 0.24672\n",
            "WARNING:tensorflow:Early stopping conditioned on metric `val_acc` which is not available. Available metrics are: loss,accuracy,val_loss,val_accuracy,lr\n",
            "Epoch 95/100\n",
            "53/53 [==============================] - 2s 30ms/step - loss: 0.0098 - accuracy: 0.9982 - val_loss: 0.5142 - val_accuracy: 0.9268\n",
            "\n",
            "Epoch 00095: val_loss did not improve from 0.24672\n",
            "WARNING:tensorflow:Early stopping conditioned on metric `val_acc` which is not available. Available metrics are: loss,accuracy,val_loss,val_accuracy,lr\n",
            "Epoch 96/100\n",
            "53/53 [==============================] - 2s 30ms/step - loss: 0.0111 - accuracy: 0.9973 - val_loss: 0.5142 - val_accuracy: 0.9268\n",
            "\n",
            "Epoch 00096: val_loss did not improve from 0.24672\n",
            "WARNING:tensorflow:Early stopping conditioned on metric `val_acc` which is not available. Available metrics are: loss,accuracy,val_loss,val_accuracy,lr\n",
            "Epoch 97/100\n",
            "53/53 [==============================] - 2s 30ms/step - loss: 0.0101 - accuracy: 0.9976 - val_loss: 0.5142 - val_accuracy: 0.9268\n",
            "\n",
            "Epoch 00097: val_loss did not improve from 0.24672\n",
            "WARNING:tensorflow:Early stopping conditioned on metric `val_acc` which is not available. Available metrics are: loss,accuracy,val_loss,val_accuracy,lr\n",
            "Epoch 98/100\n",
            "53/53 [==============================] - 2s 30ms/step - loss: 0.0104 - accuracy: 0.9979 - val_loss: 0.5142 - val_accuracy: 0.9268\n",
            "\n",
            "Epoch 00098: val_loss did not improve from 0.24672\n",
            "\n",
            "Epoch 00098: ReduceLROnPlateau reducing learning rate to 5.766503941018186e-12.\n",
            "WARNING:tensorflow:Early stopping conditioned on metric `val_acc` which is not available. Available metrics are: loss,accuracy,val_loss,val_accuracy,lr\n",
            "Epoch 99/100\n",
            "53/53 [==============================] - 2s 30ms/step - loss: 0.0107 - accuracy: 0.9982 - val_loss: 0.5142 - val_accuracy: 0.9268\n",
            "\n",
            "Epoch 00099: val_loss did not improve from 0.24672\n",
            "WARNING:tensorflow:Early stopping conditioned on metric `val_acc` which is not available. Available metrics are: loss,accuracy,val_loss,val_accuracy,lr\n",
            "Epoch 100/100\n",
            "53/53 [==============================] - 2s 33ms/step - loss: 0.0095 - accuracy: 0.9973 - val_loss: 0.5142 - val_accuracy: 0.9268\n",
            "\n",
            "Epoch 00100: val_loss did not improve from 0.24672\n",
            "WARNING:tensorflow:Early stopping conditioned on metric `val_acc` which is not available. Available metrics are: loss,accuracy,val_loss,val_accuracy,lr\n"
          ]
        }
      ]
    },
    {
      "cell_type": "code",
      "metadata": {
        "colab": {
          "base_uri": "https://localhost:8080/",
          "height": 573
        },
        "id": "JkigQ40LYWVR",
        "outputId": "d12ba20e-cb5b-469c-db41-e7bcc4ce1cd7"
      },
      "source": [
        "plt.plot(hist.history['accuracy'])\n",
        "plt.plot(hist.history['val_accuracy'])\n",
        "plt.title('Model Accuracy')\n",
        "plt.ylabel('Accuracy')\n",
        "plt.xlabel('Epoch')\n",
        "plt.legend(['Train', 'Val'], loc='upper right')\n",
        "plt.show()\n",
        "\n",
        "\n",
        "plt.plot(hist.history['loss'])\n",
        "plt.plot(hist.history['val_loss'])\n",
        "plt.title('Model Loss')\n",
        "plt.ylabel('Loss')\n",
        "plt.xlabel('Epoch')\n",
        "plt.legend(['Train', 'Val'], loc='upper right')\n",
        "plt.show()"
      ],
      "execution_count": 49,
      "outputs": [
        {
          "output_type": "display_data",
          "data": {
            "image/png": "[encoded data removed]",
            "text/plain": [
              "<Figure size 432x288 with 1 Axes>"
            ]
          },
          "metadata": {
            "needs_background": "light"
          }
        },
        {
          "output_type": "display_data",
          "data": {
            "image/png": "[encoded data removed]",
            "text/plain": [
              "<Figure size 432x288 with 1 Axes>"
            ]
          },
          "metadata": {
            "needs_background": "light"
          }
        }
      ]
    },
    {
      "cell_type": "code",
      "metadata": {
        "id": "wK_S2W3JYWTF"
      },
      "source": [
        "def plot_confusion_matrix(cm, classes,\n",
        "                          normalize=False,\n",
        "                          title='Confusion matrix',\n",
        "                          cmap=plt.cm.Blues):\n",
        "    \"\"\"\n",
        "    This function prints and plots the confusion matrix.\n",
        "    Normalization can be applied by setting `normalize=True`.\n",
        "    \"\"\"\n",
        "    plt.imshow(cm, interpolation='nearest', cmap=cmap)\n",
        "    plt.title(title)\n",
        "    plt.colorbar()\n",
        "    tick_marks = np.arange(len(classes))\n",
        "    plt.xticks(tick_marks, classes, rotation=45)\n",
        "    plt.yticks(tick_marks, classes)\n",
        "\n",
        "    if normalize:\n",
        "        cm = cm.astype('float') / cm.sum(axis=1)[:, np.newaxis]\n",
        "\n",
        "    thresh = cm.max() / 2.\n",
        "    for i, j in itertools.product(range(cm.shape[0]), range(cm.shape[1])):\n",
        "        plt.text(j, i, cm[i, j],\n",
        "                 horizontalalignment=\"center\",\n",
        "                 color=\"white\" if cm[i, j] > thresh else \"black\")\n",
        "\n",
        "    plt.tight_layout()\n",
        "    plt.ylabel('True label')\n",
        "    plt.xlabel('Predicted label')"
      ],
      "execution_count": 50,
      "outputs": []
    },
    {
      "cell_type": "code",
      "metadata": {
        "colab": {
          "base_uri": "https://localhost:8080/",
          "height": 311
        },
        "id": "VSMT5_KCYWQL",
        "outputId": "7de2f0c6-3371-44b9-e099-171191c19bcf"
      },
      "source": [
        "# Predict the values from the validation dataset\n",
        "Y_pred = model.predict(X_val)\n",
        "# Convert predictions classes to one hot vectors \n",
        "Y_pred_classes = np.argmax(Y_pred,axis = 1) \n",
        "# Convert validation observations to one hot vectors\n",
        "Y_true = np.argmax(Y_val,axis = 1) \n",
        "# compute the confusion matrix\n",
        "confusion_mtx = confusion_matrix(Y_true, Y_pred_classes) \n",
        "# plot the confusion matrix\n",
        "plot_confusion_matrix(confusion_mtx, classes = range(2))"
      ],
      "execution_count": 51,
      "outputs": [
        {
          "output_type": "display_data",
          "data": {
            "image/png": "[encoded data removed]",
            "text/plain": [
              "<Figure size 432x288 with 2 Axes>"
            ]
          },
          "metadata": {
            "needs_background": "light"
          }
        }
      ]
    },
    {
      "cell_type": "code",
      "metadata": {
        "id": "4aW319gJbiNy"
      },
      "source": [
        "class_names = ['fake', 'real']"
      ],
      "execution_count": 52,
      "outputs": []
    },
    {
      "cell_type": "code",
      "metadata": {
        "id": "dOsCb3fBbiIJ"
      },
      "source": [
        "fake_image = os.listdir('/content/casia-dataset/CASIA2/Tp/')\n",
        "correct = 0\n",
        "total = 0\n",
        "for file_name in fake_image:\n",
        "    if file_name.endswith('jpg') or filename.endswith('png'):\n",
        "        fake_image_path = os.path.join('/content/casia-dataset/CASIA2/Tp/', file_name)\n",
        "        image = prepare_image(fake_image_path)\n",
        "        image = image.reshape(-1, 128, 128, 3)\n",
        "        y_pred = model.predict(image)\n",
        "        y_pred_class = np.argmax(y_pred, axis = 1)[0]\n",
        "        total += 1\n",
        "        if y_pred_class == 0:\n",
        "            correct += 1"
      ],
      "execution_count": 55,
      "outputs": []
    },
    {
      "cell_type": "code",
      "metadata": {
        "id": "9Q7n-tY9b3fZ",
        "outputId": "5bbc0065-033c-4464-885f-f1717c9dc5a7",
        "colab": {
          "base_uri": "https://localhost:8080/"
        }
      },
      "source": [
        "print(f'Total: {total}, Correct: {correct}, Acc: {correct / total * 100.0}')\n"
      ],
      "execution_count": 56,
      "outputs": [
        {
          "output_type": "stream",
          "name": "stdout",
          "text": [
            "Total: 2064, Correct: 2042, Acc: 98.93410852713178\n"
          ]
        }
      ]
    },
    {
      "cell_type": "code",
      "metadata": {
        "id": "z9edkGzRb3bZ",
        "outputId": "6b180338-f48e-4390-aa0c-3f72fdaa9e3e",
        "colab": {
          "base_uri": "https://localhost:8080/"
        }
      },
      "source": [
        "real_image = os.listdir('/content/casia-dataset/CASIA2/Au/')\n",
        "correct_r = 0\n",
        "total_r = 0\n",
        "for file_name in real_image:\n",
        "    if file_name.endswith('jpg') or filename.endswith('png'):\n",
        "        real_image_path = os.path.join('/content/casia-dataset/CASIA2/Au/', file_name)\n",
        "        image = prepare_image(real_image_path)\n",
        "        image = image.reshape(-1, 128, 128, 3)\n",
        "        y_pred = model.predict(image)\n",
        "        y_pred_class = np.argmax(y_pred, axis = 1)[0]\n",
        "        total_r += 1\n",
        "        if y_pred_class == 1:\n",
        "            correct_r += 1"
      ],
      "execution_count": 57,
      "outputs": [
        {
          "output_type": "stream",
          "name": "stderr",
          "text": [
            "/usr/local/lib/python3.7/dist-packages/PIL/TiffImagePlugin.py:770: UserWarning: Possibly corrupt EXIF data.  Expecting to read 8 bytes but only got 2. Skipping tag 41487\n",
            "  \" Skipping tag %s\" % (size, len(data), tag)\n",
            "/usr/local/lib/python3.7/dist-packages/PIL/TiffImagePlugin.py:770: UserWarning: Possibly corrupt EXIF data.  Expecting to read 8 bytes but only got 0. Skipping tag 41988\n",
            "  \" Skipping tag %s\" % (size, len(data), tag)\n"
          ]
        }
      ]
    },
    {
      "cell_type": "code",
      "metadata": {
        "id": "V6W4BLFucwkH",
        "outputId": "b0d2b7a1-caa5-4ac7-c962-c7488a8d48e7",
        "colab": {
          "base_uri": "https://localhost:8080/"
        }
      },
      "source": [
        "correct += correct_r\n",
        "total += total_r\n",
        "print(f'Total: {total_r}, Correct: {correct_r}, Acc: {correct_r / total_r * 100.0}')\n",
        "print(f'Total: {total}, Correct: {correct}, Acc: {correct / total * 100.0}')"
      ],
      "execution_count": 58,
      "outputs": [
        {
          "output_type": "stream",
          "name": "stdout",
          "text": [
            "Total: 7354, Correct: 6789, Acc: 92.31710633668752\n",
            "Total: 9418, Correct: 8831, Acc: 93.76725419409641\n"
          ]
        }
      ]
    }
  ]
}