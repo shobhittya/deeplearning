{
  "nbformat": 4,
  "nbformat_minor": 0,
  "metadata": {
    "colab": {
      "name": "ViT_CASIA2.ipynb",
      "provenance": [],
      "collapsed_sections": [],
      "authorship_tag": "ABX9TyPXWbsLAmrOxFeSesJ1AGTR",
      "include_colab_link": true
    },
    "kernelspec": {
      "name": "python3",
      "display_name": "Python 3"
    },
    "language_info": {
      "name": "python"
    },
    "accelerator": "GPU"
  },
  "cells": [
    {
      "cell_type": "markdown",
      "metadata": {
        "id": "view-in-github",
        "colab_type": "text"
      },
      "source": [
        "<a href=\"https://colab.research.google.com/github/shobhittya/deeplearning/blob/main/ViT_CASIA2.ipynb\" target=\"_parent\"><img src=\"https://colab.research.google.com/assets/colab-badge.svg\" alt=\"Open In Colab\"/></a>"
      ]
    },
    {
      "cell_type": "code",
      "metadata": {
        "colab": {
          "base_uri": "https://localhost:8080/"
        },
        "id": "VC_UileKzSZf",
        "outputId": "f7e06f0a-e772-4dfc-f5a8-6d6716f28338"
      },
      "source": [
        "pip install -U tensorflow-addons"
      ],
      "execution_count": 1,
      "outputs": [
        {
          "output_type": "stream",
          "name": "stdout",
          "text": [
            "Collecting tensorflow-addons\n",
            "  Downloading tensorflow_addons-0.14.0-cp37-cp37m-manylinux_2_12_x86_64.manylinux2010_x86_64.whl (1.1 MB)\n",
            "\u001b[?25l\r\u001b[K     |▎                               | 10 kB 34.3 MB/s eta 0:00:01\r\u001b[K     |▋                               | 20 kB 34.9 MB/s eta 0:00:01\r\u001b[K     |▉                               | 30 kB 39.3 MB/s eta 0:00:01\r\u001b[K     |█▏                              | 40 kB 26.6 MB/s eta 0:00:01\r\u001b[K     |█▌                              | 51 kB 18.9 MB/s eta 0:00:01\r\u001b[K     |█▊                              | 61 kB 15.7 MB/s eta 0:00:01\r\u001b[K     |██                              | 71 kB 16.9 MB/s eta 0:00:01\r\u001b[K     |██▍                             | 81 kB 18.6 MB/s eta 0:00:01\r\u001b[K     |██▋                             | 92 kB 19.0 MB/s eta 0:00:01\r\u001b[K     |███                             | 102 kB 16.6 MB/s eta 0:00:01\r\u001b[K     |███▎                            | 112 kB 16.6 MB/s eta 0:00:01\r\u001b[K     |███▌                            | 122 kB 16.6 MB/s eta 0:00:01\r\u001b[K     |███▉                            | 133 kB 16.6 MB/s eta 0:00:01\r\u001b[K     |████▏                           | 143 kB 16.6 MB/s eta 0:00:01\r\u001b[K     |████▍                           | 153 kB 16.6 MB/s eta 0:00:01\r\u001b[K     |████▊                           | 163 kB 16.6 MB/s eta 0:00:01\r\u001b[K     |█████                           | 174 kB 16.6 MB/s eta 0:00:01\r\u001b[K     |█████▎                          | 184 kB 16.6 MB/s eta 0:00:01\r\u001b[K     |█████▋                          | 194 kB 16.6 MB/s eta 0:00:01\r\u001b[K     |██████                          | 204 kB 16.6 MB/s eta 0:00:01\r\u001b[K     |██████▏                         | 215 kB 16.6 MB/s eta 0:00:01\r\u001b[K     |██████▌                         | 225 kB 16.6 MB/s eta 0:00:01\r\u001b[K     |██████▉                         | 235 kB 16.6 MB/s eta 0:00:01\r\u001b[K     |███████                         | 245 kB 16.6 MB/s eta 0:00:01\r\u001b[K     |███████▍                        | 256 kB 16.6 MB/s eta 0:00:01\r\u001b[K     |███████▊                        | 266 kB 16.6 MB/s eta 0:00:01\r\u001b[K     |████████                        | 276 kB 16.6 MB/s eta 0:00:01\r\u001b[K     |████████▎                       | 286 kB 16.6 MB/s eta 0:00:01\r\u001b[K     |████████▋                       | 296 kB 16.6 MB/s eta 0:00:01\r\u001b[K     |████████▉                       | 307 kB 16.6 MB/s eta 0:00:01\r\u001b[K     |█████████▏                      | 317 kB 16.6 MB/s eta 0:00:01\r\u001b[K     |█████████▌                      | 327 kB 16.6 MB/s eta 0:00:01\r\u001b[K     |█████████▊                      | 337 kB 16.6 MB/s eta 0:00:01\r\u001b[K     |██████████                      | 348 kB 16.6 MB/s eta 0:00:01\r\u001b[K     |██████████▍                     | 358 kB 16.6 MB/s eta 0:00:01\r\u001b[K     |██████████▋                     | 368 kB 16.6 MB/s eta 0:00:01\r\u001b[K     |███████████                     | 378 kB 16.6 MB/s eta 0:00:01\r\u001b[K     |███████████▎                    | 389 kB 16.6 MB/s eta 0:00:01\r\u001b[K     |███████████▌                    | 399 kB 16.6 MB/s eta 0:00:01\r\u001b[K     |███████████▉                    | 409 kB 16.6 MB/s eta 0:00:01\r\u001b[K     |████████████▏                   | 419 kB 16.6 MB/s eta 0:00:01\r\u001b[K     |████████████▍                   | 430 kB 16.6 MB/s eta 0:00:01\r\u001b[K     |████████████▊                   | 440 kB 16.6 MB/s eta 0:00:01\r\u001b[K     |█████████████                   | 450 kB 16.6 MB/s eta 0:00:01\r\u001b[K     |█████████████▎                  | 460 kB 16.6 MB/s eta 0:00:01\r\u001b[K     |█████████████▋                  | 471 kB 16.6 MB/s eta 0:00:01\r\u001b[K     |██████████████                  | 481 kB 16.6 MB/s eta 0:00:01\r\u001b[K     |██████████████▏                 | 491 kB 16.6 MB/s eta 0:00:01\r\u001b[K     |██████████████▌                 | 501 kB 16.6 MB/s eta 0:00:01\r\u001b[K     |██████████████▉                 | 512 kB 16.6 MB/s eta 0:00:01\r\u001b[K     |███████████████                 | 522 kB 16.6 MB/s eta 0:00:01\r\u001b[K     |███████████████▍                | 532 kB 16.6 MB/s eta 0:00:01\r\u001b[K     |███████████████▊                | 542 kB 16.6 MB/s eta 0:00:01\r\u001b[K     |████████████████                | 552 kB 16.6 MB/s eta 0:00:01\r\u001b[K     |████████████████▎               | 563 kB 16.6 MB/s eta 0:00:01\r\u001b[K     |████████████████▋               | 573 kB 16.6 MB/s eta 0:00:01\r\u001b[K     |████████████████▉               | 583 kB 16.6 MB/s eta 0:00:01\r\u001b[K     |█████████████████▏              | 593 kB 16.6 MB/s eta 0:00:01\r\u001b[K     |█████████████████▌              | 604 kB 16.6 MB/s eta 0:00:01\r\u001b[K     |█████████████████▊              | 614 kB 16.6 MB/s eta 0:00:01\r\u001b[K     |██████████████████              | 624 kB 16.6 MB/s eta 0:00:01\r\u001b[K     |██████████████████▍             | 634 kB 16.6 MB/s eta 0:00:01\r\u001b[K     |██████████████████▋             | 645 kB 16.6 MB/s eta 0:00:01\r\u001b[K     |███████████████████             | 655 kB 16.6 MB/s eta 0:00:01\r\u001b[K     |███████████████████▎            | 665 kB 16.6 MB/s eta 0:00:01\r\u001b[K     |███████████████████▌            | 675 kB 16.6 MB/s eta 0:00:01\r\u001b[K     |███████████████████▉            | 686 kB 16.6 MB/s eta 0:00:01\r\u001b[K     |████████████████████▏           | 696 kB 16.6 MB/s eta 0:00:01\r\u001b[K     |████████████████████▍           | 706 kB 16.6 MB/s eta 0:00:01\r\u001b[K     |████████████████████▊           | 716 kB 16.6 MB/s eta 0:00:01\r\u001b[K     |█████████████████████           | 727 kB 16.6 MB/s eta 0:00:01\r\u001b[K     |█████████████████████▎          | 737 kB 16.6 MB/s eta 0:00:01\r\u001b[K     |█████████████████████▋          | 747 kB 16.6 MB/s eta 0:00:01\r\u001b[K     |██████████████████████          | 757 kB 16.6 MB/s eta 0:00:01\r\u001b[K     |██████████████████████▏         | 768 kB 16.6 MB/s eta 0:00:01\r\u001b[K     |██████████████████████▌         | 778 kB 16.6 MB/s eta 0:00:01\r\u001b[K     |██████████████████████▉         | 788 kB 16.6 MB/s eta 0:00:01\r\u001b[K     |███████████████████████         | 798 kB 16.6 MB/s eta 0:00:01\r\u001b[K     |███████████████████████▍        | 808 kB 16.6 MB/s eta 0:00:01\r\u001b[K     |███████████████████████▊        | 819 kB 16.6 MB/s eta 0:00:01\r\u001b[K     |████████████████████████        | 829 kB 16.6 MB/s eta 0:00:01\r\u001b[K     |████████████████████████▎       | 839 kB 16.6 MB/s eta 0:00:01\r\u001b[K     |████████████████████████▋       | 849 kB 16.6 MB/s eta 0:00:01\r\u001b[K     |████████████████████████▉       | 860 kB 16.6 MB/s eta 0:00:01\r\u001b[K     |█████████████████████████▏      | 870 kB 16.6 MB/s eta 0:00:01\r\u001b[K     |█████████████████████████▍      | 880 kB 16.6 MB/s eta 0:00:01\r\u001b[K     |█████████████████████████▊      | 890 kB 16.6 MB/s eta 0:00:01\r\u001b[K     |██████████████████████████      | 901 kB 16.6 MB/s eta 0:00:01\r\u001b[K     |██████████████████████████▎     | 911 kB 16.6 MB/s eta 0:00:01\r\u001b[K     |██████████████████████████▋     | 921 kB 16.6 MB/s eta 0:00:01\r\u001b[K     |███████████████████████████     | 931 kB 16.6 MB/s eta 0:00:01\r\u001b[K     |███████████████████████████▏    | 942 kB 16.6 MB/s eta 0:00:01\r\u001b[K     |███████████████████████████▌    | 952 kB 16.6 MB/s eta 0:00:01\r\u001b[K     |███████████████████████████▉    | 962 kB 16.6 MB/s eta 0:00:01\r\u001b[K     |████████████████████████████    | 972 kB 16.6 MB/s eta 0:00:01\r\u001b[K     |████████████████████████████▍   | 983 kB 16.6 MB/s eta 0:00:01\r\u001b[K     |████████████████████████████▊   | 993 kB 16.6 MB/s eta 0:00:01\r\u001b[K     |█████████████████████████████   | 1.0 MB 16.6 MB/s eta 0:00:01\r\u001b[K     |█████████████████████████████▎  | 1.0 MB 16.6 MB/s eta 0:00:01\r\u001b[K     |█████████████████████████████▋  | 1.0 MB 16.6 MB/s eta 0:00:01\r\u001b[K     |█████████████████████████████▉  | 1.0 MB 16.6 MB/s eta 0:00:01\r\u001b[K     |██████████████████████████████▏ | 1.0 MB 16.6 MB/s eta 0:00:01\r\u001b[K     |██████████████████████████████▌ | 1.1 MB 16.6 MB/s eta 0:00:01\r\u001b[K     |██████████████████████████████▊ | 1.1 MB 16.6 MB/s eta 0:00:01\r\u001b[K     |███████████████████████████████ | 1.1 MB 16.6 MB/s eta 0:00:01\r\u001b[K     |███████████████████████████████▍| 1.1 MB 16.6 MB/s eta 0:00:01\r\u001b[K     |███████████████████████████████▋| 1.1 MB 16.6 MB/s eta 0:00:01\r\u001b[K     |████████████████████████████████| 1.1 MB 16.6 MB/s eta 0:00:01\r\u001b[K     |████████████████████████████████| 1.1 MB 16.6 MB/s \n",
            "\u001b[?25hRequirement already satisfied: typeguard>=2.7 in /usr/local/lib/python3.7/dist-packages (from tensorflow-addons) (2.7.1)\n",
            "Installing collected packages: tensorflow-addons\n",
            "Successfully installed tensorflow-addons-0.14.0\n"
          ]
        }
      ]
    },
    {
      "cell_type": "code",
      "metadata": {
        "id": "dAcVvz-MynhQ"
      },
      "source": [
        "import numpy as np\n",
        "import matplotlib.pyplot as plt\n",
        "from tensorflow.keras.layers import Input, Dense, Flatten, Conv2D, MaxPooling2D, BatchNormalization, Dropout, Reshape, Concatenate, LeakyReLU\n",
        "from tensorflow.keras.preprocessing.image import ImageDataGenerator\n",
        "from tensorflow.keras.optimizers import Adam\n",
        "from tensorflow.keras.models import Model\n",
        "\n",
        "import numpy as np\n",
        "import tensorflow as tf\n",
        "from tensorflow import keras\n",
        "from tensorflow.keras import layers\n",
        "import tensorflow_addons as tfa\n",
        "\n",
        "#import necessary libraries\n",
        "import numpy as np\n",
        "import matplotlib.pyplot as plt\n",
        "%matplotlib inline\n",
        "np.random.seed(2)\n",
        "from sklearn.model_selection import train_test_split\n",
        "from sklearn.metrics import confusion_matrix\n",
        "from keras.utils.np_utils import to_categorical\n",
        "from keras.models import Sequential\n",
        "from keras.layers import Dense, Flatten, Conv2D, MaxPool2D, Dropout\n",
        "from tensorflow.keras.optimizers import Adam\n",
        "from keras.preprocessing.image import ImageDataGenerator\n",
        "from keras.callbacks import EarlyStopping"
      ],
      "execution_count": 2,
      "outputs": []
    },
    {
      "cell_type": "markdown",
      "metadata": {
        "id": "7VT6popDzsSF"
      },
      "source": [
        "**Prepare The Data**"
      ]
    },
    {
      "cell_type": "code",
      "metadata": {
        "id": "j2ddME14zdeg"
      },
      "source": [
        "!pip install opendatasets --upgrade --quiet"
      ],
      "execution_count": 3,
      "outputs": []
    },
    {
      "cell_type": "code",
      "metadata": {
        "id": "ghdT2iN_zeTV"
      },
      "source": [
        "import opendatasets as od"
      ],
      "execution_count": 4,
      "outputs": []
    },
    {
      "cell_type": "code",
      "metadata": {
        "id": "z6Gy_sRJzeQb"
      },
      "source": [
        "dataset_url = \"https://www.kaggle.com/sophatvathana/casia-dataset\""
      ],
      "execution_count": 5,
      "outputs": []
    },
    {
      "cell_type": "code",
      "metadata": {
        "colab": {
          "base_uri": "https://localhost:8080/"
        },
        "id": "B0tj90bIzjLh",
        "outputId": "58e7366d-fa78-4e15-f300-a0374e6d722e"
      },
      "source": [
        "od.download(dataset_url)"
      ],
      "execution_count": 6,
      "outputs": [
        {
          "output_type": "stream",
          "name": "stdout",
          "text": [
            "Please provide your Kaggle credentials to download this dataset. Learn more: http://bit.ly/kaggle-creds\n",
            "Your Kaggle username: shobhittyagi\n",
            "Your Kaggle Key: ··········\n",
            "Downloading casia-dataset.zip to ./casia-dataset\n"
          ]
        },
        {
          "output_type": "stream",
          "name": "stderr",
          "text": [
            "100%|██████████| 5.22G/5.22G [01:12<00:00, 77.4MB/s]\n"
          ]
        },
        {
          "output_type": "stream",
          "name": "stdout",
          "text": [
            "\n"
          ]
        }
      ]
    },
    {
      "cell_type": "code",
      "metadata": {
        "id": "CJFMhLs5zkBp"
      },
      "source": [
        "import numpy as np \n",
        "import pandas as pd \n",
        "import matplotlib.pyplot as plt2\n",
        "import os\n",
        "import tensorflow as tf\n",
        "from keras.preprocessing.image import ImageDataGenerator, load_img\n",
        "from keras.layers import (Conv2D, BatchNormalization, Activation, MaxPooling2D, GlobalAveragePooling2D, Dense, Flatten, Dropout)\n",
        "from tensorflow.keras.optimizers import RMSprop, Adam, SGD\n",
        "from keras import regularizers\n",
        "from keras.callbacks import CSVLogger, ModelCheckpoint, ReduceLROnPlateau"
      ],
      "execution_count": 7,
      "outputs": []
    },
    {
      "cell_type": "code",
      "metadata": {
        "id": "C_8r025Mzj_Q"
      },
      "source": [
        "from PIL import Image, ImageChops, ImageEnhance\n",
        "import os\n",
        "import itertools"
      ],
      "execution_count": 8,
      "outputs": []
    },
    {
      "cell_type": "code",
      "metadata": {
        "id": "EhhejRpeWxsE"
      },
      "source": [
        "def convert_to_ela_image(path, quality):\n",
        "    temp_filename = 'temp_file_name.jpg'\n",
        "    ela_filename = 'temp_ela.png'\n",
        "    \n",
        "    image = Image.open(path).convert('RGB')\n",
        "    image.save(temp_filename, 'JPEG', quality = quality)\n",
        "    temp_image = Image.open(temp_filename)\n",
        "    \n",
        "    ela_image = ImageChops.difference(image, temp_image)\n",
        "    \n",
        "    extrema = ela_image.getextrema()\n",
        "    max_diff = max([ex[1] for ex in extrema])\n",
        "    if max_diff == 0:\n",
        "        max_diff = 1\n",
        "    scale = 255.0 / max_diff\n",
        "    \n",
        "    ela_image = ImageEnhance.Brightness(ela_image).enhance(scale)\n",
        "    \n",
        "    return ela_image"
      ],
      "execution_count": 9,
      "outputs": []
    },
    {
      "cell_type": "code",
      "metadata": {
        "id": "uNKu5W_7WxpQ"
      },
      "source": [
        "image_size = (128, 128)"
      ],
      "execution_count": 10,
      "outputs": []
    },
    {
      "cell_type": "code",
      "metadata": {
        "id": "60tOoNssWxmm"
      },
      "source": [
        "\n",
        "def prepare_image(image_path):\n",
        "    return np.array(convert_to_ela_image(image_path, 90).resize(image_size)).flatten() / 255.0"
      ],
      "execution_count": 11,
      "outputs": []
    },
    {
      "cell_type": "code",
      "metadata": {
        "id": "TlAE-7-mWxjr"
      },
      "source": [
        "X = [] # ELA converted images\n",
        "Y = [] # 0 for fake, 1 for real"
      ],
      "execution_count": 12,
      "outputs": []
    },
    {
      "cell_type": "code",
      "metadata": {
        "colab": {
          "base_uri": "https://localhost:8080/"
        },
        "id": "mzZ5ONDkXJ74",
        "outputId": "dd614ae6-2aa9-495c-ce4f-5b8ecfc65528"
      },
      "source": [
        "\n",
        "import random\n",
        "path = '/content/casia-dataset/CASIA2/Au/'\n",
        "for dirname, _, filenames in os.walk(path):\n",
        "    for filename in filenames:\n",
        "        if filename.endswith('jpg') or filename.endswith('png'):\n",
        "            full_path = os.path.join(dirname, filename)\n",
        "            X.append(prepare_image(full_path))\n",
        "            Y.append(1)\n",
        "            if len(Y) % 500 == 0:\n",
        "                print(f'Processing {len(Y)} images')\n",
        "\n",
        "random.shuffle(X)\n",
        "X = X[:2100]\n",
        "Y = Y[:2100]\n",
        "print(len(X), len(Y))"
      ],
      "execution_count": 13,
      "outputs": [
        {
          "output_type": "stream",
          "name": "stdout",
          "text": [
            "Processing 500 images\n",
            "Processing 1000 images\n",
            "Processing 1500 images\n",
            "Processing 2000 images\n",
            "Processing 2500 images\n",
            "Processing 3000 images\n"
          ]
        },
        {
          "output_type": "stream",
          "name": "stderr",
          "text": [
            "/usr/local/lib/python3.7/dist-packages/PIL/TiffImagePlugin.py:770: UserWarning: Possibly corrupt EXIF data.  Expecting to read 8 bytes but only got 2. Skipping tag 41487\n",
            "  \" Skipping tag %s\" % (size, len(data), tag)\n",
            "/usr/local/lib/python3.7/dist-packages/PIL/TiffImagePlugin.py:770: UserWarning: Possibly corrupt EXIF data.  Expecting to read 8 bytes but only got 0. Skipping tag 41988\n",
            "  \" Skipping tag %s\" % (size, len(data), tag)\n"
          ]
        },
        {
          "output_type": "stream",
          "name": "stdout",
          "text": [
            "Processing 3500 images\n",
            "Processing 4000 images\n",
            "Processing 4500 images\n",
            "Processing 5000 images\n",
            "Processing 5500 images\n",
            "Processing 6000 images\n",
            "Processing 6500 images\n",
            "Processing 7000 images\n",
            "2100 2100\n"
          ]
        }
      ]
    },
    {
      "cell_type": "code",
      "metadata": {
        "colab": {
          "base_uri": "https://localhost:8080/"
        },
        "id": "quS-8mtfXJ5U",
        "outputId": "788de25d-b753-456f-dc11-f5231904c2ae"
      },
      "source": [
        "path = '/content/casia-dataset/CASIA2/Tp/'\n",
        "for dirname, _, filenames in os.walk(path):\n",
        "    for filename in filenames:\n",
        "        if filename.endswith('jpg') or filename.endswith('png'):\n",
        "            full_path = os.path.join(dirname, filename)\n",
        "            X.append(prepare_image(full_path))\n",
        "            Y.append(0)\n",
        "            if len(Y) % 500 == 0:\n",
        "                print(f'Processing {len(Y)} images')\n",
        "\n",
        "print(len(X), len(Y))"
      ],
      "execution_count": 14,
      "outputs": [
        {
          "output_type": "stream",
          "name": "stdout",
          "text": [
            "Processing 2500 images\n",
            "Processing 3000 images\n",
            "Processing 3500 images\n",
            "Processing 4000 images\n",
            "4164 4164\n"
          ]
        }
      ]
    },
    {
      "cell_type": "code",
      "metadata": {
        "id": "Gzd83rFnXJ20"
      },
      "source": [
        "X = np.array(X)\n",
        "Y = to_categorical(Y, 2)\n",
        "X = X.reshape(-1, 128, 128, 3)"
      ],
      "execution_count": 15,
      "outputs": []
    },
    {
      "cell_type": "code",
      "metadata": {
        "colab": {
          "base_uri": "https://localhost:8080/"
        },
        "id": "1GiBEKTaXJ0W",
        "outputId": "4891747b-3ea8-42ea-830f-c9c3ca9a6778"
      },
      "source": [
        "X_train, X_val, Y_train, Y_val = train_test_split(X, Y, test_size = 0.2, random_state=5)\n",
        "X = X.reshape(-1,1,1,1)\n",
        "print(len(X_train), len(Y_train))\n",
        "print(len(X_val), len(Y_val))"
      ],
      "execution_count": 16,
      "outputs": [
        {
          "output_type": "stream",
          "name": "stdout",
          "text": [
            "3331 3331\n",
            "833 833\n"
          ]
        }
      ]
    },
    {
      "cell_type": "code",
      "metadata": {
        "colab": {
          "base_uri": "https://localhost:8080/"
        },
        "id": "coJa65XLjmSK",
        "outputId": "eac261ab-e000-46a8-ee54-909a81227a2d"
      },
      "source": [
        "!nvidia-smi"
      ],
      "execution_count": 17,
      "outputs": [
        {
          "output_type": "stream",
          "name": "stdout",
          "text": [
            "Tue Nov  2 07:33:28 2021       \n",
            "+-----------------------------------------------------------------------------+\n",
            "| NVIDIA-SMI 495.29.05    Driver Version: 460.32.03    CUDA Version: 11.2     |\n",
            "|-------------------------------+----------------------+----------------------+\n",
            "| GPU  Name        Persistence-M| Bus-Id        Disp.A | Volatile Uncorr. ECC |\n",
            "| Fan  Temp  Perf  Pwr:Usage/Cap|         Memory-Usage | GPU-Util  Compute M. |\n",
            "|                               |                      |               MIG M. |\n",
            "|===============================+======================+======================|\n",
            "|   0  Tesla P100-PCIE...  Off  | 00000000:00:04.0 Off |                    0 |\n",
            "| N/A   34C    P0    26W / 250W |      0MiB / 16280MiB |      0%      Default |\n",
            "|                               |                      |                  N/A |\n",
            "+-------------------------------+----------------------+----------------------+\n",
            "                                                                               \n",
            "+-----------------------------------------------------------------------------+\n",
            "| Processes:                                                                  |\n",
            "|  GPU   GI   CI        PID   Type   Process name                  GPU Memory |\n",
            "|        ID   ID                                                   Usage      |\n",
            "|=============================================================================|\n",
            "|  No running processes found                                                 |\n",
            "+-----------------------------------------------------------------------------+\n"
          ]
        }
      ]
    },
    {
      "cell_type": "code",
      "metadata": {
        "id": "6fKYZmUnjmN5"
      },
      "source": [
        "!pip install --quiet vit-keras\n",
        "\n",
        "from vit_keras import vit"
      ],
      "execution_count": 18,
      "outputs": []
    },
    {
      "cell_type": "code",
      "metadata": {
        "colab": {
          "base_uri": "https://localhost:8080/"
        },
        "id": "TJ81C8oqjmK8",
        "outputId": "f319b17d-0d6c-4c93-fc90-cd28e85f86a4"
      },
      "source": [
        "vit_model = vit.vit_b32(\n",
        "        image_size = 128,\n",
        "        activation = 'softmax',\n",
        "        pretrained = True,\n",
        "        include_top = False,\n",
        "        pretrained_top = False,\n",
        "        classes = 2)"
      ],
      "execution_count": 19,
      "outputs": [
        {
          "output_type": "stream",
          "name": "stdout",
          "text": [
            "Downloading data from https://github.com/faustomorales/vit-keras/releases/download/dl/ViT-B_32_imagenet21k+imagenet2012.npz\n",
            "353255424/353253686 [==============================] - 6s 0us/step\n",
            "353263616/353253686 [==============================] - 6s 0us/step\n"
          ]
        },
        {
          "output_type": "stream",
          "name": "stderr",
          "text": [
            "/usr/local/lib/python3.7/dist-packages/vit_keras/utils.py:83: UserWarning: Resizing position embeddings from 12, 12 to 4, 4\n",
            "  UserWarning,\n"
          ]
        }
      ]
    },
    {
      "cell_type": "code",
      "metadata": {
        "colab": {
          "base_uri": "https://localhost:8080/"
        },
        "id": "CC8qO-gJkAJp",
        "outputId": "968ebec3-16af-4420-e520-9cabb719cd5a"
      },
      "source": [
        "\n",
        "model = tf.keras.Sequential([\n",
        "        vit_model,\n",
        "        tf.keras.layers.Flatten(),\n",
        "        tf.keras.layers.BatchNormalization(),\n",
        "        tf.keras.layers.Dense(11, activation = tfa.activations.gelu),\n",
        "        tf.keras.layers.BatchNormalization(),\n",
        "        tf.keras.layers.Dense(2, 'softmax')\n",
        "    ],\n",
        "    name = 'vision_transformer')\n",
        "\n",
        "model.summary()"
      ],
      "execution_count": 27,
      "outputs": [
        {
          "output_type": "stream",
          "name": "stdout",
          "text": [
            "Model: \"vision_transformer\"\n",
            "_________________________________________________________________\n",
            "Layer (type)                 Output Shape              Param #   \n",
            "=================================================================\n",
            "vit-b32 (Functional)         (None, 768)               87429888  \n",
            "_________________________________________________________________\n",
            "flatten_1 (Flatten)          (None, 768)               0         \n",
            "_________________________________________________________________\n",
            "batch_normalization_2 (Batch (None, 768)               3072      \n",
            "_________________________________________________________________\n",
            "dense_2 (Dense)              (None, 11)                8459      \n",
            "_________________________________________________________________\n",
            "batch_normalization_3 (Batch (None, 11)                44        \n",
            "_________________________________________________________________\n",
            "dense_3 (Dense)              (None, 2)                 24        \n",
            "=================================================================\n",
            "Total params: 87,441,487\n",
            "Trainable params: 87,439,929\n",
            "Non-trainable params: 1,558\n",
            "_________________________________________________________________\n"
          ]
        }
      ]
    },
    {
      "cell_type": "code",
      "metadata": {
        "colab": {
          "base_uri": "https://localhost:8080/"
        },
        "id": "jcu4eFP4XJvF",
        "outputId": "8a157c7d-7a9a-476e-a1a6-db68cf37014b"
      },
      "source": [
        "model.summary()"
      ],
      "execution_count": 28,
      "outputs": [
        {
          "output_type": "stream",
          "name": "stdout",
          "text": [
            "Model: \"vision_transformer\"\n",
            "_________________________________________________________________\n",
            "Layer (type)                 Output Shape              Param #   \n",
            "=================================================================\n",
            "vit-b32 (Functional)         (None, 768)               87429888  \n",
            "_________________________________________________________________\n",
            "flatten_1 (Flatten)          (None, 768)               0         \n",
            "_________________________________________________________________\n",
            "batch_normalization_2 (Batch (None, 768)               3072      \n",
            "_________________________________________________________________\n",
            "dense_2 (Dense)              (None, 11)                8459      \n",
            "_________________________________________________________________\n",
            "batch_normalization_3 (Batch (None, 11)                44        \n",
            "_________________________________________________________________\n",
            "dense_3 (Dense)              (None, 2)                 24        \n",
            "=================================================================\n",
            "Total params: 87,441,487\n",
            "Trainable params: 87,439,929\n",
            "Non-trainable params: 1,558\n",
            "_________________________________________________________________\n"
          ]
        }
      ]
    },
    {
      "cell_type": "code",
      "metadata": {
        "id": "bw8Wqd9_XeP3"
      },
      "source": [
        "\n",
        "model.compile(optimizer='adam', loss='binary_crossentropy', metrics = ['accuracy'])"
      ],
      "execution_count": 29,
      "outputs": []
    },
    {
      "cell_type": "code",
      "metadata": {
        "id": "4Gm3QB3jXeNW"
      },
      "source": [
        "epochs = 100\n",
        "batch_size = 32"
      ],
      "execution_count": 34,
      "outputs": []
    },
    {
      "cell_type": "code",
      "metadata": {
        "colab": {
          "base_uri": "https://localhost:8080/"
        },
        "id": "pZUUCL4EXeK2",
        "outputId": "3e05bf67-935e-4b0c-8827-98cb3b97e044"
      },
      "source": [
        "\n",
        "init_lr = 1e-3\n",
        "optimizer = Adam(lr = init_lr, decay = init_lr/epochs)"
      ],
      "execution_count": 35,
      "outputs": [
        {
          "output_type": "stream",
          "name": "stderr",
          "text": [
            "/usr/local/lib/python3.7/dist-packages/keras/optimizer_v2/optimizer_v2.py:356: UserWarning: The `lr` argument is deprecated, use `learning_rate` instead.\n",
            "  \"The `lr` argument is deprecated, use `learning_rate` instead.\")\n"
          ]
        }
      ]
    },
    {
      "cell_type": "code",
      "metadata": {
        "id": "Vzjy15wSXeIQ"
      },
      "source": [
        "checkpoint = ModelCheckpoint(filepath='/content/Model_weights/MiniNet.h5',\n",
        "                             save_best_only=True,\n",
        "                             verbose=1,\n",
        "                             mode='min',\n",
        "                             moniter='val_loss'\n",
        "                            )\n",
        "reduce_lr = ReduceLROnPlateau(monitor='val_loss', \n",
        "                              factor=0.15, \n",
        "                              patience=8, \n",
        "                              verbose=1\n",
        "                             )\n",
        "csv_logger = CSVLogger('training.log')\n",
        "early_stopping = EarlyStopping(monitor = 'val_acc',\n",
        "                              min_delta = 0,\n",
        "                              patience =5,\n",
        "                              verbose = 0,\n",
        "                              mode = 'auto')\n",
        "\n",
        "callbacks = [checkpoint, reduce_lr, early_stopping, csv_logger]"
      ],
      "execution_count": 36,
      "outputs": []
    },
    {
      "cell_type": "code",
      "metadata": {
        "colab": {
          "base_uri": "https://localhost:8080/"
        },
        "id": "FRa2oJKtXeBw",
        "outputId": "fb66c683-8f0d-498c-f49d-16212ca72e04"
      },
      "source": [
        "hist = model.fit(X_train,\n",
        "                 Y_train,\n",
        "                 batch_size = batch_size,\n",
        "                 epochs = 100,\n",
        "                validation_data = (X_val, Y_val),\n",
        "                 verbose = 1, \n",
        "                callbacks = callbacks)"
      ],
      "execution_count": 37,
      "outputs": [
        {
          "output_type": "stream",
          "name": "stdout",
          "text": [
            "Epoch 1/100\n",
            "105/105 [==============================] - 12s 112ms/step - loss: 0.2313 - accuracy: 0.9114 - val_loss: 1.1351 - val_accuracy: 0.5114\n",
            "\n",
            "Epoch 00001: val_loss improved from inf to 1.13513, saving model to /content/Model_weights/MiniNet.h5\n",
            "WARNING:tensorflow:Early stopping conditioned on metric `val_acc` which is not available. Available metrics are: loss,accuracy,val_loss,val_accuracy,lr\n",
            "Epoch 2/100\n",
            "105/105 [==============================] - 12s 113ms/step - loss: 0.4361 - accuracy: 0.8100 - val_loss: 0.3604 - val_accuracy: 0.9052\n",
            "\n",
            "Epoch 00002: val_loss improved from 1.13513 to 0.36041, saving model to /content/Model_weights/MiniNet.h5\n",
            "WARNING:tensorflow:Early stopping conditioned on metric `val_acc` which is not available. Available metrics are: loss,accuracy,val_loss,val_accuracy,lr\n",
            "Epoch 3/100\n",
            "105/105 [==============================] - 12s 114ms/step - loss: 0.2263 - accuracy: 0.9126 - val_loss: 3.1015 - val_accuracy: 0.5114\n",
            "\n",
            "Epoch 00003: val_loss did not improve from 0.36041\n",
            "WARNING:tensorflow:Early stopping conditioned on metric `val_acc` which is not available. Available metrics are: loss,accuracy,val_loss,val_accuracy,lr\n",
            "Epoch 4/100\n",
            "105/105 [==============================] - 12s 112ms/step - loss: 0.2123 - accuracy: 0.9186 - val_loss: 0.4132 - val_accuracy: 0.8331\n",
            "\n",
            "Epoch 00004: val_loss did not improve from 0.36041\n",
            "WARNING:tensorflow:Early stopping conditioned on metric `val_acc` which is not available. Available metrics are: loss,accuracy,val_loss,val_accuracy,lr\n",
            "Epoch 5/100\n",
            "105/105 [==============================] - 12s 112ms/step - loss: 0.1944 - accuracy: 0.9264 - val_loss: 0.4778 - val_accuracy: 0.8283\n",
            "\n",
            "Epoch 00005: val_loss did not improve from 0.36041\n",
            "WARNING:tensorflow:Early stopping conditioned on metric `val_acc` which is not available. Available metrics are: loss,accuracy,val_loss,val_accuracy,lr\n",
            "Epoch 6/100\n",
            "105/105 [==============================] - 12s 113ms/step - loss: 0.1791 - accuracy: 0.9325 - val_loss: 1.0672 - val_accuracy: 0.5726\n",
            "\n",
            "Epoch 00006: val_loss did not improve from 0.36041\n",
            "WARNING:tensorflow:Early stopping conditioned on metric `val_acc` which is not available. Available metrics are: loss,accuracy,val_loss,val_accuracy,lr\n",
            "Epoch 7/100\n",
            "105/105 [==============================] - 12s 112ms/step - loss: 0.1739 - accuracy: 0.9373 - val_loss: 2.2349 - val_accuracy: 0.5126\n",
            "\n",
            "Epoch 00007: val_loss did not improve from 0.36041\n",
            "WARNING:tensorflow:Early stopping conditioned on metric `val_acc` which is not available. Available metrics are: loss,accuracy,val_loss,val_accuracy,lr\n",
            "Epoch 8/100\n",
            "105/105 [==============================] - 12s 113ms/step - loss: 0.1524 - accuracy: 0.9481 - val_loss: 0.2391 - val_accuracy: 0.8980\n",
            "\n",
            "Epoch 00008: val_loss improved from 0.36041 to 0.23907, saving model to /content/Model_weights/MiniNet.h5\n",
            "WARNING:tensorflow:Early stopping conditioned on metric `val_acc` which is not available. Available metrics are: loss,accuracy,val_loss,val_accuracy,lr\n",
            "Epoch 9/100\n",
            "105/105 [==============================] - 12s 113ms/step - loss: 0.1175 - accuracy: 0.9562 - val_loss: 1.5698 - val_accuracy: 0.6182\n",
            "\n",
            "Epoch 00009: val_loss did not improve from 0.23907\n",
            "WARNING:tensorflow:Early stopping conditioned on metric `val_acc` which is not available. Available metrics are: loss,accuracy,val_loss,val_accuracy,lr\n",
            "Epoch 10/100\n",
            "105/105 [==============================] - 12s 113ms/step - loss: 0.1173 - accuracy: 0.9553 - val_loss: 0.3556 - val_accuracy: 0.8559\n",
            "\n",
            "Epoch 00010: val_loss did not improve from 0.23907\n",
            "WARNING:tensorflow:Early stopping conditioned on metric `val_acc` which is not available. Available metrics are: loss,accuracy,val_loss,val_accuracy,lr\n",
            "Epoch 11/100\n",
            "105/105 [==============================] - 12s 113ms/step - loss: 0.1450 - accuracy: 0.9421 - val_loss: 2.9640 - val_accuracy: 0.5246\n",
            "\n",
            "Epoch 00011: val_loss did not improve from 0.23907\n",
            "WARNING:tensorflow:Early stopping conditioned on metric `val_acc` which is not available. Available metrics are: loss,accuracy,val_loss,val_accuracy,lr\n",
            "Epoch 12/100\n",
            "105/105 [==============================] - 12s 112ms/step - loss: 0.1037 - accuracy: 0.9622 - val_loss: 0.4040 - val_accuracy: 0.8535\n",
            "\n",
            "Epoch 00012: val_loss did not improve from 0.23907\n",
            "WARNING:tensorflow:Early stopping conditioned on metric `val_acc` which is not available. Available metrics are: loss,accuracy,val_loss,val_accuracy,lr\n",
            "Epoch 13/100\n",
            "105/105 [==============================] - 12s 112ms/step - loss: 0.0862 - accuracy: 0.9700 - val_loss: 1.2581 - val_accuracy: 0.7263\n",
            "\n",
            "Epoch 00013: val_loss did not improve from 0.23907\n",
            "WARNING:tensorflow:Early stopping conditioned on metric `val_acc` which is not available. Available metrics are: loss,accuracy,val_loss,val_accuracy,lr\n",
            "Epoch 14/100\n",
            "105/105 [==============================] - 12s 112ms/step - loss: 0.0755 - accuracy: 0.9742 - val_loss: 3.0465 - val_accuracy: 0.4946\n",
            "\n",
            "Epoch 00014: val_loss did not improve from 0.23907\n",
            "WARNING:tensorflow:Early stopping conditioned on metric `val_acc` which is not available. Available metrics are: loss,accuracy,val_loss,val_accuracy,lr\n",
            "Epoch 15/100\n",
            "105/105 [==============================] - 12s 112ms/step - loss: 0.0715 - accuracy: 0.9754 - val_loss: 0.6108 - val_accuracy: 0.8139\n",
            "\n",
            "Epoch 00015: val_loss did not improve from 0.23907\n",
            "WARNING:tensorflow:Early stopping conditioned on metric `val_acc` which is not available. Available metrics are: loss,accuracy,val_loss,val_accuracy,lr\n",
            "Epoch 16/100\n",
            "105/105 [==============================] - 12s 112ms/step - loss: 0.0651 - accuracy: 0.9772 - val_loss: 4.7084 - val_accuracy: 0.5126\n",
            "\n",
            "Epoch 00016: val_loss did not improve from 0.23907\n",
            "\n",
            "Epoch 00016: ReduceLROnPlateau reducing learning rate to 0.0001500000071246177.\n",
            "WARNING:tensorflow:Early stopping conditioned on metric `val_acc` which is not available. Available metrics are: loss,accuracy,val_loss,val_accuracy,lr\n",
            "Epoch 17/100\n",
            "105/105 [==============================] - 12s 112ms/step - loss: 0.0470 - accuracy: 0.9871 - val_loss: 0.3976 - val_accuracy: 0.8812\n",
            "\n",
            "Epoch 00017: val_loss did not improve from 0.23907\n",
            "WARNING:tensorflow:Early stopping conditioned on metric `val_acc` which is not available. Available metrics are: loss,accuracy,val_loss,val_accuracy,lr\n",
            "Epoch 18/100\n",
            "105/105 [==============================] - 12s 112ms/step - loss: 0.0437 - accuracy: 0.9868 - val_loss: 0.3281 - val_accuracy: 0.9100\n",
            "\n",
            "Epoch 00018: val_loss did not improve from 0.23907\n",
            "WARNING:tensorflow:Early stopping conditioned on metric `val_acc` which is not available. Available metrics are: loss,accuracy,val_loss,val_accuracy,lr\n",
            "Epoch 19/100\n",
            "105/105 [==============================] - 12s 112ms/step - loss: 0.0241 - accuracy: 0.9934 - val_loss: 0.4628 - val_accuracy: 0.8776\n",
            "\n",
            "Epoch 00019: val_loss did not improve from 0.23907\n",
            "WARNING:tensorflow:Early stopping conditioned on metric `val_acc` which is not available. Available metrics are: loss,accuracy,val_loss,val_accuracy,lr\n",
            "Epoch 20/100\n",
            "105/105 [==============================] - 12s 111ms/step - loss: 0.0269 - accuracy: 0.9925 - val_loss: 0.3788 - val_accuracy: 0.9100\n",
            "\n",
            "Epoch 00020: val_loss did not improve from 0.23907\n",
            "WARNING:tensorflow:Early stopping conditioned on metric `val_acc` which is not available. Available metrics are: loss,accuracy,val_loss,val_accuracy,lr\n",
            "Epoch 21/100\n",
            "105/105 [==============================] - 12s 113ms/step - loss: 0.0232 - accuracy: 0.9952 - val_loss: 0.2880 - val_accuracy: 0.9340\n",
            "\n",
            "Epoch 00021: val_loss did not improve from 0.23907\n",
            "WARNING:tensorflow:Early stopping conditioned on metric `val_acc` which is not available. Available metrics are: loss,accuracy,val_loss,val_accuracy,lr\n",
            "Epoch 22/100\n",
            "105/105 [==============================] - 12s 113ms/step - loss: 0.0278 - accuracy: 0.9919 - val_loss: 0.3018 - val_accuracy: 0.9160\n",
            "\n",
            "Epoch 00022: val_loss did not improve from 0.23907\n",
            "WARNING:tensorflow:Early stopping conditioned on metric `val_acc` which is not available. Available metrics are: loss,accuracy,val_loss,val_accuracy,lr\n",
            "Epoch 23/100\n",
            "105/105 [==============================] - 12s 112ms/step - loss: 0.0238 - accuracy: 0.9925 - val_loss: 0.2837 - val_accuracy: 0.9316\n",
            "\n",
            "Epoch 00023: val_loss did not improve from 0.23907\n",
            "WARNING:tensorflow:Early stopping conditioned on metric `val_acc` which is not available. Available metrics are: loss,accuracy,val_loss,val_accuracy,lr\n",
            "Epoch 24/100\n",
            "105/105 [==============================] - 12s 112ms/step - loss: 0.0261 - accuracy: 0.9910 - val_loss: 0.3151 - val_accuracy: 0.9112\n",
            "\n",
            "Epoch 00024: val_loss did not improve from 0.23907\n",
            "\n",
            "Epoch 00024: ReduceLROnPlateau reducing learning rate to 2.2500001068692655e-05.\n",
            "WARNING:tensorflow:Early stopping conditioned on metric `val_acc` which is not available. Available metrics are: loss,accuracy,val_loss,val_accuracy,lr\n",
            "Epoch 25/100\n",
            "105/105 [==============================] - 12s 112ms/step - loss: 0.0163 - accuracy: 0.9961 - val_loss: 0.3123 - val_accuracy: 0.9160\n",
            "\n",
            "Epoch 00025: val_loss did not improve from 0.23907\n",
            "WARNING:tensorflow:Early stopping conditioned on metric `val_acc` which is not available. Available metrics are: loss,accuracy,val_loss,val_accuracy,lr\n",
            "Epoch 26/100\n",
            "105/105 [==============================] - 12s 112ms/step - loss: 0.0144 - accuracy: 0.9973 - val_loss: 0.2860 - val_accuracy: 0.9268\n",
            "\n",
            "Epoch 00026: val_loss did not improve from 0.23907\n",
            "WARNING:tensorflow:Early stopping conditioned on metric `val_acc` which is not available. Available metrics are: loss,accuracy,val_loss,val_accuracy,lr\n",
            "Epoch 27/100\n",
            "105/105 [==============================] - 12s 113ms/step - loss: 0.0108 - accuracy: 0.9985 - val_loss: 0.2868 - val_accuracy: 0.9280\n",
            "\n",
            "Epoch 00027: val_loss did not improve from 0.23907\n",
            "WARNING:tensorflow:Early stopping conditioned on metric `val_acc` which is not available. Available metrics are: loss,accuracy,val_loss,val_accuracy,lr\n",
            "Epoch 28/100\n",
            "105/105 [==============================] - 12s 114ms/step - loss: 0.0124 - accuracy: 0.9982 - val_loss: 0.3027 - val_accuracy: 0.9232\n",
            "\n",
            "Epoch 00028: val_loss did not improve from 0.23907\n",
            "WARNING:tensorflow:Early stopping conditioned on metric `val_acc` which is not available. Available metrics are: loss,accuracy,val_loss,val_accuracy,lr\n",
            "Epoch 29/100\n",
            "105/105 [==============================] - 12s 113ms/step - loss: 0.0145 - accuracy: 0.9964 - val_loss: 0.3143 - val_accuracy: 0.9184\n",
            "\n",
            "Epoch 00029: val_loss did not improve from 0.23907\n",
            "WARNING:tensorflow:Early stopping conditioned on metric `val_acc` which is not available. Available metrics are: loss,accuracy,val_loss,val_accuracy,lr\n",
            "Epoch 30/100\n",
            "105/105 [==============================] - 12s 113ms/step - loss: 0.0149 - accuracy: 0.9958 - val_loss: 0.3168 - val_accuracy: 0.9244\n",
            "\n",
            "Epoch 00030: val_loss did not improve from 0.23907\n",
            "WARNING:tensorflow:Early stopping conditioned on metric `val_acc` which is not available. Available metrics are: loss,accuracy,val_loss,val_accuracy,lr\n",
            "Epoch 31/100\n",
            "105/105 [==============================] - 12s 113ms/step - loss: 0.0079 - accuracy: 0.9982 - val_loss: 0.3167 - val_accuracy: 0.9208\n",
            "\n",
            "Epoch 00031: val_loss did not improve from 0.23907\n",
            "WARNING:tensorflow:Early stopping conditioned on metric `val_acc` which is not available. Available metrics are: loss,accuracy,val_loss,val_accuracy,lr\n",
            "Epoch 32/100\n",
            "105/105 [==============================] - 12s 112ms/step - loss: 0.0070 - accuracy: 0.9985 - val_loss: 0.3257 - val_accuracy: 0.9208\n",
            "\n",
            "Epoch 00032: val_loss did not improve from 0.23907\n",
            "\n",
            "Epoch 00032: ReduceLROnPlateau reducing learning rate to 3.3750000511645338e-06.\n",
            "WARNING:tensorflow:Early stopping conditioned on metric `val_acc` which is not available. Available metrics are: loss,accuracy,val_loss,val_accuracy,lr\n",
            "Epoch 33/100\n",
            "105/105 [==============================] - 12s 112ms/step - loss: 0.0082 - accuracy: 0.9988 - val_loss: 0.3100 - val_accuracy: 0.9268\n",
            "\n",
            "Epoch 00033: val_loss did not improve from 0.23907\n",
            "WARNING:tensorflow:Early stopping conditioned on metric `val_acc` which is not available. Available metrics are: loss,accuracy,val_loss,val_accuracy,lr\n",
            "Epoch 34/100\n",
            "105/105 [==============================] - 12s 112ms/step - loss: 0.0094 - accuracy: 0.9991 - val_loss: 0.3142 - val_accuracy: 0.9244\n",
            "\n",
            "Epoch 00034: val_loss did not improve from 0.23907\n",
            "WARNING:tensorflow:Early stopping conditioned on metric `val_acc` which is not available. Available metrics are: loss,accuracy,val_loss,val_accuracy,lr\n",
            "Epoch 35/100\n",
            "105/105 [==============================] - 12s 112ms/step - loss: 0.0106 - accuracy: 0.9970 - val_loss: 0.3062 - val_accuracy: 0.9292\n",
            "\n",
            "Epoch 00035: val_loss did not improve from 0.23907\n",
            "WARNING:tensorflow:Early stopping conditioned on metric `val_acc` which is not available. Available metrics are: loss,accuracy,val_loss,val_accuracy,lr\n",
            "Epoch 36/100\n",
            "105/105 [==============================] - 12s 112ms/step - loss: 0.0087 - accuracy: 0.9985 - val_loss: 0.3114 - val_accuracy: 0.9268\n",
            "\n",
            "Epoch 00036: val_loss did not improve from 0.23907\n",
            "WARNING:tensorflow:Early stopping conditioned on metric `val_acc` which is not available. Available metrics are: loss,accuracy,val_loss,val_accuracy,lr\n",
            "Epoch 37/100\n",
            "105/105 [==============================] - 12s 112ms/step - loss: 0.0052 - accuracy: 0.9997 - val_loss: 0.3133 - val_accuracy: 0.9232\n",
            "\n",
            "Epoch 00037: val_loss did not improve from 0.23907\n",
            "WARNING:tensorflow:Early stopping conditioned on metric `val_acc` which is not available. Available metrics are: loss,accuracy,val_loss,val_accuracy,lr\n",
            "Epoch 38/100\n",
            "105/105 [==============================] - 12s 112ms/step - loss: 0.0052 - accuracy: 0.9991 - val_loss: 0.3173 - val_accuracy: 0.9232\n",
            "\n",
            "Epoch 00038: val_loss did not improve from 0.23907\n",
            "WARNING:tensorflow:Early stopping conditioned on metric `val_acc` which is not available. Available metrics are: loss,accuracy,val_loss,val_accuracy,lr\n",
            "Epoch 39/100\n",
            "105/105 [==============================] - 12s 113ms/step - loss: 0.0072 - accuracy: 0.9988 - val_loss: 0.3106 - val_accuracy: 0.9292\n",
            "\n",
            "Epoch 00039: val_loss did not improve from 0.23907\n",
            "WARNING:tensorflow:Early stopping conditioned on metric `val_acc` which is not available. Available metrics are: loss,accuracy,val_loss,val_accuracy,lr\n",
            "Epoch 40/100\n",
            "105/105 [==============================] - 12s 112ms/step - loss: 0.0072 - accuracy: 0.9994 - val_loss: 0.3130 - val_accuracy: 0.9268\n",
            "\n",
            "Epoch 00040: val_loss did not improve from 0.23907\n",
            "\n",
            "Epoch 00040: ReduceLROnPlateau reducing learning rate to 5.062500008534698e-07.\n",
            "WARNING:tensorflow:Early stopping conditioned on metric `val_acc` which is not available. Available metrics are: loss,accuracy,val_loss,val_accuracy,lr\n",
            "Epoch 41/100\n",
            "105/105 [==============================] - 12s 112ms/step - loss: 0.0093 - accuracy: 0.9985 - val_loss: 0.3144 - val_accuracy: 0.9256\n",
            "\n",
            "Epoch 00041: val_loss did not improve from 0.23907\n",
            "WARNING:tensorflow:Early stopping conditioned on metric `val_acc` which is not available. Available metrics are: loss,accuracy,val_loss,val_accuracy,lr\n",
            "Epoch 42/100\n",
            "105/105 [==============================] - 12s 112ms/step - loss: 0.0098 - accuracy: 0.9982 - val_loss: 0.3143 - val_accuracy: 0.9268\n",
            "\n",
            "Epoch 00042: val_loss did not improve from 0.23907\n",
            "WARNING:tensorflow:Early stopping conditioned on metric `val_acc` which is not available. Available metrics are: loss,accuracy,val_loss,val_accuracy,lr\n",
            "Epoch 43/100\n",
            "105/105 [==============================] - 12s 112ms/step - loss: 0.0101 - accuracy: 0.9985 - val_loss: 0.3143 - val_accuracy: 0.9268\n",
            "\n",
            "Epoch 00043: val_loss did not improve from 0.23907\n",
            "WARNING:tensorflow:Early stopping conditioned on metric `val_acc` which is not available. Available metrics are: loss,accuracy,val_loss,val_accuracy,lr\n",
            "Epoch 44/100\n",
            "105/105 [==============================] - 12s 112ms/step - loss: 0.0065 - accuracy: 0.9985 - val_loss: 0.3133 - val_accuracy: 0.9268\n",
            "\n",
            "Epoch 00044: val_loss did not improve from 0.23907\n",
            "WARNING:tensorflow:Early stopping conditioned on metric `val_acc` which is not available. Available metrics are: loss,accuracy,val_loss,val_accuracy,lr\n",
            "Epoch 45/100\n",
            "105/105 [==============================] - 12s 112ms/step - loss: 0.0082 - accuracy: 0.9982 - val_loss: 0.3141 - val_accuracy: 0.9256\n",
            "\n",
            "Epoch 00045: val_loss did not improve from 0.23907\n",
            "WARNING:tensorflow:Early stopping conditioned on metric `val_acc` which is not available. Available metrics are: loss,accuracy,val_loss,val_accuracy,lr\n",
            "Epoch 46/100\n",
            "105/105 [==============================] - 12s 113ms/step - loss: 0.0082 - accuracy: 0.9988 - val_loss: 0.3175 - val_accuracy: 0.9232\n",
            "\n",
            "Epoch 00046: val_loss did not improve from 0.23907\n",
            "WARNING:tensorflow:Early stopping conditioned on metric `val_acc` which is not available. Available metrics are: loss,accuracy,val_loss,val_accuracy,lr\n",
            "Epoch 47/100\n",
            "105/105 [==============================] - 12s 114ms/step - loss: 0.0069 - accuracy: 0.9991 - val_loss: 0.3162 - val_accuracy: 0.9256\n",
            "\n",
            "Epoch 00047: val_loss did not improve from 0.23907\n",
            "WARNING:tensorflow:Early stopping conditioned on metric `val_acc` which is not available. Available metrics are: loss,accuracy,val_loss,val_accuracy,lr\n",
            "Epoch 48/100\n",
            "105/105 [==============================] - 12s 112ms/step - loss: 0.0080 - accuracy: 0.9982 - val_loss: 0.3160 - val_accuracy: 0.9256\n",
            "\n",
            "Epoch 00048: val_loss did not improve from 0.23907\n",
            "\n",
            "Epoch 00048: ReduceLROnPlateau reducing learning rate to 7.59374984227179e-08.\n",
            "WARNING:tensorflow:Early stopping conditioned on metric `val_acc` which is not available. Available metrics are: loss,accuracy,val_loss,val_accuracy,lr\n",
            "Epoch 49/100\n",
            "105/105 [==============================] - 12s 113ms/step - loss: 0.0082 - accuracy: 0.9985 - val_loss: 0.3157 - val_accuracy: 0.9232\n",
            "\n",
            "Epoch 00049: val_loss did not improve from 0.23907\n",
            "WARNING:tensorflow:Early stopping conditioned on metric `val_acc` which is not available. Available metrics are: loss,accuracy,val_loss,val_accuracy,lr\n",
            "Epoch 50/100\n",
            "105/105 [==============================] - 12s 113ms/step - loss: 0.0066 - accuracy: 0.9994 - val_loss: 0.3160 - val_accuracy: 0.9256\n",
            "\n",
            "Epoch 00050: val_loss did not improve from 0.23907\n",
            "WARNING:tensorflow:Early stopping conditioned on metric `val_acc` which is not available. Available metrics are: loss,accuracy,val_loss,val_accuracy,lr\n",
            "Epoch 51/100\n",
            "105/105 [==============================] - 12s 113ms/step - loss: 0.0072 - accuracy: 0.9988 - val_loss: 0.3164 - val_accuracy: 0.9232\n",
            "\n",
            "Epoch 00051: val_loss did not improve from 0.23907\n",
            "WARNING:tensorflow:Early stopping conditioned on metric `val_acc` which is not available. Available metrics are: loss,accuracy,val_loss,val_accuracy,lr\n",
            "Epoch 52/100\n",
            "105/105 [==============================] - 12s 113ms/step - loss: 0.0065 - accuracy: 0.9985 - val_loss: 0.3156 - val_accuracy: 0.9256\n",
            "\n",
            "Epoch 00052: val_loss did not improve from 0.23907\n",
            "WARNING:tensorflow:Early stopping conditioned on metric `val_acc` which is not available. Available metrics are: loss,accuracy,val_loss,val_accuracy,lr\n",
            "Epoch 53/100\n",
            "105/105 [==============================] - 12s 113ms/step - loss: 0.0055 - accuracy: 0.9991 - val_loss: 0.3157 - val_accuracy: 0.9232\n",
            "\n",
            "Epoch 00053: val_loss did not improve from 0.23907\n",
            "WARNING:tensorflow:Early stopping conditioned on metric `val_acc` which is not available. Available metrics are: loss,accuracy,val_loss,val_accuracy,lr\n",
            "Epoch 54/100\n",
            "105/105 [==============================] - 12s 112ms/step - loss: 0.0097 - accuracy: 0.9973 - val_loss: 0.3157 - val_accuracy: 0.9232\n",
            "\n",
            "Epoch 00054: val_loss did not improve from 0.23907\n",
            "WARNING:tensorflow:Early stopping conditioned on metric `val_acc` which is not available. Available metrics are: loss,accuracy,val_loss,val_accuracy,lr\n",
            "Epoch 55/100\n",
            "105/105 [==============================] - 12s 112ms/step - loss: 0.0070 - accuracy: 0.9982 - val_loss: 0.3160 - val_accuracy: 0.9256\n",
            "\n",
            "Epoch 00055: val_loss did not improve from 0.23907\n",
            "WARNING:tensorflow:Early stopping conditioned on metric `val_acc` which is not available. Available metrics are: loss,accuracy,val_loss,val_accuracy,lr\n",
            "Epoch 56/100\n",
            "105/105 [==============================] - 12s 113ms/step - loss: 0.0082 - accuracy: 0.9985 - val_loss: 0.3183 - val_accuracy: 0.9232\n",
            "\n",
            "Epoch 00056: val_loss did not improve from 0.23907\n",
            "\n",
            "Epoch 00056: ReduceLROnPlateau reducing learning rate to 1.1390624976570507e-08.\n",
            "WARNING:tensorflow:Early stopping conditioned on metric `val_acc` which is not available. Available metrics are: loss,accuracy,val_loss,val_accuracy,lr\n",
            "Epoch 57/100\n",
            "105/105 [==============================] - 12s 113ms/step - loss: 0.0072 - accuracy: 0.9991 - val_loss: 0.3198 - val_accuracy: 0.9232\n",
            "\n",
            "Epoch 00057: val_loss did not improve from 0.23907\n",
            "WARNING:tensorflow:Early stopping conditioned on metric `val_acc` which is not available. Available metrics are: loss,accuracy,val_loss,val_accuracy,lr\n",
            "Epoch 58/100\n",
            "105/105 [==============================] - 12s 112ms/step - loss: 0.0072 - accuracy: 0.9985 - val_loss: 0.3171 - val_accuracy: 0.9256\n",
            "\n",
            "Epoch 00058: val_loss did not improve from 0.23907\n",
            "WARNING:tensorflow:Early stopping conditioned on metric `val_acc` which is not available. Available metrics are: loss,accuracy,val_loss,val_accuracy,lr\n",
            "Epoch 59/100\n",
            "105/105 [==============================] - 12s 112ms/step - loss: 0.0087 - accuracy: 0.9988 - val_loss: 0.3166 - val_accuracy: 0.9232\n",
            "\n",
            "Epoch 00059: val_loss did not improve from 0.23907\n",
            "WARNING:tensorflow:Early stopping conditioned on metric `val_acc` which is not available. Available metrics are: loss,accuracy,val_loss,val_accuracy,lr\n",
            "Epoch 60/100\n",
            "105/105 [==============================] - 12s 113ms/step - loss: 0.0064 - accuracy: 0.9994 - val_loss: 0.3162 - val_accuracy: 0.9232\n",
            "\n",
            "Epoch 00060: val_loss did not improve from 0.23907\n",
            "WARNING:tensorflow:Early stopping conditioned on metric `val_acc` which is not available. Available metrics are: loss,accuracy,val_loss,val_accuracy,lr\n",
            "Epoch 61/100\n",
            "105/105 [==============================] - 12s 113ms/step - loss: 0.0066 - accuracy: 0.9994 - val_loss: 0.3164 - val_accuracy: 0.9232\n",
            "\n",
            "Epoch 00061: val_loss did not improve from 0.23907\n",
            "WARNING:tensorflow:Early stopping conditioned on metric `val_acc` which is not available. Available metrics are: loss,accuracy,val_loss,val_accuracy,lr\n",
            "Epoch 62/100\n",
            "105/105 [==============================] - 12s 113ms/step - loss: 0.0081 - accuracy: 0.9988 - val_loss: 0.3186 - val_accuracy: 0.9232\n",
            "\n",
            "Epoch 00062: val_loss did not improve from 0.23907\n",
            "WARNING:tensorflow:Early stopping conditioned on metric `val_acc` which is not available. Available metrics are: loss,accuracy,val_loss,val_accuracy,lr\n",
            "Epoch 63/100\n",
            "105/105 [==============================] - 12s 112ms/step - loss: 0.0094 - accuracy: 0.9985 - val_loss: 0.3169 - val_accuracy: 0.9232\n",
            "\n",
            "Epoch 00063: val_loss did not improve from 0.23907\n",
            "WARNING:tensorflow:Early stopping conditioned on metric `val_acc` which is not available. Available metrics are: loss,accuracy,val_loss,val_accuracy,lr\n",
            "Epoch 64/100\n",
            "105/105 [==============================] - 12s 113ms/step - loss: 0.0066 - accuracy: 0.9982 - val_loss: 0.3165 - val_accuracy: 0.9256\n",
            "\n",
            "Epoch 00064: val_loss did not improve from 0.23907\n",
            "\n",
            "Epoch 00064: ReduceLROnPlateau reducing learning rate to 1.7085937997762811e-09.\n",
            "WARNING:tensorflow:Early stopping conditioned on metric `val_acc` which is not available. Available metrics are: loss,accuracy,val_loss,val_accuracy,lr\n",
            "Epoch 65/100\n",
            "105/105 [==============================] - 12s 113ms/step - loss: 0.0063 - accuracy: 0.9988 - val_loss: 0.3161 - val_accuracy: 0.9256\n",
            "\n",
            "Epoch 00065: val_loss did not improve from 0.23907\n",
            "WARNING:tensorflow:Early stopping conditioned on metric `val_acc` which is not available. Available metrics are: loss,accuracy,val_loss,val_accuracy,lr\n",
            "Epoch 66/100\n",
            "105/105 [==============================] - 12s 114ms/step - loss: 0.0078 - accuracy: 0.9988 - val_loss: 0.3163 - val_accuracy: 0.9256\n",
            "\n",
            "Epoch 00066: val_loss did not improve from 0.23907\n",
            "WARNING:tensorflow:Early stopping conditioned on metric `val_acc` which is not available. Available metrics are: loss,accuracy,val_loss,val_accuracy,lr\n",
            "Epoch 67/100\n",
            "105/105 [==============================] - 12s 113ms/step - loss: 0.0069 - accuracy: 0.9985 - val_loss: 0.3162 - val_accuracy: 0.9256\n",
            "\n",
            "Epoch 00067: val_loss did not improve from 0.23907\n",
            "WARNING:tensorflow:Early stopping conditioned on metric `val_acc` which is not available. Available metrics are: loss,accuracy,val_loss,val_accuracy,lr\n",
            "Epoch 68/100\n",
            "105/105 [==============================] - 12s 112ms/step - loss: 0.0059 - accuracy: 0.9991 - val_loss: 0.3161 - val_accuracy: 0.9232\n",
            "\n",
            "Epoch 00068: val_loss did not improve from 0.23907\n",
            "WARNING:tensorflow:Early stopping conditioned on metric `val_acc` which is not available. Available metrics are: loss,accuracy,val_loss,val_accuracy,lr\n",
            "Epoch 69/100\n",
            "105/105 [==============================] - 12s 113ms/step - loss: 0.0065 - accuracy: 0.9994 - val_loss: 0.3161 - val_accuracy: 0.9232\n",
            "\n",
            "Epoch 00069: val_loss did not improve from 0.23907\n",
            "WARNING:tensorflow:Early stopping conditioned on metric `val_acc` which is not available. Available metrics are: loss,accuracy,val_loss,val_accuracy,lr\n",
            "Epoch 70/100\n",
            "105/105 [==============================] - 12s 113ms/step - loss: 0.0126 - accuracy: 0.9976 - val_loss: 0.3190 - val_accuracy: 0.9232\n",
            "\n",
            "Epoch 00070: val_loss did not improve from 0.23907\n",
            "WARNING:tensorflow:Early stopping conditioned on metric `val_acc` which is not available. Available metrics are: loss,accuracy,val_loss,val_accuracy,lr\n",
            "Epoch 71/100\n",
            "105/105 [==============================] - 12s 113ms/step - loss: 0.0065 - accuracy: 0.9988 - val_loss: 0.3169 - val_accuracy: 0.9232\n",
            "\n",
            "Epoch 00071: val_loss did not improve from 0.23907\n",
            "WARNING:tensorflow:Early stopping conditioned on metric `val_acc` which is not available. Available metrics are: loss,accuracy,val_loss,val_accuracy,lr\n",
            "Epoch 72/100\n",
            "105/105 [==============================] - 12s 113ms/step - loss: 0.0076 - accuracy: 0.9982 - val_loss: 0.3161 - val_accuracy: 0.9232\n",
            "\n",
            "Epoch 00072: val_loss did not improve from 0.23907\n",
            "\n",
            "Epoch 00072: ReduceLROnPlateau reducing learning rate to 2.5628907329711126e-10.\n",
            "WARNING:tensorflow:Early stopping conditioned on metric `val_acc` which is not available. Available metrics are: loss,accuracy,val_loss,val_accuracy,lr\n",
            "Epoch 73/100\n",
            "105/105 [==============================] - 12s 113ms/step - loss: 0.0058 - accuracy: 0.9994 - val_loss: 0.3162 - val_accuracy: 0.9232\n",
            "\n",
            "Epoch 00073: val_loss did not improve from 0.23907\n",
            "WARNING:tensorflow:Early stopping conditioned on metric `val_acc` which is not available. Available metrics are: loss,accuracy,val_loss,val_accuracy,lr\n",
            "Epoch 74/100\n",
            "105/105 [==============================] - 12s 114ms/step - loss: 0.0081 - accuracy: 0.9988 - val_loss: 0.3181 - val_accuracy: 0.9256\n",
            "\n",
            "Epoch 00074: val_loss did not improve from 0.23907\n",
            "WARNING:tensorflow:Early stopping conditioned on metric `val_acc` which is not available. Available metrics are: loss,accuracy,val_loss,val_accuracy,lr\n",
            "Epoch 75/100\n",
            "105/105 [==============================] - 12s 113ms/step - loss: 0.0113 - accuracy: 0.9976 - val_loss: 0.3194 - val_accuracy: 0.9232\n",
            "\n",
            "Epoch 00075: val_loss did not improve from 0.23907\n",
            "WARNING:tensorflow:Early stopping conditioned on metric `val_acc` which is not available. Available metrics are: loss,accuracy,val_loss,val_accuracy,lr\n",
            "Epoch 76/100\n",
            "105/105 [==============================] - 12s 112ms/step - loss: 0.0082 - accuracy: 0.9991 - val_loss: 0.3187 - val_accuracy: 0.9256\n",
            "\n",
            "Epoch 00076: val_loss did not improve from 0.23907\n",
            "WARNING:tensorflow:Early stopping conditioned on metric `val_acc` which is not available. Available metrics are: loss,accuracy,val_loss,val_accuracy,lr\n",
            "Epoch 77/100\n",
            "105/105 [==============================] - 12s 113ms/step - loss: 0.0075 - accuracy: 0.9988 - val_loss: 0.3171 - val_accuracy: 0.9232\n",
            "\n",
            "Epoch 00077: val_loss did not improve from 0.23907\n",
            "WARNING:tensorflow:Early stopping conditioned on metric `val_acc` which is not available. Available metrics are: loss,accuracy,val_loss,val_accuracy,lr\n",
            "Epoch 78/100\n",
            "105/105 [==============================] - 12s 113ms/step - loss: 0.0081 - accuracy: 0.9982 - val_loss: 0.3162 - val_accuracy: 0.9244\n",
            "\n",
            "Epoch 00078: val_loss did not improve from 0.23907\n",
            "WARNING:tensorflow:Early stopping conditioned on metric `val_acc` which is not available. Available metrics are: loss,accuracy,val_loss,val_accuracy,lr\n",
            "Epoch 79/100\n",
            "105/105 [==============================] - 12s 113ms/step - loss: 0.0123 - accuracy: 0.9982 - val_loss: 0.3192 - val_accuracy: 0.9232\n",
            "\n",
            "Epoch 00079: val_loss did not improve from 0.23907\n",
            "WARNING:tensorflow:Early stopping conditioned on metric `val_acc` which is not available. Available metrics are: loss,accuracy,val_loss,val_accuracy,lr\n",
            "Epoch 80/100\n",
            "105/105 [==============================] - 12s 113ms/step - loss: 0.0110 - accuracy: 0.9979 - val_loss: 0.3204 - val_accuracy: 0.9232\n",
            "\n",
            "Epoch 00080: val_loss did not improve from 0.23907\n",
            "\n",
            "Epoch 00080: ReduceLROnPlateau reducing learning rate to 3.844336099456669e-11.\n",
            "WARNING:tensorflow:Early stopping conditioned on metric `val_acc` which is not available. Available metrics are: loss,accuracy,val_loss,val_accuracy,lr\n",
            "Epoch 81/100\n",
            "105/105 [==============================] - 12s 113ms/step - loss: 0.0110 - accuracy: 0.9985 - val_loss: 0.3177 - val_accuracy: 0.9232\n",
            "\n",
            "Epoch 00081: val_loss did not improve from 0.23907\n",
            "WARNING:tensorflow:Early stopping conditioned on metric `val_acc` which is not available. Available metrics are: loss,accuracy,val_loss,val_accuracy,lr\n",
            "Epoch 82/100\n",
            "105/105 [==============================] - 12s 113ms/step - loss: 0.0062 - accuracy: 0.9988 - val_loss: 0.3165 - val_accuracy: 0.9256\n",
            "\n",
            "Epoch 00082: val_loss did not improve from 0.23907\n",
            "WARNING:tensorflow:Early stopping conditioned on metric `val_acc` which is not available. Available metrics are: loss,accuracy,val_loss,val_accuracy,lr\n",
            "Epoch 83/100\n",
            "105/105 [==============================] - 12s 114ms/step - loss: 0.0074 - accuracy: 0.9991 - val_loss: 0.3165 - val_accuracy: 0.9232\n",
            "\n",
            "Epoch 00083: val_loss did not improve from 0.23907\n",
            "WARNING:tensorflow:Early stopping conditioned on metric `val_acc` which is not available. Available metrics are: loss,accuracy,val_loss,val_accuracy,lr\n",
            "Epoch 84/100\n",
            "105/105 [==============================] - 12s 114ms/step - loss: 0.0069 - accuracy: 0.9985 - val_loss: 0.3163 - val_accuracy: 0.9256\n",
            "\n",
            "Epoch 00084: val_loss did not improve from 0.23907\n",
            "WARNING:tensorflow:Early stopping conditioned on metric `val_acc` which is not available. Available metrics are: loss,accuracy,val_loss,val_accuracy,lr\n",
            "Epoch 85/100\n",
            "105/105 [==============================] - 12s 113ms/step - loss: 0.0061 - accuracy: 0.9988 - val_loss: 0.3165 - val_accuracy: 0.9232\n",
            "\n",
            "Epoch 00085: val_loss did not improve from 0.23907\n",
            "WARNING:tensorflow:Early stopping conditioned on metric `val_acc` which is not available. Available metrics are: loss,accuracy,val_loss,val_accuracy,lr\n",
            "Epoch 86/100\n",
            "105/105 [==============================] - 12s 113ms/step - loss: 0.0066 - accuracy: 0.9988 - val_loss: 0.3166 - val_accuracy: 0.9232\n",
            "\n",
            "Epoch 00086: val_loss did not improve from 0.23907\n",
            "WARNING:tensorflow:Early stopping conditioned on metric `val_acc` which is not available. Available metrics are: loss,accuracy,val_loss,val_accuracy,lr\n",
            "Epoch 87/100\n",
            "105/105 [==============================] - 12s 113ms/step - loss: 0.0070 - accuracy: 0.9985 - val_loss: 0.3158 - val_accuracy: 0.9256\n",
            "\n",
            "Epoch 00087: val_loss did not improve from 0.23907\n",
            "WARNING:tensorflow:Early stopping conditioned on metric `val_acc` which is not available. Available metrics are: loss,accuracy,val_loss,val_accuracy,lr\n",
            "Epoch 88/100\n",
            "105/105 [==============================] - 12s 113ms/step - loss: 0.0068 - accuracy: 0.9994 - val_loss: 0.3166 - val_accuracy: 0.9232\n",
            "\n",
            "Epoch 00088: val_loss did not improve from 0.23907\n",
            "\n",
            "Epoch 00088: ReduceLROnPlateau reducing learning rate to 5.766503941018186e-12.\n",
            "WARNING:tensorflow:Early stopping conditioned on metric `val_acc` which is not available. Available metrics are: loss,accuracy,val_loss,val_accuracy,lr\n",
            "Epoch 89/100\n",
            "105/105 [==============================] - 12s 113ms/step - loss: 0.0066 - accuracy: 0.9994 - val_loss: 0.3164 - val_accuracy: 0.9232\n",
            "\n",
            "Epoch 00089: val_loss did not improve from 0.23907\n",
            "WARNING:tensorflow:Early stopping conditioned on metric `val_acc` which is not available. Available metrics are: loss,accuracy,val_loss,val_accuracy,lr\n",
            "Epoch 90/100\n",
            "105/105 [==============================] - 12s 113ms/step - loss: 0.0102 - accuracy: 0.9982 - val_loss: 0.3178 - val_accuracy: 0.9256\n",
            "\n",
            "Epoch 00090: val_loss did not improve from 0.23907\n",
            "WARNING:tensorflow:Early stopping conditioned on metric `val_acc` which is not available. Available metrics are: loss,accuracy,val_loss,val_accuracy,lr\n",
            "Epoch 91/100\n",
            "105/105 [==============================] - 12s 114ms/step - loss: 0.0063 - accuracy: 0.9988 - val_loss: 0.3168 - val_accuracy: 0.9256\n",
            "\n",
            "Epoch 00091: val_loss did not improve from 0.23907\n",
            "WARNING:tensorflow:Early stopping conditioned on metric `val_acc` which is not available. Available metrics are: loss,accuracy,val_loss,val_accuracy,lr\n",
            "Epoch 92/100\n",
            "105/105 [==============================] - 12s 113ms/step - loss: 0.0081 - accuracy: 0.9982 - val_loss: 0.3162 - val_accuracy: 0.9256\n",
            "\n",
            "Epoch 00092: val_loss did not improve from 0.23907\n",
            "WARNING:tensorflow:Early stopping conditioned on metric `val_acc` which is not available. Available metrics are: loss,accuracy,val_loss,val_accuracy,lr\n",
            "Epoch 93/100\n",
            "105/105 [==============================] - 12s 113ms/step - loss: 0.0078 - accuracy: 0.9979 - val_loss: 0.3165 - val_accuracy: 0.9232\n",
            "\n",
            "Epoch 00093: val_loss did not improve from 0.23907\n",
            "WARNING:tensorflow:Early stopping conditioned on metric `val_acc` which is not available. Available metrics are: loss,accuracy,val_loss,val_accuracy,lr\n",
            "Epoch 94/100\n",
            "105/105 [==============================] - 12s 113ms/step - loss: 0.0064 - accuracy: 0.9994 - val_loss: 0.3168 - val_accuracy: 0.9232\n",
            "\n",
            "Epoch 00094: val_loss did not improve from 0.23907\n",
            "WARNING:tensorflow:Early stopping conditioned on metric `val_acc` which is not available. Available metrics are: loss,accuracy,val_loss,val_accuracy,lr\n",
            "Epoch 95/100\n",
            "105/105 [==============================] - 12s 113ms/step - loss: 0.0118 - accuracy: 0.9970 - val_loss: 0.3186 - val_accuracy: 0.9244\n",
            "\n",
            "Epoch 00095: val_loss did not improve from 0.23907\n",
            "WARNING:tensorflow:Early stopping conditioned on metric `val_acc` which is not available. Available metrics are: loss,accuracy,val_loss,val_accuracy,lr\n",
            "Epoch 96/100\n",
            "105/105 [==============================] - 12s 114ms/step - loss: 0.0106 - accuracy: 0.9982 - val_loss: 0.3174 - val_accuracy: 0.9232\n",
            "\n",
            "Epoch 00096: val_loss did not improve from 0.23907\n",
            "\n",
            "Epoch 00096: ReduceLROnPlateau reducing learning rate to 8.64975604163154e-13.\n",
            "WARNING:tensorflow:Early stopping conditioned on metric `val_acc` which is not available. Available metrics are: loss,accuracy,val_loss,val_accuracy,lr\n",
            "Epoch 97/100\n",
            "105/105 [==============================] - 12s 114ms/step - loss: 0.0097 - accuracy: 0.9982 - val_loss: 0.3186 - val_accuracy: 0.9232\n",
            "\n",
            "Epoch 00097: val_loss did not improve from 0.23907\n",
            "WARNING:tensorflow:Early stopping conditioned on metric `val_acc` which is not available. Available metrics are: loss,accuracy,val_loss,val_accuracy,lr\n",
            "Epoch 98/100\n",
            "105/105 [==============================] - 12s 113ms/step - loss: 0.0041 - accuracy: 1.0000 - val_loss: 0.3169 - val_accuracy: 0.9256\n",
            "\n",
            "Epoch 00098: val_loss did not improve from 0.23907\n",
            "WARNING:tensorflow:Early stopping conditioned on metric `val_acc` which is not available. Available metrics are: loss,accuracy,val_loss,val_accuracy,lr\n",
            "Epoch 99/100\n",
            "105/105 [==============================] - 12s 114ms/step - loss: 0.0089 - accuracy: 0.9976 - val_loss: 0.3166 - val_accuracy: 0.9232\n",
            "\n",
            "Epoch 00099: val_loss did not improve from 0.23907\n",
            "WARNING:tensorflow:Early stopping conditioned on metric `val_acc` which is not available. Available metrics are: loss,accuracy,val_loss,val_accuracy,lr\n",
            "Epoch 100/100\n",
            "105/105 [==============================] - 12s 114ms/step - loss: 0.0073 - accuracy: 0.9985 - val_loss: 0.3169 - val_accuracy: 0.9232\n",
            "\n",
            "Epoch 00100: val_loss did not improve from 0.23907\n",
            "WARNING:tensorflow:Early stopping conditioned on metric `val_acc` which is not available. Available metrics are: loss,accuracy,val_loss,val_accuracy,lr\n"
          ]
        }
      ]
    },
    {
      "cell_type": "code",
      "metadata": {
        "colab": {
          "base_uri": "https://localhost:8080/",
          "height": 573
        },
        "id": "JkigQ40LYWVR",
        "outputId": "31fa9d19-3f00-43af-df46-45758480c8b0"
      },
      "source": [
        "plt.plot(hist.history['accuracy'])\n",
        "plt.plot(hist.history['val_accuracy'])\n",
        "plt.title('Model Accuracy')\n",
        "plt.ylabel('Accuracy')\n",
        "plt.xlabel('Epoch')\n",
        "plt.legend(['Train', 'Val'], loc='upper right')\n",
        "plt.show()\n",
        "\n",
        "\n",
        "plt.plot(hist.history['loss'])\n",
        "plt.plot(hist.history['val_loss'])\n",
        "plt.title('Model Loss')\n",
        "plt.ylabel('Loss')\n",
        "plt.xlabel('Epoch')\n",
        "plt.legend(['Train', 'Val'], loc='upper right')\n",
        "plt.show()"
      ],
      "execution_count": 38,
      "outputs": [
        {
          "output_type": "display_data",
          "data": {
            "image/png": "[encoded data removed]",
            "text/plain": [
              "<Figure size 432x288 with 1 Axes>"
            ]
          },
          "metadata": {
            "needs_background": "light"
          }
        },
        {
          "output_type": "display_data",
          "data": {
            "image/png": "[encoded data removed]",
            "text/plain": [
              "<Figure size 432x288 with 1 Axes>"
            ]
          },
          "metadata": {
            "needs_background": "light"
          }
        }
      ]
    },
    {
      "cell_type": "code",
      "metadata": {
        "id": "wK_S2W3JYWTF"
      },
      "source": [
        "def plot_confusion_matrix(cm, classes,\n",
        "                          normalize=False,\n",
        "                          title='Confusion matrix',\n",
        "                          cmap=plt.cm.Blues):\n",
        "    \"\"\"\n",
        "    This function prints and plots the confusion matrix.\n",
        "    Normalization can be applied by setting `normalize=True`.\n",
        "    \"\"\"\n",
        "    plt.imshow(cm, interpolation='nearest', cmap=cmap)\n",
        "    plt.title(title)\n",
        "    plt.colorbar()\n",
        "    tick_marks = np.arange(len(classes))\n",
        "    plt.xticks(tick_marks, classes, rotation=45)\n",
        "    plt.yticks(tick_marks, classes)\n",
        "\n",
        "    if normalize:\n",
        "        cm = cm.astype('float') / cm.sum(axis=1)[:, np.newaxis]\n",
        "\n",
        "    thresh = cm.max() / 2.\n",
        "    for i, j in itertools.product(range(cm.shape[0]), range(cm.shape[1])):\n",
        "        plt.text(j, i, cm[i, j],\n",
        "                 horizontalalignment=\"center\",\n",
        "                 color=\"white\" if cm[i, j] > thresh else \"black\")\n",
        "\n",
        "    plt.tight_layout()\n",
        "    plt.ylabel('True label')\n",
        "    plt.xlabel('Predicted label')"
      ],
      "execution_count": 39,
      "outputs": []
    },
    {
      "cell_type": "code",
      "metadata": {
        "colab": {
          "base_uri": "https://localhost:8080/",
          "height": 311
        },
        "id": "VSMT5_KCYWQL",
        "outputId": "beb424fd-814b-4409-bdaf-f924d452304f"
      },
      "source": [
        "# Predict the values from the validation dataset\n",
        "Y_pred = model.predict(X_val)\n",
        "# Convert predictions classes to one hot vectors \n",
        "Y_pred_classes = np.argmax(Y_pred,axis = 1) \n",
        "# Convert validation observations to one hot vectors\n",
        "Y_true = np.argmax(Y_val,axis = 1) \n",
        "# compute the confusion matrix\n",
        "confusion_mtx = confusion_matrix(Y_true, Y_pred_classes) \n",
        "# plot the confusion matrix\n",
        "plot_confusion_matrix(confusion_mtx, classes = range(2))"
      ],
      "execution_count": 40,
      "outputs": [
        {
          "output_type": "display_data",
          "data": {
            "image/png": "[encoded data removed]",
            "text/plain": [
              "<Figure size 432x288 with 2 Axes>"
            ]
          },
          "metadata": {
            "needs_background": "light"
          }
        }
      ]
    },
    {
      "cell_type": "code",
      "metadata": {
        "id": "4aW319gJbiNy"
      },
      "source": [
        "class_names = ['fake', 'real']"
      ],
      "execution_count": 41,
      "outputs": []
    },
    {
      "cell_type": "code",
      "metadata": {
        "id": "dOsCb3fBbiIJ"
      },
      "source": [
        "fake_image = os.listdir('/content/casia-dataset/CASIA2/Tp/')\n",
        "correct = 0\n",
        "total = 0\n",
        "for file_name in fake_image:\n",
        "    if file_name.endswith('jpg') or filename.endswith('png'):\n",
        "        fake_image_path = os.path.join('/content/casia-dataset/CASIA2/Tp/', file_name)\n",
        "        image = prepare_image(fake_image_path)\n",
        "        image = image.reshape(-1, 128, 128, 3)\n",
        "        y_pred = model.predict(image)\n",
        "        y_pred_class = np.argmax(y_pred, axis = 1)[0]\n",
        "        total += 1\n",
        "        if y_pred_class == 0:\n",
        "            correct += 1"
      ],
      "execution_count": 42,
      "outputs": []
    },
    {
      "cell_type": "code",
      "metadata": {
        "colab": {
          "base_uri": "https://localhost:8080/"
        },
        "id": "9Q7n-tY9b3fZ",
        "outputId": "e2d94205-c0aa-4433-ace9-66386e8517b0"
      },
      "source": [
        "print(f'Total: {total}, Correct: {correct}, Acc: {correct / total * 100.0}')\n"
      ],
      "execution_count": 43,
      "outputs": [
        {
          "output_type": "stream",
          "name": "stdout",
          "text": [
            "Total: 2064, Correct: 2033, Acc: 98.49806201550388\n"
          ]
        }
      ]
    },
    {
      "cell_type": "code",
      "metadata": {
        "colab": {
          "base_uri": "https://localhost:8080/"
        },
        "id": "z9edkGzRb3bZ",
        "outputId": "efd6038e-3d5e-48f6-a748-4889f287138e"
      },
      "source": [
        "real_image = os.listdir('/content/casia-dataset/CASIA2/Au/')\n",
        "correct_r = 0\n",
        "total_r = 0\n",
        "for file_name in real_image:\n",
        "    if file_name.endswith('jpg') or filename.endswith('png'):\n",
        "        real_image_path = os.path.join('/content/casia-dataset/CASIA2/Au/', file_name)\n",
        "        image = prepare_image(real_image_path)\n",
        "        image = image.reshape(-1, 128, 128, 3)\n",
        "        y_pred = model.predict(image)\n",
        "        y_pred_class = np.argmax(y_pred, axis = 1)[0]\n",
        "        total_r += 1\n",
        "        if y_pred_class == 1:\n",
        "            correct_r += 1"
      ],
      "execution_count": 44,
      "outputs": [
        {
          "output_type": "stream",
          "name": "stderr",
          "text": [
            "/usr/local/lib/python3.7/dist-packages/PIL/TiffImagePlugin.py:770: UserWarning: Possibly corrupt EXIF data.  Expecting to read 8 bytes but only got 2. Skipping tag 41487\n",
            "  \" Skipping tag %s\" % (size, len(data), tag)\n",
            "/usr/local/lib/python3.7/dist-packages/PIL/TiffImagePlugin.py:770: UserWarning: Possibly corrupt EXIF data.  Expecting to read 8 bytes but only got 0. Skipping tag 41988\n",
            "  \" Skipping tag %s\" % (size, len(data), tag)\n"
          ]
        }
      ]
    },
    {
      "cell_type": "code",
      "metadata": {
        "colab": {
          "base_uri": "https://localhost:8080/"
        },
        "id": "V6W4BLFucwkH",
        "outputId": "449eca4c-9cef-4cf9-f46a-fb1bec0e4343"
      },
      "source": [
        "correct += correct_r\n",
        "total += total_r\n",
        "print(f'Total: {total_r}, Correct: {correct_r}, Acc: {correct_r / total_r * 100.0}')\n",
        "print(f'Total: {total}, Correct: {correct}, Acc: {correct / total * 100.0}')"
      ],
      "execution_count": 45,
      "outputs": [
        {
          "output_type": "stream",
          "name": "stdout",
          "text": [
            "Total: 7354, Correct: 6951, Acc: 94.5199891215665\n",
            "Total: 9418, Correct: 8984, Acc: 95.3918029305585\n"
          ]
        }
      ]
    }
  ]
}