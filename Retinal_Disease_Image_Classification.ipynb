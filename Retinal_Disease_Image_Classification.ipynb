{
  "nbformat": 4,
  "nbformat_minor": 0,
  "metadata": {
    "colab": {
      "name": "Retinal_Disease_Image Classification.ipynb",
      "provenance": [],
      "collapsed_sections": [],
      "authorship_tag": "ABX9TyNXcoEpAk0X8WNqQA2NM+Uj",
      "include_colab_link": true
    },
    "kernelspec": {
      "name": "python3",
      "display_name": "Python 3"
    },
    "language_info": {
      "name": "python"
    },
    "accelerator": "GPU",
    "widgets": {
      "application/vnd.jupyter.widget-state+json": {
        "dea49b3303184d47b61f68fb44200aa1": {
          "model_module": "@jupyter-widgets/controls",
          "model_name": "HBoxModel",
          "model_module_version": "1.5.0",
          "state": {
            "_view_name": "HBoxView",
            "_dom_classes": [],
            "_model_name": "HBoxModel",
            "_view_module": "@jupyter-widgets/controls",
            "_model_module_version": "1.5.0",
            "_view_count": null,
            "_view_module_version": "1.5.0",
            "box_style": "",
            "layout": "IPY_MODEL_a27ccadf1aea470c981ccb0dc1c4a0e3",
            "_model_module": "@jupyter-widgets/controls",
            "children": [
              "IPY_MODEL_f3ea8dd18cc942db865250ace7919545",
              "IPY_MODEL_0f64d0e24a07497c9116124c75b0af88",
              "IPY_MODEL_7e0f5f0930f74cedab0179f7b6dad794"
            ]
          }
        },
        "a27ccadf1aea470c981ccb0dc1c4a0e3": {
          "model_module": "@jupyter-widgets/base",
          "model_name": "LayoutModel",
          "model_module_version": "1.2.0",
          "state": {
            "_view_name": "LayoutView",
            "grid_template_rows": null,
            "right": null,
            "justify_content": null,
            "_view_module": "@jupyter-widgets/base",
            "overflow": null,
            "_model_module_version": "1.2.0",
            "_view_count": null,
            "flex_flow": null,
            "width": null,
            "min_width": null,
            "border": null,
            "align_items": null,
            "bottom": null,
            "_model_module": "@jupyter-widgets/base",
            "top": null,
            "grid_column": null,
            "overflow_y": null,
            "overflow_x": null,
            "grid_auto_flow": null,
            "grid_area": null,
            "grid_template_columns": null,
            "flex": null,
            "_model_name": "LayoutModel",
            "justify_items": null,
            "grid_row": null,
            "max_height": null,
            "align_content": null,
            "visibility": null,
            "align_self": null,
            "height": null,
            "min_height": null,
            "padding": null,
            "grid_auto_rows": null,
            "grid_gap": null,
            "max_width": null,
            "order": null,
            "_view_module_version": "1.2.0",
            "grid_template_areas": null,
            "object_position": null,
            "object_fit": null,
            "grid_auto_columns": null,
            "margin": null,
            "display": null,
            "left": null
          }
        },
        "f3ea8dd18cc942db865250ace7919545": {
          "model_module": "@jupyter-widgets/controls",
          "model_name": "HTMLModel",
          "model_module_version": "1.5.0",
          "state": {
            "_view_name": "HTMLView",
            "style": "IPY_MODEL_1316cdfddd8a47759bd1b374e5e9bbed",
            "_dom_classes": [],
            "description": "",
            "_model_name": "HTMLModel",
            "placeholder": "​",
            "_view_module": "@jupyter-widgets/controls",
            "_model_module_version": "1.5.0",
            "value": "100%",
            "_view_count": null,
            "_view_module_version": "1.5.0",
            "description_tooltip": null,
            "_model_module": "@jupyter-widgets/controls",
            "layout": "IPY_MODEL_1bf07b0997a54e8b9bf812c1246adcf9"
          }
        },
        "0f64d0e24a07497c9116124c75b0af88": {
          "model_module": "@jupyter-widgets/controls",
          "model_name": "FloatProgressModel",
          "model_module_version": "1.5.0",
          "state": {
            "_view_name": "ProgressView",
            "style": "IPY_MODEL_6f322bdca5144552a35cc0cf179011e3",
            "_dom_classes": [],
            "description": "",
            "_model_name": "FloatProgressModel",
            "bar_style": "success",
            "max": 46830571,
            "_view_module": "@jupyter-widgets/controls",
            "_model_module_version": "1.5.0",
            "value": 46830571,
            "_view_count": null,
            "_view_module_version": "1.5.0",
            "orientation": "horizontal",
            "min": 0,
            "description_tooltip": null,
            "_model_module": "@jupyter-widgets/controls",
            "layout": "IPY_MODEL_2d923260b7c14f1eaf23bd3723573fa6"
          }
        },
        "7e0f5f0930f74cedab0179f7b6dad794": {
          "model_module": "@jupyter-widgets/controls",
          "model_name": "HTMLModel",
          "model_module_version": "1.5.0",
          "state": {
            "_view_name": "HTMLView",
            "style": "IPY_MODEL_90f088c587834502bc4e7d9f907728dc",
            "_dom_classes": [],
            "description": "",
            "_model_name": "HTMLModel",
            "placeholder": "​",
            "_view_module": "@jupyter-widgets/controls",
            "_model_module_version": "1.5.0",
            "value": " 44.7M/44.7M [00:04&lt;00:00, 6.00MB/s]",
            "_view_count": null,
            "_view_module_version": "1.5.0",
            "description_tooltip": null,
            "_model_module": "@jupyter-widgets/controls",
            "layout": "IPY_MODEL_a946e6ec2df0405f919ac71a5889f973"
          }
        },
        "1316cdfddd8a47759bd1b374e5e9bbed": {
          "model_module": "@jupyter-widgets/controls",
          "model_name": "DescriptionStyleModel",
          "model_module_version": "1.5.0",
          "state": {
            "_view_name": "StyleView",
            "_model_name": "DescriptionStyleModel",
            "description_width": "",
            "_view_module": "@jupyter-widgets/base",
            "_model_module_version": "1.5.0",
            "_view_count": null,
            "_view_module_version": "1.2.0",
            "_model_module": "@jupyter-widgets/controls"
          }
        },
        "1bf07b0997a54e8b9bf812c1246adcf9": {
          "model_module": "@jupyter-widgets/base",
          "model_name": "LayoutModel",
          "model_module_version": "1.2.0",
          "state": {
            "_view_name": "LayoutView",
            "grid_template_rows": null,
            "right": null,
            "justify_content": null,
            "_view_module": "@jupyter-widgets/base",
            "overflow": null,
            "_model_module_version": "1.2.0",
            "_view_count": null,
            "flex_flow": null,
            "width": null,
            "min_width": null,
            "border": null,
            "align_items": null,
            "bottom": null,
            "_model_module": "@jupyter-widgets/base",
            "top": null,
            "grid_column": null,
            "overflow_y": null,
            "overflow_x": null,
            "grid_auto_flow": null,
            "grid_area": null,
            "grid_template_columns": null,
            "flex": null,
            "_model_name": "LayoutModel",
            "justify_items": null,
            "grid_row": null,
            "max_height": null,
            "align_content": null,
            "visibility": null,
            "align_self": null,
            "height": null,
            "min_height": null,
            "padding": null,
            "grid_auto_rows": null,
            "grid_gap": null,
            "max_width": null,
            "order": null,
            "_view_module_version": "1.2.0",
            "grid_template_areas": null,
            "object_position": null,
            "object_fit": null,
            "grid_auto_columns": null,
            "margin": null,
            "display": null,
            "left": null
          }
        },
        "6f322bdca5144552a35cc0cf179011e3": {
          "model_module": "@jupyter-widgets/controls",
          "model_name": "ProgressStyleModel",
          "model_module_version": "1.5.0",
          "state": {
            "_view_name": "StyleView",
            "_model_name": "ProgressStyleModel",
            "description_width": "",
            "_view_module": "@jupyter-widgets/base",
            "_model_module_version": "1.5.0",
            "_view_count": null,
            "_view_module_version": "1.2.0",
            "bar_color": null,
            "_model_module": "@jupyter-widgets/controls"
          }
        },
        "2d923260b7c14f1eaf23bd3723573fa6": {
          "model_module": "@jupyter-widgets/base",
          "model_name": "LayoutModel",
          "model_module_version": "1.2.0",
          "state": {
            "_view_name": "LayoutView",
            "grid_template_rows": null,
            "right": null,
            "justify_content": null,
            "_view_module": "@jupyter-widgets/base",
            "overflow": null,
            "_model_module_version": "1.2.0",
            "_view_count": null,
            "flex_flow": null,
            "width": null,
            "min_width": null,
            "border": null,
            "align_items": null,
            "bottom": null,
            "_model_module": "@jupyter-widgets/base",
            "top": null,
            "grid_column": null,
            "overflow_y": null,
            "overflow_x": null,
            "grid_auto_flow": null,
            "grid_area": null,
            "grid_template_columns": null,
            "flex": null,
            "_model_name": "LayoutModel",
            "justify_items": null,
            "grid_row": null,
            "max_height": null,
            "align_content": null,
            "visibility": null,
            "align_self": null,
            "height": null,
            "min_height": null,
            "padding": null,
            "grid_auto_rows": null,
            "grid_gap": null,
            "max_width": null,
            "order": null,
            "_view_module_version": "1.2.0",
            "grid_template_areas": null,
            "object_position": null,
            "object_fit": null,
            "grid_auto_columns": null,
            "margin": null,
            "display": null,
            "left": null
          }
        },
        "90f088c587834502bc4e7d9f907728dc": {
          "model_module": "@jupyter-widgets/controls",
          "model_name": "DescriptionStyleModel",
          "model_module_version": "1.5.0",
          "state": {
            "_view_name": "StyleView",
            "_model_name": "DescriptionStyleModel",
            "description_width": "",
            "_view_module": "@jupyter-widgets/base",
            "_model_module_version": "1.5.0",
            "_view_count": null,
            "_view_module_version": "1.2.0",
            "_model_module": "@jupyter-widgets/controls"
          }
        },
        "a946e6ec2df0405f919ac71a5889f973": {
          "model_module": "@jupyter-widgets/base",
          "model_name": "LayoutModel",
          "model_module_version": "1.2.0",
          "state": {
            "_view_name": "LayoutView",
            "grid_template_rows": null,
            "right": null,
            "justify_content": null,
            "_view_module": "@jupyter-widgets/base",
            "overflow": null,
            "_model_module_version": "1.2.0",
            "_view_count": null,
            "flex_flow": null,
            "width": null,
            "min_width": null,
            "border": null,
            "align_items": null,
            "bottom": null,
            "_model_module": "@jupyter-widgets/base",
            "top": null,
            "grid_column": null,
            "overflow_y": null,
            "overflow_x": null,
            "grid_auto_flow": null,
            "grid_area": null,
            "grid_template_columns": null,
            "flex": null,
            "_model_name": "LayoutModel",
            "justify_items": null,
            "grid_row": null,
            "max_height": null,
            "align_content": null,
            "visibility": null,
            "align_self": null,
            "height": null,
            "min_height": null,
            "padding": null,
            "grid_auto_rows": null,
            "grid_gap": null,
            "max_width": null,
            "order": null,
            "_view_module_version": "1.2.0",
            "grid_template_areas": null,
            "object_position": null,
            "object_fit": null,
            "grid_auto_columns": null,
            "margin": null,
            "display": null,
            "left": null
          }
        }
      }
    }
  },
  "cells": [
    {
      "cell_type": "markdown",
      "metadata": {
        "id": "view-in-github",
        "colab_type": "text"
      },
      "source": [
        "<a href=\"https://colab.research.google.com/github/shobhittya/deeplearning/blob/main/Retinal_Disease_Image_Classification.ipynb\" target=\"_parent\"><img src=\"https://colab.research.google.com/assets/colab-badge.svg\" alt=\"Open In Colab\"/></a>"
      ]
    },
    {
      "cell_type": "code",
      "source": [
        "# os.environ['CUDA_LAUNCH_BLOCKING'] = \"1\"\n",
        "CUDA_LAUNCH_BLOCKING = \"1\""
      ],
      "metadata": {
        "id": "dLD542IqtSI-"
      },
      "execution_count": 1,
      "outputs": []
    },
    {
      "cell_type": "code",
      "source": [
        "import os\n",
        "import torch\n",
        "import torchvision\n",
        "import tarfile\n",
        "import torch\n",
        "import torch.nn as nn\n",
        "import torch.nn.functional as F\n",
        "import torch.optim as optim\n",
        "from torch.optim import lr_scheduler\n",
        "\n",
        "import torchvision\n",
        "from torchvision import datasets, models, transforms\n",
        "\n",
        "import numpy as np\n",
        "import matplotlib.pyplot as plt\n",
        "import pandas as pd\n",
        "import copy\n",
        "from tqdm.notebook import tqdm\n",
        "\n",
        "import time\n",
        "from torchvision.datasets.utils import download_url\n",
        "from torch.utils.data import random_split\n",
        "import math\n",
        "from math import sqrt\n",
        "\n",
        "import matplotlib\n",
        "import matplotlib.pyplot as plt\n",
        "%matplotlib inline\n",
        "\n",
        "import torch.nn as nn\n",
        "import torch.nn.functional as F\n",
        "import torch\n",
        "from tqdm.notebook import tqdm"
      ],
      "metadata": {
        "id": "Wg3SNF3vwfr8"
      },
      "execution_count": 2,
      "outputs": []
    },
    {
      "cell_type": "code",
      "source": [
        "#Data Transformation and Augmentation\n",
        "data_transforms = {\n",
        "    'train': transforms.Compose([\n",
        "        transforms.RandomHorizontalFlip(),\n",
        "        transforms.Resize((224, 224)),\n",
        "        transforms.ToTensor(),\n",
        "        transforms.Normalize([0.485, 0.456, 0.406], [0.229, 0.224, 0.225])\n",
        "    ]),\n",
        "    'test': transforms.Compose([\n",
        "        transforms.Resize((224, 224)),\n",
        "        transforms.ToTensor(),\n",
        "        transforms.Normalize([0.485, 0.456, 0.406], [0.229, 0.224, 0.225])\n",
        "    ])\n",
        "}"
      ],
      "metadata": {
        "id": "AQEX1_xSwfo4"
      },
      "execution_count": 3,
      "outputs": []
    },
    {
      "cell_type": "markdown",
      "source": [
        "**Downloading datasets**"
      ],
      "metadata": {
        "id": "BMMWc6kXEs0X"
      }
    },
    {
      "cell_type": "code",
      "source": [
        "!pip install opendatasets"
      ],
      "metadata": {
        "colab": {
          "base_uri": "https://localhost:8080/"
        },
        "id": "6R5zEgo8dUbi",
        "outputId": "6793ac46-f68d-4129-d76e-a4b2a48f224b"
      },
      "execution_count": 4,
      "outputs": [
        {
          "output_type": "stream",
          "name": "stdout",
          "text": [
            "Collecting opendatasets\n",
            "  Downloading opendatasets-0.1.20-py3-none-any.whl (14 kB)\n",
            "Requirement already satisfied: tqdm in /usr/local/lib/python3.7/dist-packages (from opendatasets) (4.62.3)\n",
            "Requirement already satisfied: click in /usr/local/lib/python3.7/dist-packages (from opendatasets) (7.1.2)\n",
            "Requirement already satisfied: kaggle in /usr/local/lib/python3.7/dist-packages (from opendatasets) (1.5.12)\n",
            "Requirement already satisfied: six>=1.10 in /usr/local/lib/python3.7/dist-packages (from kaggle->opendatasets) (1.15.0)\n",
            "Requirement already satisfied: python-dateutil in /usr/local/lib/python3.7/dist-packages (from kaggle->opendatasets) (2.8.2)\n",
            "Requirement already satisfied: certifi in /usr/local/lib/python3.7/dist-packages (from kaggle->opendatasets) (2021.10.8)\n",
            "Requirement already satisfied: urllib3 in /usr/local/lib/python3.7/dist-packages (from kaggle->opendatasets) (1.24.3)\n",
            "Requirement already satisfied: requests in /usr/local/lib/python3.7/dist-packages (from kaggle->opendatasets) (2.23.0)\n",
            "Requirement already satisfied: python-slugify in /usr/local/lib/python3.7/dist-packages (from kaggle->opendatasets) (5.0.2)\n",
            "Requirement already satisfied: text-unidecode>=1.3 in /usr/local/lib/python3.7/dist-packages (from python-slugify->kaggle->opendatasets) (1.3)\n",
            "Requirement already satisfied: chardet<4,>=3.0.2 in /usr/local/lib/python3.7/dist-packages (from requests->kaggle->opendatasets) (3.0.4)\n",
            "Requirement already satisfied: idna<3,>=2.5 in /usr/local/lib/python3.7/dist-packages (from requests->kaggle->opendatasets) (2.10)\n",
            "Installing collected packages: opendatasets\n",
            "Successfully installed opendatasets-0.1.20\n"
          ]
        }
      ]
    },
    {
      "cell_type": "code",
      "source": [
        "# Dowload the dataset\n",
        "import opendatasets as od\n",
        "\n",
        "\n",
        "\n"
      ],
      "metadata": {
        "id": "atFywoi0tg5P"
      },
      "execution_count": 5,
      "outputs": []
    },
    {
      "cell_type": "code",
      "source": [
        "dataset_url = \"https://www.kaggle.com/kssanjaynithish03/retinal-fundus-images\""
      ],
      "metadata": {
        "id": "bAG4RU0ddWo1"
      },
      "execution_count": 6,
      "outputs": []
    },
    {
      "cell_type": "code",
      "source": [
        "od.download(dataset_url)"
      ],
      "metadata": {
        "colab": {
          "base_uri": "https://localhost:8080/"
        },
        "id": "Iynn6VwjdLqv",
        "outputId": "9d31111a-5bef-4f5a-85ed-5fab411f8395"
      },
      "execution_count": 7,
      "outputs": [
        {
          "output_type": "stream",
          "name": "stdout",
          "text": [
            "Please provide your Kaggle credentials to download this dataset. Learn more: http://bit.ly/kaggle-creds\n",
            "Your Kaggle username: shobhittyagi\n",
            "Your Kaggle Key: ··········\n",
            "Downloading retinal-fundus-images.zip to ./retinal-fundus-images\n"
          ]
        },
        {
          "output_type": "stream",
          "name": "stderr",
          "text": [
            "100%|██████████| 2.32G/2.32G [00:16<00:00, 151MB/s]\n"
          ]
        },
        {
          "output_type": "stream",
          "name": "stdout",
          "text": [
            "\n"
          ]
        }
      ]
    },
    {
      "cell_type": "code",
      "source": [
        "data_dir = '/content/retinal-fundus-images/Retinal Fundus Images'\n",
        "\n",
        "from torchvision.datasets import ImageFolder\n",
        "from torchvision.transforms import ToTensor\n",
        "\n",
        "dataset = ImageFolder(data_dir+'/train', transform=ToTensor())\n",
        "print(dataset.classes)"
      ],
      "metadata": {
        "colab": {
          "base_uri": "https://localhost:8080/"
        },
        "id": "Q3hQChGntv8T",
        "outputId": "f8825380-0d37-403f-ef26-9098e5ec15f6"
      },
      "execution_count": 8,
      "outputs": [
        {
          "output_type": "stream",
          "name": "stdout",
          "text": [
            "['1.Dry AMD', '10.Glaucoma', '11.Normal Fundus', '2.Wet AMD', '3.Mild DR', '4.Moderate DR', '5.Severe DR', '6.Proliferate DR', '7.Cataract', '8.Hypertensive Retinopathy', '9.Pathological Myopia']\n"
          ]
        }
      ]
    },
    {
      "cell_type": "markdown",
      "source": [
        "**Dataloaders**"
      ],
      "metadata": {
        "id": "dQ308tbWJk7K"
      }
    },
    {
      "cell_type": "code",
      "source": [
        "image_datasets = {x: datasets.ImageFolder(os.path.join(data_dir, x), data_transforms[x]) for x in ['train', 'test']}\n",
        "test_datasets = datasets.ImageFolder(os.path.join(data_dir, 'test'), data_transforms['test'])\n",
        "\n",
        "image_dataloader = {x: torch.utils.data.DataLoader(image_datasets[x], batch_size=8, shuffle=True, num_workers=1) for x in ['train', 'test']}\n",
        "test_dataloader = torch.utils.data.DataLoader(test_datasets, batch_size=1, shuffle=False, num_workers=1)\n",
        "\n",
        "dataset_sizes = {x: len(image_datasets[x]) for x in ['train', 'test']}\n",
        "class_names = image_datasets['train'].classes\n",
        "\n",
        "device = torch.device('cuda:0' if torch.cuda.is_available() else 'cpu')\n",
        "print('using device: {}'.format(device))"
      ],
      "metadata": {
        "colab": {
          "base_uri": "https://localhost:8080/"
        },
        "id": "ksddWH_Gtqn_",
        "outputId": "0bb3bc22-54f1-4fb6-8165-c2e759009ee6"
      },
      "execution_count": 9,
      "outputs": [
        {
          "output_type": "stream",
          "name": "stdout",
          "text": [
            "using device: cuda:0\n"
          ]
        }
      ]
    },
    {
      "cell_type": "code",
      "source": [
        "def imshow(imgs, title=None):\n",
        "    imgs = imgs.numpy().transpose((1, 2, 0))\n",
        "    mean = np.array([0.485, 0.456, 0.406])\n",
        "    std = np.array([0.229, 0.224, 0.225])\n",
        "    imgs = std * imgs + mean\n",
        "    imgs = np.clip(imgs, 0, 1)\n",
        "    plt.imshow(imgs)\n",
        "    if title is not None:\n",
        "        plt.title(title)\n",
        "    plt.pause(0.001)\n",
        "\n",
        "inputs, classes = next(iter(image_dataloader['train']))\n",
        "\n",
        "imgs = torchvision.utils.make_grid(inputs)\n",
        "\n",
        "imshow(imgs, title=[class_names[x] for x in classes])"
      ],
      "metadata": {
        "colab": {
          "base_uri": "https://localhost:8080/",
          "height": 105
        },
        "id": "eGjz2M2Btqlo",
        "outputId": "70c1fba5-4fa5-4fa7-809b-2bd9c8f27063"
      },
      "execution_count": 10,
      "outputs": [
        {
          "output_type": "display_data",
          "data": {
            "image/png": "[encoded data removed]",
            "text/plain": [
              "<Figure size 432x288 with 1 Axes>"
            ]
          },
          "metadata": {
            "needs_background": "light"
          }
        }
      ]
    },
    {
      "cell_type": "code",
      "source": [
        "def train(model, criterion, optimizer, scheduler, num_epochs=30, early_stopping=True, save_name='CoAtNet'):\n",
        "    last_loss = 100\n",
        "    patience = 5\n",
        "    trigger_times = 0\n",
        "\n",
        "    total_start = time.time()\n",
        "\n",
        "    total_train_accuracy = []\n",
        "    total_train_loss = []\n",
        "    total_val_accuracy = []\n",
        "    total_val_loss = []\n",
        "\n",
        "    best_model_weight = copy.deepcopy(model.state_dict())\n",
        "    best_acc = 0.0\n",
        "    best_loss = float('inf')\n",
        "\n",
        "    for epoch in range(num_epochs):\n",
        "        start = time.time()\n",
        "        print('Epoch {} / {}'.format(epoch, num_epochs-1))\n",
        "        print('-' * 20)\n",
        "        \n",
        "        for phase in ['train', 'test']:\n",
        "            if phase == 'train':\n",
        "                model.train()\n",
        "            else:\n",
        "                model.eval()\n",
        "            \n",
        "            running_loss = 0.0\n",
        "            running_corrects = 0\n",
        "\n",
        "            #for inputs, labels in tqdm(image_dataloader[phase]):\n",
        "            for index, (inputs, labels) in enumerate(image_dataloader[phase]):\n",
        "                inputs, labels = inputs.to(device), labels.to(device)\n",
        "\n",
        "                optimizer.zero_grad()\n",
        "\n",
        "                outputs = model(inputs)\n",
        "                _, preds = torch.max(outputs, 1)\n",
        "                loss = criterion(outputs, labels)\n",
        "\n",
        "                if phase == 'train':\n",
        "                    loss.backward()\n",
        "                    optimizer.step()\n",
        "                \n",
        "                running_loss += loss.item() * inputs.size(0)\n",
        "                running_corrects += torch.sum(preds == labels.data)\n",
        "\n",
        "            if phase == 'train':\n",
        "                scheduler.step()\n",
        "            \n",
        "            epoch_loss = running_loss / dataset_sizes[phase]\n",
        "            epoch_accuracy = running_corrects.float() / dataset_sizes[phase]\n",
        "\n",
        "            if phase == 'train':\n",
        "                total_train_loss.append(epoch_loss)\n",
        "                total_train_accuracy.append(epoch_accuracy)\n",
        "            if phase == 'test':\n",
        "                total_val_loss.append(epoch_loss)\n",
        "                total_val_accuracy.append(epoch_accuracy)\n",
        "\n",
        "            print('{} Loss: {:.5f} Accuracy: {:.5f}'.format(phase, epoch_loss, epoch_accuracy))\n",
        "\n",
        "            if phase == 'test' and epoch_accuracy > best_acc:\n",
        "                best_acc = epoch_accuracy\n",
        "                best_loss = epoch_loss\n",
        "                best_model_weight = copy.deepcopy(model.state_dict())\n",
        "\n",
        "            if early_stopping and phase == 'test':\n",
        "                if last_loss < epoch_loss:\n",
        "                    trigger_times += 1\n",
        "                    if trigger_times >= patience:\n",
        "                        print('Early stopping at epoch {}'.format(epoch))\n",
        "                        total_time_elapsed = np.round(time.time() - total_start, 3)\n",
        "                        print('Completed training in {:0f}m {:03f}s'.format(total_time_elapsed // 60, total_time_elapsed % 60))\n",
        "                        print('Best Accuracy: {}, Best Loss: {}'.format(best_acc, best_loss))\n",
        "                        model.load_state_dict(best_model_weight)\n",
        "                        return model, total_train_accuracy, total_train_loss, total_val_accuracy, total_val_loss\n",
        "                else:\n",
        "                    trigger_times = 0\n",
        "                last_loss = epoch_loss       \n",
        "        \n",
        "        #save on every 10 epochs\n",
        "        if epoch % 10 == 0:\n",
        "            torch.save({\n",
        "                'model_state_dict': model.state_dict(),\n",
        "                'optimizer_state_dict': optimizer.state_dict(),\n",
        "                'loss': criterion,\n",
        "                'epoch': epoch\n",
        "            }, '/content/{}_epoch_{}.pt'.format(save_name, epoch))\n",
        "\n",
        "        end = np.round(time.time() - start, 3)\n",
        "        print('Epoch {}: {}s\\n'.format(epoch, end))\n",
        "\n",
        "    total_time_elapsed = np.round(time.time() - total_start, 3)\n",
        "    print('Completed training in {:0f}m {:03f}s'.format(total_time_elapsed // 60, total_time_elapsed % 60))\n",
        "    print('Best Accuracy: {}, Best Loss: {}'.format(best_acc, best_loss))\n",
        "\n",
        "    model.load_state_dict(best_model_weight)\n",
        "    return model, total_train_accuracy, total_train_loss, total_val_accuracy, total_val_loss"
      ],
      "metadata": {
        "id": "AA3QeXritqi8"
      },
      "execution_count": 11,
      "outputs": []
    },
    {
      "cell_type": "markdown",
      "source": [
        "**Visualization for validation set**"
      ],
      "metadata": {
        "id": "U4RL7X5fxOyv"
      }
    },
    {
      "cell_type": "code",
      "source": [
        "def visualize_model(model, num_imgs=4):\n",
        "    train_phase = model.training\n",
        "    model.eval()\n",
        "    total_images_processed = 0\n",
        "    fig = plt.figure()\n",
        "\n",
        "    with torch.no_grad():\n",
        "        #for inputs, labels in tqdm(image_dataloader['val']):\n",
        "        for index, (inputs, labels) in enumerate(image_dataloader['val']):\n",
        "            inputs, labels = inputs.to(device), labels.to(device)\n",
        "\n",
        "            outputs = model(inputs)\n",
        "            _, preds = torch.max(outputs, 1)\n",
        "\n",
        "            for j in range(inputs.size()[0]):\n",
        "                total_images_processed += 1\n",
        "                ax = plt.subplot(num_imgs//2, 2, total_images_processed)\n",
        "                ax.axis('off')\n",
        "                ax.set_title('predicted: {}'.format(class_names[preds[j]]))\n",
        "                imshow(inputs.cpu().data[j])\n",
        "\n",
        "                if total_images_processed == num_imgs:\n",
        "                    model.train(mode=train_phase)\n",
        "                    return\n",
        "        model.train(mode=train_phase)"
      ],
      "metadata": {
        "id": "oWaahIBetg0K"
      },
      "execution_count": 12,
      "outputs": []
    },
    {
      "cell_type": "markdown",
      "source": [
        "**Network Architecture**"
      ],
      "metadata": {
        "id": "prgkmT6MxQ0J"
      }
    },
    {
      "cell_type": "code",
      "source": [
        "#Load pretrained ResNet18 model\n",
        "model = torchvision.models.resnet18(pretrained=True)\n",
        "\n",
        "model = model.to(device)\n",
        "criterion = nn.CrossEntropyLoss()\n",
        "optimizer = optim.SGD(model.fc.parameters(), lr=0.005, momentum=0.9)\n",
        "learning_rate_scheduler = lr_scheduler.StepLR(optimizer, step_size=10, gamma=0.1)"
      ],
      "metadata": {
        "id": "dgbJv16zPGXC",
        "colab": {
          "base_uri": "https://localhost:8080/",
          "height": 66,
          "referenced_widgets": [
            "dea49b3303184d47b61f68fb44200aa1",
            "a27ccadf1aea470c981ccb0dc1c4a0e3",
            "f3ea8dd18cc942db865250ace7919545",
            "0f64d0e24a07497c9116124c75b0af88",
            "7e0f5f0930f74cedab0179f7b6dad794",
            "1316cdfddd8a47759bd1b374e5e9bbed",
            "1bf07b0997a54e8b9bf812c1246adcf9",
            "6f322bdca5144552a35cc0cf179011e3",
            "2d923260b7c14f1eaf23bd3723573fa6",
            "90f088c587834502bc4e7d9f907728dc",
            "a946e6ec2df0405f919ac71a5889f973"
          ]
        },
        "outputId": "4fe1a457-065b-4c09-cfe9-7e6e0ffce088"
      },
      "execution_count": 13,
      "outputs": [
        {
          "output_type": "stream",
          "name": "stderr",
          "text": [
            "Downloading: \"https://download.pytorch.org/models/resnet18-f37072fd.pth\" to /root/.cache/torch/hub/checkpoints/resnet18-f37072fd.pth\n"
          ]
        },
        {
          "output_type": "display_data",
          "data": {
            "application/vnd.jupyter.widget-view+json": {
              "model_id": "dea49b3303184d47b61f68fb44200aa1",
              "version_minor": 0,
              "version_major": 2
            },
            "text/plain": [
              "  0%|          | 0.00/44.7M [00:00<?, ?B/s]"
            ]
          },
          "metadata": {}
        }
      ]
    },
    {
      "cell_type": "code",
      "source": [
        "\n",
        "PATH = '/content/CoAtNet_epoch_80.pt'\n",
        "checkpoint = torch.load(PATH)\n",
        "\n",
        "\n",
        "model.load_state_dict(checkpoint['model_state_dict'])\n",
        "optimizer.load_state_dict(checkpoint['optimizer_state_dict'])\n",
        "loss = checkpoint['loss']\n",
        "epoch = checkpoint['epoch']\n",
        "\n",
        "# model, total_train_accuracy, total_train_loss, total_val_accuracy, total_val_loss = train(model, criterion, optimizer, \\\n",
        "#     learning_rate_scheduler, num_epochs=52, early_stopping=True, save_name='CoAtNet0')\n",
        "\n",
        "print(model)"
      ],
      "metadata": {
        "colab": {
          "base_uri": "https://localhost:8080/"
        },
        "id": "s0ykXrWXXFHb",
        "outputId": "acac34b9-7edc-4e62-bf7a-f2a44cb30ee7"
      },
      "execution_count": 15,
      "outputs": [
        {
          "output_type": "stream",
          "name": "stdout",
          "text": [
            "ResNet(\n",
            "  (conv1): Conv2d(3, 64, kernel_size=(7, 7), stride=(2, 2), padding=(3, 3), bias=False)\n",
            "  (bn1): BatchNorm2d(64, eps=1e-05, momentum=0.1, affine=True, track_running_stats=True)\n",
            "  (relu): ReLU(inplace=True)\n",
            "  (maxpool): MaxPool2d(kernel_size=3, stride=2, padding=1, dilation=1, ceil_mode=False)\n",
            "  (layer1): Sequential(\n",
            "    (0): BasicBlock(\n",
            "      (conv1): Conv2d(64, 64, kernel_size=(3, 3), stride=(1, 1), padding=(1, 1), bias=False)\n",
            "      (bn1): BatchNorm2d(64, eps=1e-05, momentum=0.1, affine=True, track_running_stats=True)\n",
            "      (relu): ReLU(inplace=True)\n",
            "      (conv2): Conv2d(64, 64, kernel_size=(3, 3), stride=(1, 1), padding=(1, 1), bias=False)\n",
            "      (bn2): BatchNorm2d(64, eps=1e-05, momentum=0.1, affine=True, track_running_stats=True)\n",
            "    )\n",
            "    (1): BasicBlock(\n",
            "      (conv1): Conv2d(64, 64, kernel_size=(3, 3), stride=(1, 1), padding=(1, 1), bias=False)\n",
            "      (bn1): BatchNorm2d(64, eps=1e-05, momentum=0.1, affine=True, track_running_stats=True)\n",
            "      (relu): ReLU(inplace=True)\n",
            "      (conv2): Conv2d(64, 64, kernel_size=(3, 3), stride=(1, 1), padding=(1, 1), bias=False)\n",
            "      (bn2): BatchNorm2d(64, eps=1e-05, momentum=0.1, affine=True, track_running_stats=True)\n",
            "    )\n",
            "  )\n",
            "  (layer2): Sequential(\n",
            "    (0): BasicBlock(\n",
            "      (conv1): Conv2d(64, 128, kernel_size=(3, 3), stride=(2, 2), padding=(1, 1), bias=False)\n",
            "      (bn1): BatchNorm2d(128, eps=1e-05, momentum=0.1, affine=True, track_running_stats=True)\n",
            "      (relu): ReLU(inplace=True)\n",
            "      (conv2): Conv2d(128, 128, kernel_size=(3, 3), stride=(1, 1), padding=(1, 1), bias=False)\n",
            "      (bn2): BatchNorm2d(128, eps=1e-05, momentum=0.1, affine=True, track_running_stats=True)\n",
            "      (downsample): Sequential(\n",
            "        (0): Conv2d(64, 128, kernel_size=(1, 1), stride=(2, 2), bias=False)\n",
            "        (1): BatchNorm2d(128, eps=1e-05, momentum=0.1, affine=True, track_running_stats=True)\n",
            "      )\n",
            "    )\n",
            "    (1): BasicBlock(\n",
            "      (conv1): Conv2d(128, 128, kernel_size=(3, 3), stride=(1, 1), padding=(1, 1), bias=False)\n",
            "      (bn1): BatchNorm2d(128, eps=1e-05, momentum=0.1, affine=True, track_running_stats=True)\n",
            "      (relu): ReLU(inplace=True)\n",
            "      (conv2): Conv2d(128, 128, kernel_size=(3, 3), stride=(1, 1), padding=(1, 1), bias=False)\n",
            "      (bn2): BatchNorm2d(128, eps=1e-05, momentum=0.1, affine=True, track_running_stats=True)\n",
            "    )\n",
            "  )\n",
            "  (layer3): Sequential(\n",
            "    (0): BasicBlock(\n",
            "      (conv1): Conv2d(128, 256, kernel_size=(3, 3), stride=(2, 2), padding=(1, 1), bias=False)\n",
            "      (bn1): BatchNorm2d(256, eps=1e-05, momentum=0.1, affine=True, track_running_stats=True)\n",
            "      (relu): ReLU(inplace=True)\n",
            "      (conv2): Conv2d(256, 256, kernel_size=(3, 3), stride=(1, 1), padding=(1, 1), bias=False)\n",
            "      (bn2): BatchNorm2d(256, eps=1e-05, momentum=0.1, affine=True, track_running_stats=True)\n",
            "      (downsample): Sequential(\n",
            "        (0): Conv2d(128, 256, kernel_size=(1, 1), stride=(2, 2), bias=False)\n",
            "        (1): BatchNorm2d(256, eps=1e-05, momentum=0.1, affine=True, track_running_stats=True)\n",
            "      )\n",
            "    )\n",
            "    (1): BasicBlock(\n",
            "      (conv1): Conv2d(256, 256, kernel_size=(3, 3), stride=(1, 1), padding=(1, 1), bias=False)\n",
            "      (bn1): BatchNorm2d(256, eps=1e-05, momentum=0.1, affine=True, track_running_stats=True)\n",
            "      (relu): ReLU(inplace=True)\n",
            "      (conv2): Conv2d(256, 256, kernel_size=(3, 3), stride=(1, 1), padding=(1, 1), bias=False)\n",
            "      (bn2): BatchNorm2d(256, eps=1e-05, momentum=0.1, affine=True, track_running_stats=True)\n",
            "    )\n",
            "  )\n",
            "  (layer4): Sequential(\n",
            "    (0): BasicBlock(\n",
            "      (conv1): Conv2d(256, 512, kernel_size=(3, 3), stride=(2, 2), padding=(1, 1), bias=False)\n",
            "      (bn1): BatchNorm2d(512, eps=1e-05, momentum=0.1, affine=True, track_running_stats=True)\n",
            "      (relu): ReLU(inplace=True)\n",
            "      (conv2): Conv2d(512, 512, kernel_size=(3, 3), stride=(1, 1), padding=(1, 1), bias=False)\n",
            "      (bn2): BatchNorm2d(512, eps=1e-05, momentum=0.1, affine=True, track_running_stats=True)\n",
            "      (downsample): Sequential(\n",
            "        (0): Conv2d(256, 512, kernel_size=(1, 1), stride=(2, 2), bias=False)\n",
            "        (1): BatchNorm2d(512, eps=1e-05, momentum=0.1, affine=True, track_running_stats=True)\n",
            "      )\n",
            "    )\n",
            "    (1): BasicBlock(\n",
            "      (conv1): Conv2d(512, 512, kernel_size=(3, 3), stride=(1, 1), padding=(1, 1), bias=False)\n",
            "      (bn1): BatchNorm2d(512, eps=1e-05, momentum=0.1, affine=True, track_running_stats=True)\n",
            "      (relu): ReLU(inplace=True)\n",
            "      (conv2): Conv2d(512, 512, kernel_size=(3, 3), stride=(1, 1), padding=(1, 1), bias=False)\n",
            "      (bn2): BatchNorm2d(512, eps=1e-05, momentum=0.1, affine=True, track_running_stats=True)\n",
            "    )\n",
            "  )\n",
            "  (avgpool): AdaptiveAvgPool2d(output_size=(1, 1))\n",
            "  (fc): Linear(in_features=512, out_features=1000, bias=True)\n",
            ")\n"
          ]
        }
      ]
    },
    {
      "cell_type": "markdown",
      "source": [
        "**Training the Model**"
      ],
      "metadata": {
        "id": "HbbhyAV6xa6n"
      }
    },
    {
      "cell_type": "code",
      "source": [
        "model, total_train_accuracy, total_train_loss, total_val_accuracy, total_val_loss = train(model, criterion, optimizer, \\\n",
        "                                                                                          learning_rate_scheduler, num_epochs=50, early_stopping=True)"
      ],
      "metadata": {
        "colab": {
          "base_uri": "https://localhost:8080/"
        },
        "id": "kClCos7BJoCO",
        "outputId": "3a9854aa-644a-4627-d0ca-ae7448eeac36"
      },
      "execution_count": 16,
      "outputs": [
        {
          "output_type": "stream",
          "name": "stdout",
          "text": [
            "Epoch 0 / 49\n",
            "--------------------\n",
            "train Loss: 0.71288 Accuracy: 0.72262\n",
            "test Loss: 0.81206 Accuracy: 0.73058\n",
            "Epoch 0: 296.015s\n",
            "\n",
            "Epoch 1 / 49\n",
            "--------------------\n",
            "train Loss: 0.71022 Accuracy: 0.72272\n",
            "test Loss: 0.81963 Accuracy: 0.71845\n",
            "Epoch 1: 297.148s\n",
            "\n",
            "Epoch 2 / 49\n",
            "--------------------\n",
            "train Loss: 0.71017 Accuracy: 0.71674\n",
            "test Loss: 0.83262 Accuracy: 0.71440\n",
            "Epoch 2: 298.307s\n",
            "\n",
            "Epoch 3 / 49\n",
            "--------------------\n",
            "train Loss: 0.71614 Accuracy: 0.72107\n",
            "test Loss: 0.81832 Accuracy: 0.72411\n",
            "Epoch 3: 297.103s\n",
            "\n",
            "Epoch 4 / 49\n",
            "--------------------\n",
            "train Loss: 0.71546 Accuracy: 0.71898\n",
            "test Loss: 0.82635 Accuracy: 0.70793\n",
            "Epoch 4: 297.234s\n",
            "\n",
            "Epoch 5 / 49\n",
            "--------------------\n",
            "train Loss: 0.71716 Accuracy: 0.71809\n",
            "test Loss: 0.81516 Accuracy: 0.71036\n",
            "Epoch 5: 297.621s\n",
            "\n",
            "Epoch 6 / 49\n",
            "--------------------\n",
            "train Loss: 0.70118 Accuracy: 0.72496\n",
            "test Loss: 0.82811 Accuracy: 0.71683\n",
            "Epoch 6: 294.264s\n",
            "\n",
            "Epoch 7 / 49\n",
            "--------------------\n",
            "train Loss: 0.70484 Accuracy: 0.72337\n",
            "test Loss: 0.80840 Accuracy: 0.70955\n",
            "Epoch 7: 293.516s\n",
            "\n",
            "Epoch 8 / 49\n",
            "--------------------\n",
            "train Loss: 0.71885 Accuracy: 0.71739\n",
            "test Loss: 0.81529 Accuracy: 0.71440\n",
            "Epoch 8: 293.37s\n",
            "\n",
            "Epoch 9 / 49\n",
            "--------------------\n",
            "train Loss: 0.71765 Accuracy: 0.71794\n",
            "test Loss: 0.82187 Accuracy: 0.71278\n",
            "Epoch 9: 292.686s\n",
            "\n",
            "Epoch 10 / 49\n",
            "--------------------\n",
            "train Loss: 0.70449 Accuracy: 0.72152\n",
            "test Loss: 0.83052 Accuracy: 0.70712\n",
            "Epoch 10: 293.896s\n",
            "\n",
            "Epoch 11 / 49\n",
            "--------------------\n",
            "train Loss: 0.72350 Accuracy: 0.71774\n",
            "test Loss: 0.83612 Accuracy: 0.71926\n",
            "Epoch 11: 292.817s\n",
            "\n",
            "Epoch 12 / 49\n",
            "--------------------\n",
            "train Loss: 0.70347 Accuracy: 0.72426\n",
            "test Loss: 0.82173 Accuracy: 0.71764\n",
            "Epoch 12: 292.6s\n",
            "\n",
            "Epoch 13 / 49\n",
            "--------------------\n",
            "train Loss: 0.72437 Accuracy: 0.71868\n",
            "test Loss: 0.82535 Accuracy: 0.71602\n",
            "Epoch 13: 293.074s\n",
            "\n",
            "Epoch 14 / 49\n",
            "--------------------\n",
            "train Loss: 0.71011 Accuracy: 0.72202\n",
            "test Loss: 0.81840 Accuracy: 0.71117\n",
            "Epoch 14: 293.121s\n",
            "\n",
            "Epoch 15 / 49\n",
            "--------------------\n",
            "train Loss: 0.70978 Accuracy: 0.72018\n",
            "test Loss: 0.81149 Accuracy: 0.70955\n",
            "Epoch 15: 293.161s\n",
            "\n",
            "Epoch 16 / 49\n",
            "--------------------\n",
            "train Loss: 0.70718 Accuracy: 0.72003\n",
            "test Loss: 0.85336 Accuracy: 0.71117\n",
            "Epoch 16: 293.611s\n",
            "\n",
            "Epoch 17 / 49\n",
            "--------------------\n",
            "train Loss: 0.69977 Accuracy: 0.72466\n",
            "test Loss: 0.79983 Accuracy: 0.71683\n",
            "Epoch 17: 293.345s\n",
            "\n",
            "Epoch 18 / 49\n",
            "--------------------\n",
            "train Loss: 0.71560 Accuracy: 0.72132\n",
            "test Loss: 0.81036 Accuracy: 0.71683\n",
            "Epoch 18: 294.04s\n",
            "\n",
            "Epoch 19 / 49\n",
            "--------------------\n",
            "train Loss: 0.69967 Accuracy: 0.72685\n",
            "test Loss: 0.82143 Accuracy: 0.71845\n",
            "Epoch 19: 292.996s\n",
            "\n",
            "Epoch 20 / 49\n",
            "--------------------\n",
            "train Loss: 0.71705 Accuracy: 0.71993\n",
            "test Loss: 0.84091 Accuracy: 0.71683\n",
            "Epoch 20: 294.035s\n",
            "\n",
            "Epoch 21 / 49\n",
            "--------------------\n",
            "train Loss: 0.71703 Accuracy: 0.71818\n",
            "test Loss: 0.81511 Accuracy: 0.71521\n",
            "Epoch 21: 293.195s\n",
            "\n",
            "Epoch 22 / 49\n",
            "--------------------\n",
            "train Loss: 0.71526 Accuracy: 0.72322\n",
            "test Loss: 0.83667 Accuracy: 0.71683\n",
            "Epoch 22: 293.857s\n",
            "\n",
            "Epoch 23 / 49\n",
            "--------------------\n",
            "train Loss: 0.70863 Accuracy: 0.71988\n",
            "test Loss: 0.81611 Accuracy: 0.71845\n",
            "Epoch 23: 294.083s\n",
            "\n",
            "Epoch 24 / 49\n",
            "--------------------\n",
            "train Loss: 0.71493 Accuracy: 0.71963\n",
            "test Loss: 0.82440 Accuracy: 0.71845\n",
            "Epoch 24: 294.173s\n",
            "\n",
            "Epoch 25 / 49\n",
            "--------------------\n",
            "train Loss: 0.71493 Accuracy: 0.72073\n",
            "test Loss: 0.82679 Accuracy: 0.72735\n",
            "Epoch 25: 294.087s\n",
            "\n",
            "Epoch 26 / 49\n",
            "--------------------\n",
            "train Loss: 0.72065 Accuracy: 0.72033\n",
            "test Loss: 0.80543 Accuracy: 0.72249\n",
            "Epoch 26: 293.93s\n",
            "\n",
            "Epoch 27 / 49\n",
            "--------------------\n",
            "train Loss: 0.72648 Accuracy: 0.71848\n",
            "test Loss: 0.87260 Accuracy: 0.70874\n",
            "Epoch 27: 294.209s\n",
            "\n",
            "Epoch 28 / 49\n",
            "--------------------\n",
            "train Loss: 0.71333 Accuracy: 0.71943\n",
            "test Loss: 0.82755 Accuracy: 0.72006\n",
            "Epoch 28: 291.6s\n",
            "\n",
            "Epoch 29 / 49\n",
            "--------------------\n",
            "train Loss: 0.71449 Accuracy: 0.71719\n",
            "test Loss: 0.82407 Accuracy: 0.72168\n",
            "Epoch 29: 291.098s\n",
            "\n",
            "Epoch 30 / 49\n",
            "--------------------\n",
            "train Loss: 0.70191 Accuracy: 0.72043\n",
            "test Loss: 0.83840 Accuracy: 0.72006\n",
            "Epoch 30: 291.52s\n",
            "\n",
            "Epoch 31 / 49\n",
            "--------------------\n",
            "train Loss: 0.71217 Accuracy: 0.72277\n",
            "test Loss: 0.81412 Accuracy: 0.70550\n",
            "Epoch 31: 292.048s\n",
            "\n",
            "Epoch 32 / 49\n",
            "--------------------\n",
            "train Loss: 0.72112 Accuracy: 0.71943\n",
            "test Loss: 0.83359 Accuracy: 0.71440\n",
            "Epoch 32: 292.057s\n",
            "\n",
            "Epoch 33 / 49\n",
            "--------------------\n",
            "train Loss: 0.72360 Accuracy: 0.71659\n",
            "test Loss: 0.81793 Accuracy: 0.72087\n",
            "Epoch 33: 293.363s\n",
            "\n",
            "Epoch 34 / 49\n",
            "--------------------\n",
            "train Loss: 0.70949 Accuracy: 0.72127\n",
            "test Loss: 0.81566 Accuracy: 0.72249\n",
            "Epoch 34: 293.47s\n",
            "\n",
            "Epoch 35 / 49\n",
            "--------------------\n",
            "train Loss: 0.72251 Accuracy: 0.71500\n",
            "test Loss: 0.82030 Accuracy: 0.72411\n",
            "Epoch 35: 293.504s\n",
            "\n",
            "Epoch 36 / 49\n",
            "--------------------\n",
            "train Loss: 0.71327 Accuracy: 0.72187\n",
            "test Loss: 0.83261 Accuracy: 0.71521\n",
            "Epoch 36: 294.585s\n",
            "\n",
            "Epoch 37 / 49\n",
            "--------------------\n",
            "train Loss: 0.70522 Accuracy: 0.72441\n",
            "test Loss: 0.81644 Accuracy: 0.72249\n",
            "Epoch 37: 293.916s\n",
            "\n",
            "Epoch 38 / 49\n",
            "--------------------\n",
            "train Loss: 0.72104 Accuracy: 0.71918\n",
            "test Loss: 0.82100 Accuracy: 0.71926\n",
            "Epoch 38: 295.499s\n",
            "\n",
            "Epoch 39 / 49\n",
            "--------------------\n",
            "train Loss: 0.72283 Accuracy: 0.71828\n",
            "test Loss: 0.81762 Accuracy: 0.71683\n",
            "Epoch 39: 295.525s\n",
            "\n",
            "Epoch 40 / 49\n",
            "--------------------\n",
            "train Loss: 0.71026 Accuracy: 0.72257\n",
            "test Loss: 0.82304 Accuracy: 0.72006\n",
            "Epoch 40: 295.503s\n",
            "\n",
            "Epoch 41 / 49\n",
            "--------------------\n",
            "train Loss: 0.71199 Accuracy: 0.71923\n",
            "test Loss: 0.79238 Accuracy: 0.72735\n",
            "Epoch 41: 295.015s\n",
            "\n",
            "Epoch 42 / 49\n",
            "--------------------\n",
            "train Loss: 0.71403 Accuracy: 0.71828\n",
            "test Loss: 0.83790 Accuracy: 0.72168\n",
            "Epoch 42: 294.331s\n",
            "\n",
            "Epoch 43 / 49\n",
            "--------------------\n",
            "train Loss: 0.72009 Accuracy: 0.71664\n",
            "test Loss: 0.81351 Accuracy: 0.71845\n",
            "Epoch 43: 295.247s\n",
            "\n",
            "Epoch 44 / 49\n",
            "--------------------\n",
            "train Loss: 0.71492 Accuracy: 0.71828\n",
            "test Loss: 0.82662 Accuracy: 0.72006\n",
            "Epoch 44: 294.314s\n",
            "\n",
            "Epoch 45 / 49\n",
            "--------------------\n",
            "train Loss: 0.71111 Accuracy: 0.72162\n",
            "test Loss: 0.79892 Accuracy: 0.71764\n",
            "Epoch 45: 296.194s\n",
            "\n",
            "Epoch 46 / 49\n",
            "--------------------\n",
            "train Loss: 0.71575 Accuracy: 0.71460\n",
            "test Loss: 0.81879 Accuracy: 0.71359\n",
            "Epoch 46: 298.953s\n",
            "\n",
            "Epoch 47 / 49\n",
            "--------------------\n",
            "train Loss: 0.70762 Accuracy: 0.72167\n",
            "test Loss: 0.84241 Accuracy: 0.71036\n",
            "Epoch 47: 298.674s\n",
            "\n",
            "Epoch 48 / 49\n",
            "--------------------\n",
            "train Loss: 0.72862 Accuracy: 0.71719\n",
            "test Loss: 0.82510 Accuracy: 0.72735\n",
            "Epoch 48: 297.29s\n",
            "\n",
            "Epoch 49 / 49\n",
            "--------------------\n",
            "train Loss: 0.71395 Accuracy: 0.71843\n",
            "test Loss: 0.82604 Accuracy: 0.71278\n",
            "Epoch 49: 296.995s\n",
            "\n",
            "Completed training in 245.000000m 22.219000s\n",
            "Best Accuracy: 0.7305825352668762, Best Loss: 0.8120594044912208\n"
          ]
        }
      ]
    },
    {
      "cell_type": "markdown",
      "source": [
        "**Accuracy and Loss Graph** "
      ],
      "metadata": {
        "id": "XUejR7t_xnav"
      }
    },
    {
      "cell_type": "code",
      "source": [
        "plt.clf()\n",
        "fig, axs = plt.subplots(2, 1, figsize=(10, 16), constrained_layout=True)\n",
        "\n",
        "total_train_accuracy = torch.Tensor(total_train_accuracy)\n",
        "total_val_accuracy = torch.Tensor(total_val_accuracy)\n",
        "total_train_loss = torch.Tensor(total_train_loss)\n",
        "total_val_loss = torch.Tensor(total_val_loss)\n",
        "\n",
        "axs[0].plot(total_train_accuracy, 'r-', label='train accuracy')\n",
        "axs[0].plot(total_val_accuracy, 'b-', label='val accuracy')\n",
        "axs[0].set_xlabel('Epochs')\n",
        "axs[0].set_ylabel('Accuracy')\n",
        "\n",
        "axs[1].plot(total_train_loss, 'r-', label='train loss')\n",
        "axs[1].plot(total_val_loss, 'b-', label='val loss')\n",
        "axs[1].set_xlabel('Epochs')\n",
        "axs[1].set_ylabel('Loss')\n",
        "\n",
        "plt.show()"
      ],
      "metadata": {
        "id": "pDwwY9wNJn_p",
        "colab": {
          "base_uri": "https://localhost:8080/",
          "height": 1000
        },
        "outputId": "2d4de4fc-c4c1-4d5c-899c-da389ab62d8c"
      },
      "execution_count": 17,
      "outputs": [
        {
          "output_type": "display_data",
          "data": {
            "text/plain": [
              "<Figure size 432x288 with 0 Axes>"
            ]
          },
          "metadata": {}
        },
        {
          "output_type": "display_data",
          "data": {
            "image/png": "[encoded data removed]",
            "text/plain": [
              "<Figure size 720x1152 with 2 Axes>"
            ]
          },
          "metadata": {
            "needs_background": "light"
          }
        }
      ]
    },
    {
      "cell_type": "code",
      "source": [
        "torch.save({\n",
        "    'model_state_dict': model.state_dict(),\n",
        "    'optimizer_state_dict': optimizer.state_dict(),\n",
        "    'loss': criterion\n",
        "}, '/content/ResNet18_final.pt')"
      ],
      "metadata": {
        "id": "eJlzOhB5Jn83"
      },
      "execution_count": 18,
      "outputs": []
    },
    {
      "cell_type": "code",
      "source": [
        ""
      ],
      "metadata": {
        "id": "gz0MK6WnJn6j"
      },
      "execution_count": null,
      "outputs": []
    },
    {
      "cell_type": "code",
      "source": [
        ""
      ],
      "metadata": {
        "id": "1ejGGCjRJnlO"
      },
      "execution_count": null,
      "outputs": []
    }
  ]
}