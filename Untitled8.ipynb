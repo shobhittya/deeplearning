{
 "cells": [
  {
   "cell_type": "code",
   "execution_count": 1,
   "metadata": {},
   "outputs": [],
   "source": [
    "import torch\n",
    "import jovian"
   ]
  },
  {
   "cell_type": "code",
   "execution_count": 2,
   "metadata": {},
   "outputs": [],
   "source": [
    "import torchvision\n",
    "import torch.nn as nn"
   ]
  },
  {
   "cell_type": "code",
   "execution_count": 3,
   "metadata": {},
   "outputs": [],
   "source": [
    "import pandas as pd\n",
    "import matplotlib.pyplot as plt"
   ]
  },
  {
   "cell_type": "code",
   "execution_count": 9,
   "metadata": {},
   "outputs": [],
   "source": [
    "import torch.nn.functional as F\n",
    "from torchvision.datasets.utils import download_url\n",
    "from torch.utils.data import DataLoader, TensorDataset, random_split"
   ]
  },
  {
   "cell_type": "code",
   "execution_count": 10,
   "metadata": {},
   "outputs": [
    {
     "name": "stdout",
     "output_type": "stream",
     "text": [
      "Using downloaded and verified file: .\\insurance.csv\n"
     ]
    }
   ],
   "source": [
    "DATASET_URL = \"https://hub.jovian.ml/wp-content/uploads/2020/05/insurance.csv\"\n",
    "DATA_FILENAME = \"insurance.csv\"\n",
    "download_url(DATASET_URL, '.')"
   ]
  },
  {
   "cell_type": "code",
   "execution_count": 12,
   "metadata": {},
   "outputs": [
    {
     "data": {
      "text/html": [
       "<div>\n",
       "<style scoped>\n",
       "    .dataframe tbody tr th:only-of-type {\n",
       "        vertical-align: middle;\n",
       "    }\n",
       "\n",
       "    .dataframe tbody tr th {\n",
       "        vertical-align: top;\n",
       "    }\n",
       "\n",
       "    .dataframe thead th {\n",
       "        text-align: right;\n",
       "    }\n",
       "</style>\n",
       "<table border=\"1\" class=\"dataframe\">\n",
       "  <thead>\n",
       "    <tr style=\"text-align: right;\">\n",
       "      <th></th>\n",
       "      <th>age</th>\n",
       "      <th>sex</th>\n",
       "      <th>bmi</th>\n",
       "      <th>children</th>\n",
       "      <th>smoker</th>\n",
       "      <th>region</th>\n",
       "      <th>charges</th>\n",
       "    </tr>\n",
       "  </thead>\n",
       "  <tbody>\n",
       "    <tr>\n",
       "      <td>0</td>\n",
       "      <td>19</td>\n",
       "      <td>female</td>\n",
       "      <td>27.900</td>\n",
       "      <td>0</td>\n",
       "      <td>yes</td>\n",
       "      <td>southwest</td>\n",
       "      <td>16884.92400</td>\n",
       "    </tr>\n",
       "    <tr>\n",
       "      <td>1</td>\n",
       "      <td>18</td>\n",
       "      <td>male</td>\n",
       "      <td>33.770</td>\n",
       "      <td>1</td>\n",
       "      <td>no</td>\n",
       "      <td>southeast</td>\n",
       "      <td>1725.55230</td>\n",
       "    </tr>\n",
       "    <tr>\n",
       "      <td>2</td>\n",
       "      <td>28</td>\n",
       "      <td>male</td>\n",
       "      <td>33.000</td>\n",
       "      <td>3</td>\n",
       "      <td>no</td>\n",
       "      <td>southeast</td>\n",
       "      <td>4449.46200</td>\n",
       "    </tr>\n",
       "    <tr>\n",
       "      <td>3</td>\n",
       "      <td>33</td>\n",
       "      <td>male</td>\n",
       "      <td>22.705</td>\n",
       "      <td>0</td>\n",
       "      <td>no</td>\n",
       "      <td>northwest</td>\n",
       "      <td>21984.47061</td>\n",
       "    </tr>\n",
       "    <tr>\n",
       "      <td>4</td>\n",
       "      <td>32</td>\n",
       "      <td>male</td>\n",
       "      <td>28.880</td>\n",
       "      <td>0</td>\n",
       "      <td>no</td>\n",
       "      <td>northwest</td>\n",
       "      <td>3866.85520</td>\n",
       "    </tr>\n",
       "  </tbody>\n",
       "</table>\n",
       "</div>"
      ],
      "text/plain": [
       "   age     sex     bmi  children smoker     region      charges\n",
       "0   19  female  27.900         0    yes  southwest  16884.92400\n",
       "1   18    male  33.770         1     no  southeast   1725.55230\n",
       "2   28    male  33.000         3     no  southeast   4449.46200\n",
       "3   33    male  22.705         0     no  northwest  21984.47061\n",
       "4   32    male  28.880         0     no  northwest   3866.85520"
      ]
     },
     "execution_count": 12,
     "metadata": {},
     "output_type": "execute_result"
    }
   ],
   "source": [
    "df_raw = pd.read_csv(DATA_FILENAME)\n",
    "df_raw.head()"
   ]
  },
  {
   "cell_type": "code",
   "execution_count": 17,
   "metadata": {},
   "outputs": [
    {
     "name": "stdout",
     "output_type": "stream",
     "text": [
      "The Number of rows are 1338\n"
     ]
    }
   ],
   "source": [
    "num_rows = df_raw.shape[0]\n",
    "print(\"The Number of rows are {}\".format(num_rows))"
   ]
  },
  {
   "cell_type": "code",
   "execution_count": 18,
   "metadata": {},
   "outputs": [
    {
     "name": "stdout",
     "output_type": "stream",
     "text": [
      "The Number of columns are 7\n"
     ]
    }
   ],
   "source": [
    "col_rows = df_raw.shape[1]\n",
    "print(\"The Number of columns are {}\".format(col_rows))"
   ]
  },
  {
   "cell_type": "code",
   "execution_count": 21,
   "metadata": {},
   "outputs": [
    {
     "name": "stdout",
     "output_type": "stream",
     "text": [
      "age\n",
      "sex\n",
      "bmi\n",
      "children\n",
      "smoker\n",
      "region\n"
     ]
    }
   ],
   "source": [
    "input_cols = list(df_raw.columns[:-1])\n",
    "for cols in input_cols:\n",
    " print(cols)"
   ]
  },
  {
   "cell_type": "code",
   "execution_count": 23,
   "metadata": {},
   "outputs": [
    {
     "name": "stdout",
     "output_type": "stream",
     "text": [
      "sex\n",
      "smoker\n",
      "region\n"
     ]
    }
   ],
   "source": [
    "categorical_cols = list(df_raw.select_dtypes(include=['object']).columns)\n",
    "for cols in categorical_cols:\n",
    " print(cols)"
   ]
  },
  {
   "cell_type": "code",
   "execution_count": 28,
   "metadata": {},
   "outputs": [
    {
     "name": "stdout",
     "output_type": "stream",
     "text": [
      "charges\n"
     ]
    }
   ],
   "source": [
    "output_cols = list(df_raw.columns[-1:])\n",
    "for cols in output_cols:\n",
    " print(cols)"
   ]
  },
  {
   "cell_type": "code",
   "execution_count": 31,
   "metadata": {},
   "outputs": [],
   "source": [
    "def df_raw_to_arrays(df_raw):\n",
    "    # Make a copy of the original dataframe\n",
    "    df_raw1 = df_raw.copy(deep=True)\n",
    "    # Convert non-numeric categorical columns to numbers\n",
    "    for col in categorical_cols:\n",
    "        df_raw1[col] = df_raw1[col].astype('category').cat.codes\n",
    "    # Extract input & outupts as numpy arrays\n",
    "    inputs_array = df_raw1[input_cols].to_numpy()\n",
    "    targets_array = df_raw1[output_cols].to_numpy()\n",
    "    return inputs_array, targets_array"
   ]
  },
  {
   "cell_type": "code",
   "execution_count": 33,
   "metadata": {},
   "outputs": [
    {
     "data": {
      "text/plain": [
       "(array([[19.  ,  0.  , 27.9 ,  0.  ,  1.  ,  3.  ],\n",
       "        [18.  ,  1.  , 33.77,  1.  ,  0.  ,  2.  ],\n",
       "        [28.  ,  1.  , 33.  ,  3.  ,  0.  ,  2.  ],\n",
       "        ...,\n",
       "        [18.  ,  0.  , 36.85,  0.  ,  0.  ,  2.  ],\n",
       "        [21.  ,  0.  , 25.8 ,  0.  ,  0.  ,  3.  ],\n",
       "        [61.  ,  0.  , 29.07,  0.  ,  1.  ,  1.  ]]), array([[16884.924 ],\n",
       "        [ 1725.5523],\n",
       "        [ 4449.462 ],\n",
       "        ...,\n",
       "        [ 1629.8335],\n",
       "        [ 2007.945 ],\n",
       "        [29141.3603]]))"
      ]
     },
     "execution_count": 33,
     "metadata": {},
     "output_type": "execute_result"
    }
   ],
   "source": [
    "inputs_array, targets_array = df_raw_to_arrays(df_raw)\n",
    "inputs_array, targets_array"
   ]
  },
  {
   "cell_type": "code",
   "execution_count": 34,
   "metadata": {},
   "outputs": [],
   "source": [
    "inputs = torch.tensor(inputs_array).type(torch.float32)\n",
    "targets = torch.tensor(targets_array).type(torch.float32)"
   ]
  },
  {
   "cell_type": "code",
   "execution_count": 36,
   "metadata": {},
   "outputs": [],
   "source": [
    "dataset = TensorDataset(inputs, targets)"
   ]
  },
  {
   "cell_type": "code",
   "execution_count": 87,
   "metadata": {},
   "outputs": [],
   "source": [
    "val_percent = 0.2\n",
    "val_size = int(num_rows*val_percent)\n",
    "train_size = num_rows-val_size\n",
    "\n",
    "train_ds, val_ds = random_split(dataset, (train_size, val_size))"
   ]
  },
  {
   "cell_type": "code",
   "execution_count": 88,
   "metadata": {},
   "outputs": [],
   "source": [
    "batch_size = 32"
   ]
  },
  {
   "cell_type": "code",
   "execution_count": 89,
   "metadata": {},
   "outputs": [],
   "source": [
    "train_loader = DataLoader(train_ds, batch_size, shuffle=True)\n",
    "val_loader = DataLoader(val_ds, batch_size)"
   ]
  },
  {
   "cell_type": "code",
   "execution_count": 90,
   "metadata": {},
   "outputs": [
    {
     "name": "stdout",
     "output_type": "stream",
     "text": [
      "inputs: tensor([[46.0000,  1.0000, 33.3450,  1.0000,  0.0000,  0.0000],\n",
      "        [64.0000,  1.0000, 34.5000,  0.0000,  0.0000,  3.0000],\n",
      "        [56.0000,  1.0000, 33.6600,  4.0000,  0.0000,  2.0000],\n",
      "        [29.0000,  1.0000, 38.9400,  1.0000,  0.0000,  2.0000],\n",
      "        [43.0000,  1.0000, 38.0600,  2.0000,  1.0000,  2.0000],\n",
      "        [40.0000,  0.0000, 27.4000,  1.0000,  0.0000,  3.0000],\n",
      "        [47.0000,  1.0000, 29.8300,  3.0000,  0.0000,  1.0000],\n",
      "        [18.0000,  1.0000, 38.1700,  0.0000,  1.0000,  2.0000],\n",
      "        [59.0000,  0.0000, 26.6950,  3.0000,  0.0000,  1.0000],\n",
      "        [33.0000,  1.0000, 35.2450,  0.0000,  0.0000,  0.0000],\n",
      "        [39.0000,  1.0000, 26.4100,  0.0000,  1.0000,  0.0000],\n",
      "        [48.0000,  0.0000, 27.2650,  1.0000,  0.0000,  0.0000],\n",
      "        [58.0000,  0.0000, 39.0500,  0.0000,  0.0000,  2.0000],\n",
      "        [49.0000,  0.0000, 23.8450,  3.0000,  1.0000,  0.0000],\n",
      "        [36.0000,  0.0000, 22.1350,  3.0000,  0.0000,  0.0000],\n",
      "        [19.0000,  1.0000, 27.8350,  0.0000,  0.0000,  1.0000],\n",
      "        [63.0000,  1.0000, 39.8000,  3.0000,  0.0000,  3.0000],\n",
      "        [29.0000,  0.0000, 38.8300,  3.0000,  0.0000,  2.0000],\n",
      "        [45.0000,  0.0000, 33.1000,  0.0000,  0.0000,  3.0000],\n",
      "        [54.0000,  0.0000, 23.0000,  3.0000,  0.0000,  3.0000],\n",
      "        [20.0000,  0.0000, 31.9200,  0.0000,  0.0000,  1.0000],\n",
      "        [26.0000,  0.0000, 42.4000,  1.0000,  0.0000,  3.0000],\n",
      "        [19.0000,  0.0000, 30.5900,  2.0000,  0.0000,  1.0000],\n",
      "        [29.0000,  0.0000, 32.1100,  2.0000,  0.0000,  1.0000],\n",
      "        [20.0000,  0.0000, 24.4200,  0.0000,  1.0000,  2.0000],\n",
      "        [29.0000,  1.0000, 32.1100,  2.0000,  0.0000,  1.0000],\n",
      "        [18.0000,  1.0000, 27.3600,  1.0000,  1.0000,  0.0000],\n",
      "        [23.0000,  1.0000, 35.2000,  1.0000,  0.0000,  3.0000],\n",
      "        [31.0000,  1.0000, 25.9350,  1.0000,  0.0000,  1.0000],\n",
      "        [21.0000,  0.0000, 21.8900,  2.0000,  0.0000,  2.0000],\n",
      "        [19.0000,  1.0000, 31.9200,  0.0000,  1.0000,  1.0000],\n",
      "        [55.0000,  1.0000, 29.9000,  0.0000,  0.0000,  3.0000]])\n",
      "targets: tensor([[ 8334.4580],\n",
      "        [13822.8027],\n",
      "        [12949.1553],\n",
      "        [ 3471.4097],\n",
      "        [42560.4297],\n",
      "        [ 6496.8862],\n",
      "        [ 9620.3311],\n",
      "        [36307.7969],\n",
      "        [14382.7090],\n",
      "        [12404.8789],\n",
      "        [20149.3223],\n",
      "        [ 9447.2500],\n",
      "        [11856.4111],\n",
      "        [24106.9121],\n",
      "        [ 7228.2158],\n",
      "        [ 1635.7336],\n",
      "        [15170.0693],\n",
      "        [ 5138.2568],\n",
      "        [ 7345.0840],\n",
      "        [12094.4775],\n",
      "        [ 2261.5688],\n",
      "        [ 3410.3240],\n",
      "        [24059.6797],\n",
      "        [ 4922.9160],\n",
      "        [26125.6738],\n",
      "        [ 4433.9160],\n",
      "        [17178.6816],\n",
      "        [ 2416.9551],\n",
      "        [ 4239.8926],\n",
      "        [ 3180.5100],\n",
      "        [33750.2930],\n",
      "        [10214.6357]])\n"
     ]
    }
   ],
   "source": [
    "for xb, yb in train_loader:\n",
    "    print(\"inputs:\", xb)\n",
    "    print(\"targets:\", yb)\n",
    "    break"
   ]
  },
  {
   "cell_type": "code",
   "execution_count": 98,
   "metadata": {},
   "outputs": [],
   "source": [
    "input_size = len(input_cols)\n",
    "output_size = len(output_cols)"
   ]
  },
  {
   "cell_type": "code",
   "execution_count": 99,
   "metadata": {},
   "outputs": [],
   "source": [
    "class InsuranceModel(nn.Module):\n",
    "    def __init__(self):\n",
    "        super().__init__()\n",
    "        self.linear = nn.Linear(input_size, output_size)                # fill this (hint: use input_size & output_size defined above)\n",
    "        \n",
    "    def forward(self, xb):\n",
    "        out = self.linear(xb)                        # fill this\n",
    "        return out\n",
    "    \n",
    "    def training_step(self, batch):\n",
    "        inputs, targets = batch \n",
    "        # Generate predictions\n",
    "        out = self(inputs)          \n",
    "        # Calcuate loss\n",
    "        loss = nn.functional.l1_loss(out, targets)                          # fill this\n",
    "        return loss\n",
    "    \n",
    "    def validation_step(self, batch):\n",
    "        inputs, targets = batch\n",
    "        # Generate predictions\n",
    "        out = self(inputs)\n",
    "        # Calculate loss\n",
    "        loss = nn.functional.l1_loss(out, targets)                           # fill this    \n",
    "        return {'val_loss': loss.detach()}\n",
    "        \n",
    "    def validation_epoch_end(self, outputs):\n",
    "        batch_losses = [x['val_loss'] for x in outputs]\n",
    "        epoch_loss = torch.stack(batch_losses).mean()   # Combine losses\n",
    "        return {'val_loss': epoch_loss.item()}\n",
    "    \n",
    "    def epoch_end(self, epoch, result, num_epochs):\n",
    "        # Print result every 20th epoch\n",
    "        if (epoch+1) % 20 == 0 or epoch == num_epochs-1:\n",
    "            print(\"Epoch [{}], val_loss: {:.4f}\".format(epoch+1, result['val_loss']))"
   ]
  },
  {
   "cell_type": "code",
   "execution_count": 100,
   "metadata": {},
   "outputs": [
    {
     "data": {
      "text/plain": [
       "InsuranceModel(\n",
       "  (linear): Linear(in_features=6, out_features=1, bias=True)\n",
       ")"
      ]
     },
     "execution_count": 100,
     "metadata": {},
     "output_type": "execute_result"
    }
   ],
   "source": [
    "model = InsuranceModel()\n",
    "model"
   ]
  },
  {
   "cell_type": "code",
   "execution_count": 101,
   "metadata": {},
   "outputs": [
    {
     "data": {
      "text/plain": [
       "[Parameter containing:\n",
       " tensor([[-0.1136, -0.2205, -0.2497, -0.4007, -0.3938,  0.1232]],\n",
       "        requires_grad=True), Parameter containing:\n",
       " tensor([-0.3184], requires_grad=True)]"
      ]
     },
     "execution_count": 101,
     "metadata": {},
     "output_type": "execute_result"
    }
   ],
   "source": [
    "list(model.parameters())"
   ]
  },
  {
   "cell_type": "code",
   "execution_count": 102,
   "metadata": {},
   "outputs": [],
   "source": [
    "def evaluate(model, val_loader):\n",
    "    outputs = [model.validation_step(batch) for batch in val_loader]\n",
    "    return model.validation_epoch_end(outputs)\n",
    "\n",
    "def fit(epochs, lr, model, train_loader, val_loader, opt_func=torch.optim.SGD):\n",
    "    history = []\n",
    "    optimizer = opt_func(model.parameters(), lr)\n",
    "    for epoch in range(epochs):\n",
    "        # Training Phase \n",
    "        for batch in train_loader:\n",
    "            loss = model.training_step(batch)\n",
    "            loss.backward()\n",
    "            optimizer.step()\n",
    "            optimizer.zero_grad()\n",
    "        # Validation phase\n",
    "        result = evaluate(model, val_loader)\n",
    "        model.epoch_end(epoch, result, epochs)\n",
    "        history.append(result)\n",
    "    return history"
   ]
  },
  {
   "cell_type": "code",
   "execution_count": 103,
   "metadata": {},
   "outputs": [
    {
     "name": "stdout",
     "output_type": "stream",
     "text": [
      "{'val_loss': 12762.54296875}\n"
     ]
    }
   ],
   "source": [
    "result = evaluate(model, val_loader) # Use the the evaluate function\n",
    "print(result)"
   ]
  },
  {
   "cell_type": "code",
   "execution_count": 104,
   "metadata": {},
   "outputs": [
    {
     "name": "stdout",
     "output_type": "stream",
     "text": [
      "Epoch [20], val_loss: 12745.6299\n",
      "Epoch [40], val_loss: 12728.7158\n",
      "Epoch [60], val_loss: 12711.8008\n",
      "Epoch [80], val_loss: 12694.8887\n",
      "Epoch [100], val_loss: 12677.9727\n"
     ]
    }
   ],
   "source": [
    "epochs = 100\n",
    "lr = 1e-5\n",
    "history1 = fit(epochs, lr, model, train_loader, val_loader)"
   ]
  },
  {
   "cell_type": "code",
   "execution_count": 107,
   "metadata": {},
   "outputs": [
    {
     "name": "stdout",
     "output_type": "stream",
     "text": [
      "Epoch [20], val_loss: 6279.1348\n",
      "Epoch [40], val_loss: 6263.5747\n",
      "Epoch [60], val_loss: 6255.5361\n",
      "Epoch [80], val_loss: 6246.8398\n",
      "Epoch [100], val_loss: 6237.2378\n"
     ]
    }
   ],
   "source": [
    "epochs = 100\n",
    "lr = 1e-1\n",
    "history1 = fit(epochs, lr, model, train_loader, val_loader)"
   ]
  },
  {
   "cell_type": "code",
   "execution_count": 110,
   "metadata": {},
   "outputs": [
    {
     "name": "stdout",
     "output_type": "stream",
     "text": [
      "Epoch [20], val_loss: 5893.1035\n",
      "Epoch [40], val_loss: 5854.6401\n",
      "Epoch [60], val_loss: 5855.7832\n",
      "Epoch [80], val_loss: 5834.4102\n",
      "Epoch [100], val_loss: 5825.4404\n",
      "Epoch [120], val_loss: 5801.2437\n",
      "Epoch [140], val_loss: 5779.6191\n",
      "Epoch [160], val_loss: 5801.9629\n",
      "Epoch [180], val_loss: 5757.6812\n",
      "Epoch [200], val_loss: 5746.6035\n",
      "Epoch [220], val_loss: 5721.7129\n",
      "Epoch [240], val_loss: 5717.9922\n",
      "Epoch [260], val_loss: 5721.8301\n",
      "Epoch [280], val_loss: 5679.3945\n",
      "Epoch [300], val_loss: 5690.9756\n",
      "Epoch [320], val_loss: 5651.6221\n",
      "Epoch [340], val_loss: 5654.2476\n",
      "Epoch [360], val_loss: 5620.8657\n",
      "Epoch [380], val_loss: 5662.3115\n",
      "Epoch [400], val_loss: 5662.1465\n",
      "Epoch [420], val_loss: 5592.4375\n",
      "Epoch [440], val_loss: 5606.5620\n",
      "Epoch [460], val_loss: 5642.5132\n",
      "Epoch [480], val_loss: 5576.1187\n",
      "Epoch [500], val_loss: 5520.8145\n"
     ]
    }
   ],
   "source": [
    "epochs = 500\n",
    "lr = 1e-1*5\n",
    "history1 = fit(epochs, lr, model, train_loader, val_loader)"
   ]
  },
  {
   "cell_type": "code",
   "execution_count": 113,
   "metadata": {},
   "outputs": [
    {
     "name": "stdout",
     "output_type": "stream",
     "text": [
      "Epoch [20], val_loss: 5358.5942\n",
      "Epoch [40], val_loss: 5340.5176\n",
      "Epoch [60], val_loss: 5341.6587\n",
      "Epoch [80], val_loss: 5406.5391\n",
      "Epoch [100], val_loss: 5317.3682\n",
      "Epoch [120], val_loss: 5302.6089\n",
      "Epoch [140], val_loss: 5246.0522\n",
      "Epoch [160], val_loss: 5273.3291\n",
      "Epoch [180], val_loss: 5289.4106\n",
      "Epoch [200], val_loss: 5285.5859\n",
      "Epoch [220], val_loss: 5279.0186\n",
      "Epoch [240], val_loss: 5356.2671\n",
      "Epoch [260], val_loss: 5181.5244\n",
      "Epoch [280], val_loss: 5273.5132\n",
      "Epoch [300], val_loss: 5159.8145\n",
      "Epoch [320], val_loss: 5106.3701\n",
      "Epoch [340], val_loss: 5136.6729\n",
      "Epoch [360], val_loss: 5090.7163\n",
      "Epoch [380], val_loss: 5055.6606\n",
      "Epoch [400], val_loss: 5026.6177\n",
      "Epoch [420], val_loss: 5008.6699\n",
      "Epoch [440], val_loss: 4991.8525\n",
      "Epoch [460], val_loss: 5194.8179\n",
      "Epoch [480], val_loss: 4979.8262\n",
      "Epoch [500], val_loss: 4959.9956\n"
     ]
    }
   ],
   "source": [
    "epochs = 500\n",
    "lr = 1e-1*6\n",
    "history1 = fit(epochs, lr, model, train_loader, val_loader)"
   ]
  },
  {
   "cell_type": "code",
   "execution_count": 114,
   "metadata": {},
   "outputs": [
    {
     "name": "stdout",
     "output_type": "stream",
     "text": [
      "Epoch [20], val_loss: 4959.6816\n",
      "Epoch [40], val_loss: 4959.3750\n",
      "Epoch [60], val_loss: 4959.0786\n",
      "Epoch [80], val_loss: 4958.7817\n",
      "Epoch [100], val_loss: 4958.4849\n"
     ]
    }
   ],
   "source": [
    "epochs = 100\n",
    "lr = 1e-5\n",
    "history1 = fit(epochs, lr, model, train_loader, val_loader)"
   ]
  },
  {
   "cell_type": "code",
   "execution_count": 117,
   "metadata": {},
   "outputs": [
    {
     "name": "stdout",
     "output_type": "stream",
     "text": [
      "Epoch [20], val_loss: 4833.4077\n",
      "Epoch [40], val_loss: 4850.5342\n",
      "Epoch [60], val_loss: 4776.5615\n",
      "Epoch [80], val_loss: 4810.5269\n",
      "Epoch [100], val_loss: 4772.0571\n",
      "Epoch [120], val_loss: 4703.7710\n",
      "Epoch [140], val_loss: 4727.8418\n",
      "Epoch [160], val_loss: 4711.2998\n",
      "Epoch [180], val_loss: 4658.9443\n",
      "Epoch [200], val_loss: 4735.9482\n",
      "Epoch [220], val_loss: 4622.9668\n",
      "Epoch [240], val_loss: 4623.8027\n",
      "Epoch [260], val_loss: 4667.3452\n",
      "Epoch [280], val_loss: 4580.3027\n",
      "Epoch [300], val_loss: 4558.8535\n",
      "Epoch [320], val_loss: 4633.6382\n",
      "Epoch [340], val_loss: 4562.3818\n",
      "Epoch [360], val_loss: 4510.1689\n",
      "Epoch [380], val_loss: 4551.9111\n",
      "Epoch [400], val_loss: 4505.3472\n",
      "Epoch [420], val_loss: 4505.1118\n",
      "Epoch [440], val_loss: 4441.9946\n",
      "Epoch [460], val_loss: 4644.3936\n",
      "Epoch [480], val_loss: 4430.3574\n",
      "Epoch [500], val_loss: 4408.4629\n",
      "Epoch [520], val_loss: 4485.9004\n",
      "Epoch [540], val_loss: 4411.2744\n",
      "Epoch [560], val_loss: 4426.3848\n",
      "Epoch [580], val_loss: 4343.3882\n",
      "Epoch [600], val_loss: 4321.4448\n",
      "Epoch [620], val_loss: 4308.0112\n",
      "Epoch [640], val_loss: 4317.0693\n",
      "Epoch [660], val_loss: 4481.3340\n",
      "Epoch [680], val_loss: 4314.7275\n",
      "Epoch [700], val_loss: 4251.8989\n",
      "Epoch [720], val_loss: 4248.5464\n",
      "Epoch [740], val_loss: 4267.4355\n",
      "Epoch [760], val_loss: 4226.6909\n",
      "Epoch [780], val_loss: 4239.4609\n",
      "Epoch [800], val_loss: 4174.3589\n",
      "Epoch [820], val_loss: 4187.5693\n",
      "Epoch [840], val_loss: 4156.2998\n",
      "Epoch [860], val_loss: 4348.1465\n",
      "Epoch [880], val_loss: 4160.2363\n",
      "Epoch [900], val_loss: 4350.3813\n",
      "Epoch [920], val_loss: 4160.2246\n",
      "Epoch [940], val_loss: 4243.2012\n",
      "Epoch [960], val_loss: 4087.2400\n",
      "Epoch [980], val_loss: 4215.5361\n",
      "Epoch [1000], val_loss: 4266.7690\n"
     ]
    }
   ],
   "source": [
    "epochs = 1000\n",
    "lr = 1e-1*6\n",
    "history1 = fit(epochs, lr, model, train_loader, val_loader)"
   ]
  },
  {
   "cell_type": "code",
   "execution_count": 120,
   "metadata": {},
   "outputs": [
    {
     "name": "stdout",
     "output_type": "stream",
     "text": [
      "Epoch [20], val_loss: 4256.3105\n",
      "Epoch [40], val_loss: 3918.8940\n",
      "Epoch [60], val_loss: 4023.6267\n",
      "Epoch [80], val_loss: 4207.9746\n",
      "Epoch [100], val_loss: 4316.7964\n",
      "Epoch [120], val_loss: 3922.6541\n",
      "Epoch [140], val_loss: 3999.8018\n",
      "Epoch [160], val_loss: 3819.2847\n",
      "Epoch [180], val_loss: 3900.9810\n",
      "Epoch [200], val_loss: 4343.6792\n",
      "Epoch [220], val_loss: 3811.0630\n",
      "Epoch [240], val_loss: 3868.3740\n",
      "Epoch [260], val_loss: 3835.0972\n",
      "Epoch [280], val_loss: 3834.2395\n",
      "Epoch [300], val_loss: 3913.8455\n",
      "Epoch [320], val_loss: 3893.6433\n",
      "Epoch [340], val_loss: 3816.1702\n",
      "Epoch [360], val_loss: 3740.8867\n",
      "Epoch [380], val_loss: 3767.9739\n",
      "Epoch [400], val_loss: 3691.9519\n",
      "Epoch [420], val_loss: 3714.3035\n",
      "Epoch [440], val_loss: 3955.8064\n",
      "Epoch [460], val_loss: 3747.1418\n",
      "Epoch [480], val_loss: 3627.1165\n",
      "Epoch [500], val_loss: 3629.7539\n"
     ]
    }
   ],
   "source": [
    "epochs = 500\n",
    "lr = 1e-1*9\n",
    "history1 = fit(epochs, lr, model, train_loader, val_loader)"
   ]
  },
  {
   "cell_type": "code",
   "execution_count": 122,
   "metadata": {},
   "outputs": [
    {
     "name": "stdout",
     "output_type": "stream",
     "text": [
      "Epoch [20], val_loss: 4014.6267\n",
      "Epoch [40], val_loss: 3677.2842\n",
      "Epoch [60], val_loss: 3647.5381\n",
      "Epoch [80], val_loss: 3621.3289\n",
      "Epoch [100], val_loss: 3625.7249\n",
      "Epoch [120], val_loss: 3558.9180\n",
      "Epoch [140], val_loss: 3590.1338\n",
      "Epoch [160], val_loss: 3795.7131\n",
      "Epoch [180], val_loss: 3573.8538\n",
      "Epoch [200], val_loss: 3591.1931\n",
      "Epoch [220], val_loss: 3558.1885\n",
      "Epoch [240], val_loss: 3536.4326\n",
      "Epoch [260], val_loss: 3587.2173\n",
      "Epoch [280], val_loss: 3640.5889\n",
      "Epoch [300], val_loss: 3535.7966\n",
      "Epoch [320], val_loss: 3536.0254\n",
      "Epoch [340], val_loss: 3519.7646\n",
      "Epoch [360], val_loss: 3763.2568\n",
      "Epoch [380], val_loss: 3522.7344\n",
      "Epoch [400], val_loss: 3532.4897\n",
      "Epoch [420], val_loss: 3706.0693\n",
      "Epoch [440], val_loss: 3572.9575\n",
      "Epoch [460], val_loss: 3508.7852\n",
      "Epoch [480], val_loss: 3504.5808\n",
      "Epoch [500], val_loss: 3515.5679\n"
     ]
    }
   ],
   "source": [
    "epochs = 500\n",
    "lr = 1e-1*7\n",
    "history1 = fit(epochs, lr, model, train_loader, val_loader)"
   ]
  },
  {
   "cell_type": "code",
   "execution_count": 125,
   "metadata": {},
   "outputs": [
    {
     "name": "stdout",
     "output_type": "stream",
     "text": [
      "Epoch [20], val_loss: 3501.5535\n",
      "Epoch [40], val_loss: 3501.6577\n",
      "Epoch [60], val_loss: 3501.9641\n",
      "Epoch [80], val_loss: 3501.9814\n",
      "Epoch [100], val_loss: 3500.9529\n",
      "Epoch [120], val_loss: 3502.0750\n",
      "Epoch [140], val_loss: 3500.6729\n",
      "Epoch [160], val_loss: 3502.2524\n",
      "Epoch [180], val_loss: 3500.2139\n",
      "Epoch [200], val_loss: 3500.9944\n",
      "Epoch [220], val_loss: 3499.9639\n",
      "Epoch [240], val_loss: 3502.1895\n",
      "Epoch [260], val_loss: 3499.6592\n",
      "Epoch [280], val_loss: 3503.4504\n",
      "Epoch [300], val_loss: 3499.7585\n",
      "Epoch [320], val_loss: 3498.2520\n",
      "Epoch [340], val_loss: 3500.2881\n",
      "Epoch [360], val_loss: 3501.3767\n",
      "Epoch [380], val_loss: 3499.3311\n",
      "Epoch [400], val_loss: 3499.1201\n",
      "Epoch [420], val_loss: 3500.0203\n",
      "Epoch [440], val_loss: 3501.9861\n",
      "Epoch [460], val_loss: 3501.0037\n",
      "Epoch [480], val_loss: 3498.6646\n",
      "Epoch [500], val_loss: 3496.2102\n"
     ]
    }
   ],
   "source": [
    "epochs = 500\n",
    "lr = 1e-1\n",
    "history1 = fit(epochs, lr, model, train_loader, val_loader)"
   ]
  },
  {
   "cell_type": "code",
   "execution_count": 127,
   "metadata": {},
   "outputs": [
    {
     "data": {
      "text/plain": [
       "Text(0.5, 1.0, 'Val_loss vs. epochs')"
      ]
     },
     "execution_count": 127,
     "metadata": {},
     "output_type": "execute_result"
    },
    {
     "data": {
      "image/png": "[encoded data removed]",
      "text/plain": [
       "<Figure size 432x288 with 1 Axes>"
      ]
     },
     "metadata": {
      "needs_background": "light"
     },
     "output_type": "display_data"
    }
   ],
   "source": [
    "loss = []\n",
    "for value in history1:\n",
    "    loss.append(value['val_loss'])\n",
    "plt.plot(loss)\n",
    "plt.xlabel('epochs')\n",
    "plt.ylabel('val_loss')\n",
    "plt.title('Val_loss vs. epochs')"
   ]
  },
  {
   "cell_type": "code",
   "execution_count": 128,
   "metadata": {},
   "outputs": [
    {
     "data": {
      "text/plain": [
       "{'val_loss': 3496.210205078125}"
      ]
     },
     "execution_count": 128,
     "metadata": {},
     "output_type": "execute_result"
    }
   ],
   "source": [
    "val_loss = evaluate(model, val_loader)\n",
    "val_loss"
   ]
  },
  {
   "cell_type": "code",
   "execution_count": 129,
   "metadata": {},
   "outputs": [],
   "source": [
    "def predict_single(input, target, model):\n",
    "    inputs = input.unsqueeze(0)\n",
    "    predictions = model(inputs)                # fill this\n",
    "    prediction = predictions[0].detach()\n",
    "    print(\"Input:\", input)\n",
    "    print(\"Target:\", target)\n",
    "    print(\"Prediction:\", prediction)"
   ]
  },
  {
   "cell_type": "code",
   "execution_count": null,
   "metadata": {},
   "outputs": [],
   "source": []
  }
 ],
 "metadata": {
  "kernelspec": {
   "display_name": "Python 3",
   "language": "python",
   "name": "python3"
  },
  "language_info": {
   "codemirror_mode": {
    "name": "ipython",
    "version": 3
   },
   "file_extension": ".py",
   "mimetype": "text/x-python",
   "name": "python",
   "nbconvert_exporter": "python",
   "pygments_lexer": "ipython3",
   "version": "3.7.4"
  }
 },
 "nbformat": 4,
 "nbformat_minor": 2
}
