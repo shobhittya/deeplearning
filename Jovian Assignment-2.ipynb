{
 "cells": [
  {
   "cell_type": "markdown",
   "metadata": {
    "id": "g08K94iTyBBB"
   },
   "source": [
    "# Insurance cost prediction using linear regression\n",
    "\n",
    "Make a submisson here: https://jovian.ai/learn/deep-learning-with-pytorch-zero-to-gans/assignment/assignment-2-train-your-first-model\n",
    "\n",
    "In this assignment we're going to use information like a person's age, sex, BMI, no. of children and smoking habit to predict the price of yearly medical bills. This kind of model is useful for insurance companies to determine the yearly insurance premium for a person. The dataset for this problem is taken from [Kaggle](https://www.kaggle.com/mirichoi0218/insurance).\n",
    "\n",
    "\n",
    "We will create a model with the following steps:\n",
    "1. Download and explore the dataset\n",
    "2. Prepare the dataset for training\n",
    "3. Create a linear regression model\n",
    "4. Train the model to fit the data\n",
    "5. Make predictions using the trained model\n",
    "\n",
    "\n",
    "This assignment builds upon the concepts from the first 2 lessons. It will help to review these Jupyter notebooks:\n",
    "- PyTorch basics: https://jovian.ai/aakashns/01-pytorch-basics\n",
    "- Linear Regression: https://jovian.ai/aakashns/02-linear-regression\n",
    "- Logistic Regression: https://jovian.ai/aakashns/03-logistic-regression\n",
    "- Linear regression (minimal): https://jovian.ai/aakashns/housing-linear-minimal\n",
    "- Logistic regression (minimal): https://jovian.ai/aakashns/mnist-logistic-minimal\n",
    "\n",
    "As you go through this notebook, you will find a **???** in certain places. Your job is to replace the **???** with appropriate code or values, to ensure that the notebook runs properly end-to-end . In some cases, you'll be required to choose some hyperparameters (learning rate, batch size etc.). Try to experiment with the hypeparameters to get the lowest loss.\n"
   ]
  },
  {
   "cell_type": "code",
   "execution_count": 1,
   "metadata": {},
   "outputs": [
    {
     "name": "stdout",
     "output_type": "stream",
     "text": [
      "tensor([[0.5468, 0.3645, 0.5107],\n",
      "        [0.6034, 0.5632, 0.5487],\n",
      "        [0.5458, 0.2358, 0.1765],\n",
      "        [0.3568, 0.6659, 0.0698],\n",
      "        [0.0975, 0.1978, 0.5968]])\n"
     ]
    }
   ],
   "source": [
    "import torch\n",
    "x = torch.rand(5, 3)\n",
    "print(x)"
   ]
  },
  {
   "cell_type": "code",
   "execution_count": 2,
   "metadata": {
    "executionInfo": {
     "elapsed": 3337,
     "status": "ok",
     "timestamp": 1607092606392,
     "user": {
      "displayName": "shobhit tyagi",
      "photoUrl": "https://lh3.googleusercontent.com/a-/AOh14GjKOHlUNQc-zxHwTA8P24S57--FT0_Ouv4wv947Rw=s64",
      "userId": "06994340572129584821"
     },
     "user_tz": -330
    },
    "id": "SVARh-5ByBBC"
   },
   "outputs": [],
   "source": [
    "# Uncomment and run the appropriate command for your operating system, if required\n",
    "\n",
    "# Linux / Binder\n",
    "# !pip install numpy matplotlib pandas torch==1.7.0+cpu torchvision==0.8.1+cpu torchaudio==0.7.0 -f https://download.pytorch.org/whl/torch_stable.html\n",
    "\n",
    "# Windows\n",
    "# !pip install numpy matplotlib pandas torch==1.7.0+cpu torchvision==0.8.1+cpu torchaudio==0.7.0 -f https://download.pytorch.org/whl/torch_stable.html\n",
    "\n",
    "# MacOS\n",
    "# !pip install numpy matplotlib pandas torch torchvision torchaudio"
   ]
  },
  {
   "cell_type": "code",
   "execution_count": 3,
   "metadata": {
    "executionInfo": {
     "elapsed": 4186,
     "status": "ok",
     "timestamp": 1607092607261,
     "user": {
      "displayName": "shobhit tyagi",
      "photoUrl": "https://lh3.googleusercontent.com/a-/AOh14GjKOHlUNQc-zxHwTA8P24S57--FT0_Ouv4wv947Rw=s64",
      "userId": "06994340572129584821"
     },
     "user_tz": -330
    },
    "id": "Pn1lQ8NGyBBC"
   },
   "outputs": [],
   "source": [
    "import torch\n",
    "import jovian\n",
    "import torchvision\n",
    "import torch.nn as nn\n",
    "import pandas as pd\n",
    "import matplotlib.pyplot as plt\n",
    "import torch.nn.functional as F\n",
    "from torchvision.datasets.utils import download_url\n",
    "from torch.utils.data import DataLoader, TensorDataset, random_split"
   ]
  },
  {
   "cell_type": "code",
   "execution_count": 4,
   "metadata": {
    "executionInfo": {
     "elapsed": 4179,
     "status": "ok",
     "timestamp": 1607092607263,
     "user": {
      "displayName": "shobhit tyagi",
      "photoUrl": "https://lh3.googleusercontent.com/a-/AOh14GjKOHlUNQc-zxHwTA8P24S57--FT0_Ouv4wv947Rw=s64",
      "userId": "06994340572129584821"
     },
     "user_tz": -330
    },
    "id": "m7EvC11ByBBC"
   },
   "outputs": [],
   "source": [
    "project_name='02-insurance-linear-regression' # will be used by jovian.commit"
   ]
  },
  {
   "cell_type": "markdown",
   "metadata": {
    "id": "S56logEHyBBC"
   },
   "source": [
    "## Step 1: Download and explore the data\n",
    "\n",
    "Let us begin by downloading the data. We'll use the `download_url` function from PyTorch to get the data as a CSV (comma-separated values) file. "
   ]
  },
  {
   "cell_type": "code",
   "execution_count": 5,
   "metadata": {
    "colab": {
     "base_uri": "https://localhost:8080/"
    },
    "executionInfo": {
     "elapsed": 4165,
     "status": "ok",
     "timestamp": 1607092607266,
     "user": {
      "displayName": "shobhit tyagi",
      "photoUrl": "https://lh3.googleusercontent.com/a-/AOh14GjKOHlUNQc-zxHwTA8P24S57--FT0_Ouv4wv947Rw=s64",
      "userId": "06994340572129584821"
     },
     "user_tz": -330
    },
    "id": "2rW8cZ1hyBBC",
    "outputId": "1f5671f6-88fd-4129-be92-945d4ad9bfc9"
   },
   "outputs": [
    {
     "name": "stdout",
     "output_type": "stream",
     "text": [
      "Downloading https://hub.jovian.ml/wp-content/uploads/2020/05/insurance.csv to .\\insurance.csv\n"
     ]
    },
    {
     "data": {
      "application/vnd.jupyter.widget-view+json": {
       "model_id": "30c1face96f94ad19209e78fa3f423ec",
       "version_major": 2,
       "version_minor": 0
      },
      "text/plain": [
       "HBox(children=(HTML(value=''), FloatProgress(value=1.0, bar_style='info', layout=Layout(width='20px'), max=1.0…"
      ]
     },
     "metadata": {},
     "output_type": "display_data"
    }
   ],
   "source": [
    "DATASET_URL = \"https://hub.jovian.ml/wp-content/uploads/2020/05/insurance.csv\"\n",
    "DATA_FILENAME = \"insurance.csv\"\n",
    "download_url(DATASET_URL, '.')"
   ]
  },
  {
   "cell_type": "markdown",
   "metadata": {
    "id": "MOLGmg3dyBBF"
   },
   "source": [
    "To load the dataset into memory, we'll use the `read_csv` function from the `pandas` library. The data will be loaded as a Pandas dataframe. See this short tutorial to learn more: https://data36.com/pandas-tutorial-1-basics-reading-data-files-dataframes-data-selection/"
   ]
  },
  {
   "cell_type": "code",
   "execution_count": 6,
   "metadata": {
    "colab": {
     "base_uri": "https://localhost:8080/",
     "height": 204
    },
    "executionInfo": {
     "elapsed": 4151,
     "status": "ok",
     "timestamp": 1607092607270,
     "user": {
      "displayName": "shobhit tyagi",
      "photoUrl": "https://lh3.googleusercontent.com/a-/AOh14GjKOHlUNQc-zxHwTA8P24S57--FT0_Ouv4wv947Rw=s64",
      "userId": "06994340572129584821"
     },
     "user_tz": -330
    },
    "id": "bkonl12ZyBBF",
    "outputId": "c331d837-b15c-4eab-8130-e6bd099da8d4"
   },
   "outputs": [
    {
     "data": {
      "text/html": [
       "<div>\n",
       "<style scoped>\n",
       "    .dataframe tbody tr th:only-of-type {\n",
       "        vertical-align: middle;\n",
       "    }\n",
       "\n",
       "    .dataframe tbody tr th {\n",
       "        vertical-align: top;\n",
       "    }\n",
       "\n",
       "    .dataframe thead th {\n",
       "        text-align: right;\n",
       "    }\n",
       "</style>\n",
       "<table border=\"1\" class=\"dataframe\">\n",
       "  <thead>\n",
       "    <tr style=\"text-align: right;\">\n",
       "      <th></th>\n",
       "      <th>age</th>\n",
       "      <th>sex</th>\n",
       "      <th>bmi</th>\n",
       "      <th>children</th>\n",
       "      <th>smoker</th>\n",
       "      <th>region</th>\n",
       "      <th>charges</th>\n",
       "    </tr>\n",
       "  </thead>\n",
       "  <tbody>\n",
       "    <tr>\n",
       "      <td>0</td>\n",
       "      <td>19</td>\n",
       "      <td>female</td>\n",
       "      <td>27.900</td>\n",
       "      <td>0</td>\n",
       "      <td>yes</td>\n",
       "      <td>southwest</td>\n",
       "      <td>16884.92400</td>\n",
       "    </tr>\n",
       "    <tr>\n",
       "      <td>1</td>\n",
       "      <td>18</td>\n",
       "      <td>male</td>\n",
       "      <td>33.770</td>\n",
       "      <td>1</td>\n",
       "      <td>no</td>\n",
       "      <td>southeast</td>\n",
       "      <td>1725.55230</td>\n",
       "    </tr>\n",
       "    <tr>\n",
       "      <td>2</td>\n",
       "      <td>28</td>\n",
       "      <td>male</td>\n",
       "      <td>33.000</td>\n",
       "      <td>3</td>\n",
       "      <td>no</td>\n",
       "      <td>southeast</td>\n",
       "      <td>4449.46200</td>\n",
       "    </tr>\n",
       "    <tr>\n",
       "      <td>3</td>\n",
       "      <td>33</td>\n",
       "      <td>male</td>\n",
       "      <td>22.705</td>\n",
       "      <td>0</td>\n",
       "      <td>no</td>\n",
       "      <td>northwest</td>\n",
       "      <td>21984.47061</td>\n",
       "    </tr>\n",
       "    <tr>\n",
       "      <td>4</td>\n",
       "      <td>32</td>\n",
       "      <td>male</td>\n",
       "      <td>28.880</td>\n",
       "      <td>0</td>\n",
       "      <td>no</td>\n",
       "      <td>northwest</td>\n",
       "      <td>3866.85520</td>\n",
       "    </tr>\n",
       "  </tbody>\n",
       "</table>\n",
       "</div>"
      ],
      "text/plain": [
       "   age     sex     bmi  children smoker     region      charges\n",
       "0   19  female  27.900         0    yes  southwest  16884.92400\n",
       "1   18    male  33.770         1     no  southeast   1725.55230\n",
       "2   28    male  33.000         3     no  southeast   4449.46200\n",
       "3   33    male  22.705         0     no  northwest  21984.47061\n",
       "4   32    male  28.880         0     no  northwest   3866.85520"
      ]
     },
     "execution_count": 6,
     "metadata": {},
     "output_type": "execute_result"
    }
   ],
   "source": [
    "dataframe_raw = pd.read_csv(DATA_FILENAME)\n",
    "dataframe_raw.head()"
   ]
  },
  {
   "cell_type": "markdown",
   "metadata": {
    "id": "FqpOqoZayBBF"
   },
   "source": [
    "We're going to do a slight customization of the data, so that you every participant receives a slightly different version of the dataset. Fill in your name below as a string (enter at least 5 characters)"
   ]
  },
  {
   "cell_type": "code",
   "execution_count": 7,
   "metadata": {
    "executionInfo": {
     "elapsed": 4140,
     "status": "ok",
     "timestamp": 1607092607271,
     "user": {
      "displayName": "shobhit tyagi",
      "photoUrl": "https://lh3.googleusercontent.com/a-/AOh14GjKOHlUNQc-zxHwTA8P24S57--FT0_Ouv4wv947Rw=s64",
      "userId": "06994340572129584821"
     },
     "user_tz": -330
    },
    "id": "rsA1IMXWyBBF"
   },
   "outputs": [],
   "source": [
    "your_name = 'Shobhit Tyagi'  # at least 5 characters"
   ]
  },
  {
   "cell_type": "markdown",
   "metadata": {
    "id": "YqXChEYdyBBF"
   },
   "source": [
    "The `customize_dataset` function will customize the dataset slightly using your name as a source of random numbers."
   ]
  },
  {
   "cell_type": "code",
   "execution_count": 8,
   "metadata": {
    "executionInfo": {
     "elapsed": 4133,
     "status": "ok",
     "timestamp": 1607092607273,
     "user": {
      "displayName": "shobhit tyagi",
      "photoUrl": "https://lh3.googleusercontent.com/a-/AOh14GjKOHlUNQc-zxHwTA8P24S57--FT0_Ouv4wv947Rw=s64",
      "userId": "06994340572129584821"
     },
     "user_tz": -330
    },
    "id": "ZgO9HkmhyBBF"
   },
   "outputs": [],
   "source": [
    "def customize_dataset(dataframe_raw, rand_str):\n",
    "    dataframe = dataframe_raw.copy(deep=True)\n",
    "    # drop some rows\n",
    "    dataframe = dataframe.sample(int(0.95*len(dataframe)), random_state=int(ord(rand_str[0])))\n",
    "    # scale input\n",
    "    dataframe.bmi = dataframe.bmi * ord(rand_str[1])/100.\n",
    "    # scale target\n",
    "    dataframe.charges = dataframe.charges * ord(rand_str[2])/100.\n",
    "    # drop column\n",
    "    if ord(rand_str[3]) % 2 == 1:\n",
    "        dataframe = dataframe.drop(['region'], axis=1)\n",
    "    return dataframe"
   ]
  },
  {
   "cell_type": "code",
   "execution_count": 9,
   "metadata": {
    "colab": {
     "base_uri": "https://localhost:8080/",
     "height": 204
    },
    "executionInfo": {
     "elapsed": 4119,
     "status": "ok",
     "timestamp": 1607092607275,
     "user": {
      "displayName": "shobhit tyagi",
      "photoUrl": "https://lh3.googleusercontent.com/a-/AOh14GjKOHlUNQc-zxHwTA8P24S57--FT0_Ouv4wv947Rw=s64",
      "userId": "06994340572129584821"
     },
     "user_tz": -330
    },
    "id": "A5RxW1NLyBBF",
    "outputId": "61e1fb4a-3924-44d5-8b83-05abb35663d2"
   },
   "outputs": [
    {
     "data": {
      "text/html": [
       "<div>\n",
       "<style scoped>\n",
       "    .dataframe tbody tr th:only-of-type {\n",
       "        vertical-align: middle;\n",
       "    }\n",
       "\n",
       "    .dataframe tbody tr th {\n",
       "        vertical-align: top;\n",
       "    }\n",
       "\n",
       "    .dataframe thead th {\n",
       "        text-align: right;\n",
       "    }\n",
       "</style>\n",
       "<table border=\"1\" class=\"dataframe\">\n",
       "  <thead>\n",
       "    <tr style=\"text-align: right;\">\n",
       "      <th></th>\n",
       "      <th>age</th>\n",
       "      <th>sex</th>\n",
       "      <th>bmi</th>\n",
       "      <th>children</th>\n",
       "      <th>smoker</th>\n",
       "      <th>region</th>\n",
       "      <th>charges</th>\n",
       "    </tr>\n",
       "  </thead>\n",
       "  <tbody>\n",
       "    <tr>\n",
       "      <td>665</td>\n",
       "      <td>43</td>\n",
       "      <td>male</td>\n",
       "      <td>39.5824</td>\n",
       "      <td>2</td>\n",
       "      <td>yes</td>\n",
       "      <td>southeast</td>\n",
       "      <td>47242.077744</td>\n",
       "    </tr>\n",
       "    <tr>\n",
       "      <td>579</td>\n",
       "      <td>25</td>\n",
       "      <td>female</td>\n",
       "      <td>24.4036</td>\n",
       "      <td>0</td>\n",
       "      <td>no</td>\n",
       "      <td>northeast</td>\n",
       "      <td>3559.205399</td>\n",
       "    </tr>\n",
       "    <tr>\n",
       "      <td>84</td>\n",
       "      <td>37</td>\n",
       "      <td>female</td>\n",
       "      <td>36.1920</td>\n",
       "      <td>2</td>\n",
       "      <td>yes</td>\n",
       "      <td>southwest</td>\n",
       "      <td>44218.536090</td>\n",
       "    </tr>\n",
       "    <tr>\n",
       "      <td>244</td>\n",
       "      <td>63</td>\n",
       "      <td>female</td>\n",
       "      <td>28.8496</td>\n",
       "      <td>0</td>\n",
       "      <td>yes</td>\n",
       "      <td>northeast</td>\n",
       "      <td>32770.713816</td>\n",
       "    </tr>\n",
       "    <tr>\n",
       "      <td>1307</td>\n",
       "      <td>32</td>\n",
       "      <td>male</td>\n",
       "      <td>29.2448</td>\n",
       "      <td>4</td>\n",
       "      <td>yes</td>\n",
       "      <td>northwest</td>\n",
       "      <td>23834.451468</td>\n",
       "    </tr>\n",
       "  </tbody>\n",
       "</table>\n",
       "</div>"
      ],
      "text/plain": [
       "      age     sex      bmi  children smoker     region       charges\n",
       "665    43    male  39.5824         2    yes  southeast  47242.077744\n",
       "579    25  female  24.4036         0     no  northeast   3559.205399\n",
       "84     37  female  36.1920         2    yes  southwest  44218.536090\n",
       "244    63  female  28.8496         0    yes  northeast  32770.713816\n",
       "1307   32    male  29.2448         4    yes  northwest  23834.451468"
      ]
     },
     "execution_count": 9,
     "metadata": {},
     "output_type": "execute_result"
    }
   ],
   "source": [
    "dataframe = customize_dataset(dataframe_raw, your_name)\n",
    "dataframe.head()"
   ]
  },
  {
   "cell_type": "markdown",
   "metadata": {
    "id": "549LWvImyBBF"
   },
   "source": [
    "Let us answer some basic questions about the dataset. \n",
    "\n",
    "\n",
    "**Q: How many rows does the dataset have?**"
   ]
  },
  {
   "cell_type": "code",
   "execution_count": 10,
   "metadata": {
    "colab": {
     "base_uri": "https://localhost:8080/"
    },
    "executionInfo": {
     "elapsed": 4109,
     "status": "ok",
     "timestamp": 1607092607276,
     "user": {
      "displayName": "shobhit tyagi",
      "photoUrl": "https://lh3.googleusercontent.com/a-/AOh14GjKOHlUNQc-zxHwTA8P24S57--FT0_Ouv4wv947Rw=s64",
      "userId": "06994340572129584821"
     },
     "user_tz": -330
    },
    "id": "UZ1L2HLZyBBF",
    "outputId": "5eaaf463-389f-4e2c-88cd-7201193e02a1"
   },
   "outputs": [
    {
     "name": "stdout",
     "output_type": "stream",
     "text": [
      "1271\n"
     ]
    }
   ],
   "source": [
    "num_rows = dataframe.shape[0]\n",
    "print(num_rows)"
   ]
  },
  {
   "cell_type": "markdown",
   "metadata": {
    "id": "KL89jrygyBBF"
   },
   "source": [
    "**Q: How many columns doe the dataset have**"
   ]
  },
  {
   "cell_type": "code",
   "execution_count": 11,
   "metadata": {
    "colab": {
     "base_uri": "https://localhost:8080/"
    },
    "executionInfo": {
     "elapsed": 4095,
     "status": "ok",
     "timestamp": 1607092607277,
     "user": {
      "displayName": "shobhit tyagi",
      "photoUrl": "https://lh3.googleusercontent.com/a-/AOh14GjKOHlUNQc-zxHwTA8P24S57--FT0_Ouv4wv947Rw=s64",
      "userId": "06994340572129584821"
     },
     "user_tz": -330
    },
    "id": "a7S2umvkyBBF",
    "outputId": "f5b8acd9-ed42-43dd-a5b8-07c951a4401a"
   },
   "outputs": [
    {
     "name": "stdout",
     "output_type": "stream",
     "text": [
      "7\n"
     ]
    }
   ],
   "source": [
    "#num_cols = dataframe.shape[1]\n",
    "num_cols = len(dataframe.columns)\n",
    "print(num_cols)\n"
   ]
  },
  {
   "cell_type": "markdown",
   "metadata": {
    "id": "FVscRkHXyBBF"
   },
   "source": [
    "**Q: What are the column titles of the input variables?**"
   ]
  },
  {
   "cell_type": "code",
   "execution_count": 12,
   "metadata": {
    "colab": {
     "base_uri": "https://localhost:8080/"
    },
    "executionInfo": {
     "elapsed": 4085,
     "status": "ok",
     "timestamp": 1607092607279,
     "user": {
      "displayName": "shobhit tyagi",
      "photoUrl": "https://lh3.googleusercontent.com/a-/AOh14GjKOHlUNQc-zxHwTA8P24S57--FT0_Ouv4wv947Rw=s64",
      "userId": "06994340572129584821"
     },
     "user_tz": -330
    },
    "id": "W2sDQzOeyBBG",
    "outputId": "c77e5edb-f28b-47d8-ff6c-c60700a4b713"
   },
   "outputs": [
    {
     "name": "stdout",
     "output_type": "stream",
     "text": [
      "age\n",
      "sex\n",
      "bmi\n",
      "children\n",
      "smoker\n",
      "region\n"
     ]
    }
   ],
   "source": [
    "input_cols = list(dataframe.columns[:-1])\n",
    "for cols in input_cols:\n",
    "  print(cols)"
   ]
  },
  {
   "cell_type": "markdown",
   "metadata": {
    "id": "HpItzSZ3yBBG"
   },
   "source": [
    "**Q: Which of the input columns are non-numeric or categorial variables ?**\n",
    "\n",
    "Hint: `sex` is one of them. List the columns that are not numbers."
   ]
  },
  {
   "cell_type": "code",
   "execution_count": 13,
   "metadata": {
    "colab": {
     "base_uri": "https://localhost:8080/"
    },
    "executionInfo": {
     "elapsed": 4075,
     "status": "ok",
     "timestamp": 1607092607279,
     "user": {
      "displayName": "shobhit tyagi",
      "photoUrl": "https://lh3.googleusercontent.com/a-/AOh14GjKOHlUNQc-zxHwTA8P24S57--FT0_Ouv4wv947Rw=s64",
      "userId": "06994340572129584821"
     },
     "user_tz": -330
    },
    "id": "aYp9x38LyBBG",
    "outputId": "f966c1ac-6e12-4d4e-bd43-9e612f8ecc72"
   },
   "outputs": [
    {
     "name": "stdout",
     "output_type": "stream",
     "text": [
      "sex\n",
      "smoker\n",
      "region\n"
     ]
    }
   ],
   "source": [
    "categorical_cols = list(dataframe.select_dtypes(include=['object']).columns)\n",
    "for cols in categorical_cols:\n",
    "  print(cols)"
   ]
  },
  {
   "cell_type": "markdown",
   "metadata": {
    "id": "YqZolMIUyBBG"
   },
   "source": [
    "**Q: What are the column titles of output/target variable(s)?**"
   ]
  },
  {
   "cell_type": "code",
   "execution_count": 14,
   "metadata": {
    "colab": {
     "base_uri": "https://localhost:8080/"
    },
    "executionInfo": {
     "elapsed": 4061,
     "status": "ok",
     "timestamp": 1607092607280,
     "user": {
      "displayName": "shobhit tyagi",
      "photoUrl": "https://lh3.googleusercontent.com/a-/AOh14GjKOHlUNQc-zxHwTA8P24S57--FT0_Ouv4wv947Rw=s64",
      "userId": "06994340572129584821"
     },
     "user_tz": -330
    },
    "id": "m15XhiVryBBG",
    "outputId": "e60c5fcf-fa4a-422f-e076-041e18ef5155"
   },
   "outputs": [
    {
     "name": "stdout",
     "output_type": "stream",
     "text": [
      "charges\n"
     ]
    }
   ],
   "source": [
    "output_cols = list(dataframe.columns[-1:])\n",
    "for cols in output_cols:\n",
    "  print(cols)"
   ]
  },
  {
   "cell_type": "markdown",
   "metadata": {
    "id": "3mQHQLFwyBBG"
   },
   "source": [
    "**Q: (Optional) What is the minimum, maximum and average value of the `charges` column? Can you show the distribution of values in a graph?**\n",
    "Use this data visualization cheatsheet for referece: https://jovian.ml/aakashns/dataviz-cheatsheet"
   ]
  },
  {
   "cell_type": "code",
   "execution_count": 15,
   "metadata": {
    "colab": {
     "base_uri": "https://localhost:8080/",
     "height": 416
    },
    "executionInfo": {
     "elapsed": 5612,
     "status": "ok",
     "timestamp": 1607092608851,
     "user": {
      "displayName": "shobhit tyagi",
      "photoUrl": "https://lh3.googleusercontent.com/a-/AOh14GjKOHlUNQc-zxHwTA8P24S57--FT0_Ouv4wv947Rw=s64",
      "userId": "06994340572129584821"
     },
     "user_tz": -330
    },
    "id": "NAyJO8eeyBBG",
    "outputId": "c9fc100d-d2d6-43dc-d09c-398c9d215ad9"
   },
   "outputs": [
    {
     "name": "stdout",
     "output_type": "stream",
     "text": [
      "\n"
     ]
    },
    {
     "data": {
      "image/png": "[encoded data removed]",
      "text/plain": [
       "<Figure size 648x360 with 1 Axes>"
      ]
     },
     "metadata": {
      "needs_background": "light"
     },
     "output_type": "display_data"
    }
   ],
   "source": [
    "# Write your answer here\n",
    "# Import libraries\n",
    "import matplotlib\n",
    "import matplotlib.pyplot as plt\n",
    "import seaborn as sns\n",
    "\n",
    "# Configuring styles\n",
    "sns.set_style(\"darkgrid\")\n",
    "matplotlib.rcParams['font.size'] = 14\n",
    "matplotlib.rcParams['figure.figsize'] = (9, 5)\n",
    "matplotlib.rcParams['figure.facecolor'] = '#00000000'\n",
    "\n",
    "# Create a scatter plot\n",
    "sns.scatterplot(dataframe.age, # X-axis\n",
    "                dataframe.bmi,  # Y-axis\n",
    "                hue=dataframe.charges,  # Dot color\n",
    "                s=100);\n",
    "\n",
    "# Chart title\n",
    "plt.title(\"Charges\");"
   ]
  },
  {
   "cell_type": "code",
   "execution_count": 16,
   "metadata": {
    "colab": {
     "base_uri": "https://localhost:8080/",
     "height": 416
    },
    "executionInfo": {
     "elapsed": 5599,
     "status": "ok",
     "timestamp": 1607092608853,
     "user": {
      "displayName": "shobhit tyagi",
      "photoUrl": "https://lh3.googleusercontent.com/a-/AOh14GjKOHlUNQc-zxHwTA8P24S57--FT0_Ouv4wv947Rw=s64",
      "userId": "06994340572129584821"
     },
     "user_tz": -330
    },
    "id": "_jy5-iAu1G4E",
    "outputId": "f4ead485-ae74-49b8-c4d1-7e19ed782cdf"
   },
   "outputs": [
    {
     "data": {
      "image/png": "[encoded data removed]",
      "text/plain": [
       "<Figure size 648x360 with 1 Axes>"
      ]
     },
     "metadata": {
      "needs_background": "light"
     },
     "output_type": "display_data"
    }
   ],
   "source": [
    "# Create a Histogram\n",
    "plt.title(\"Distribution of Charges in Histogram\")\n",
    "\n",
    "sns.distplot(dataframe.charges, kde=True);"
   ]
  },
  {
   "cell_type": "markdown",
   "metadata": {
    "id": "8VKvpDTzyBBG"
   },
   "source": [
    "Remember to commit your notebook to Jovian after every step, so that you don't lose your work."
   ]
  },
  {
   "cell_type": "code",
   "execution_count": 17,
   "metadata": {
    "executionInfo": {
     "elapsed": 7349,
     "status": "ok",
     "timestamp": 1607092610615,
     "user": {
      "displayName": "shobhit tyagi",
      "photoUrl": "https://lh3.googleusercontent.com/a-/AOh14GjKOHlUNQc-zxHwTA8P24S57--FT0_Ouv4wv947Rw=s64",
      "userId": "06994340572129584821"
     },
     "user_tz": -330
    },
    "id": "J9656oNcyBBG"
   },
   "outputs": [],
   "source": [
    "!pip install jovian --upgrade -q"
   ]
  },
  {
   "cell_type": "code",
   "execution_count": 18,
   "metadata": {
    "executionInfo": {
     "elapsed": 7344,
     "status": "ok",
     "timestamp": 1607092610616,
     "user": {
      "displayName": "shobhit tyagi",
      "photoUrl": "https://lh3.googleusercontent.com/a-/AOh14GjKOHlUNQc-zxHwTA8P24S57--FT0_Ouv4wv947Rw=s64",
      "userId": "06994340572129584821"
     },
     "user_tz": -330
    },
    "id": "QnJsCzajyBBG"
   },
   "outputs": [],
   "source": [
    "import jovian"
   ]
  },
  {
   "cell_type": "code",
   "execution_count": 19,
   "metadata": {
    "colab": {
     "base_uri": "https://localhost:8080/",
     "height": 103
    },
    "executionInfo": {
     "elapsed": 11318,
     "status": "ok",
     "timestamp": 1607092614603,
     "user": {
      "displayName": "shobhit tyagi",
      "photoUrl": "https://lh3.googleusercontent.com/a-/AOh14GjKOHlUNQc-zxHwTA8P24S57--FT0_Ouv4wv947Rw=s64",
      "userId": "06994340572129584821"
     },
     "user_tz": -330
    },
    "id": "5xLKvPbfyBBG",
    "outputId": "985396e6-7a74-4c8c-9812-0d5c1ac78bb4"
   },
   "outputs": [
    {
     "data": {
      "application/javascript": [
       "window.require && require([\"base/js/namespace\"],function(Jupyter){Jupyter.notebook.save_checkpoint()})"
      ],
      "text/plain": [
       "<IPython.core.display.Javascript object>"
      ]
     },
     "metadata": {},
     "output_type": "display_data"
    },
    {
     "name": "stdout",
     "output_type": "stream",
     "text": [
      "[jovian] Attempting to save notebook..\n",
      "[jovian] Please enter your API key ( from https://jovian.ai/ ):\n",
      "API KEY: ········\n",
      "[jovian] Updating notebook \"shobhit-tya/assignment-2-live\" on https://jovian.ai/\n",
      "[jovian] Uploading notebook..\n",
      "[jovian] Capturing environment..\n",
      "[jovian] Committed successfully! https://jovian.ai/shobhit-tya/assignment-2-live\n"
     ]
    },
    {
     "data": {
      "text/plain": [
       "'https://jovian.ai/shobhit-tya/assignment-2-live'"
      ]
     },
     "execution_count": 19,
     "metadata": {},
     "output_type": "execute_result"
    }
   ],
   "source": [
    "\n",
    "jovian.commit(project=\"assignment-2 live\")"
   ]
  },
  {
   "cell_type": "markdown",
   "metadata": {
    "id": "2yhfYSiZyBBH"
   },
   "source": [
    "## Step 2: Prepare the dataset for training\n",
    "\n",
    "We need to convert the data from the Pandas dataframe into a PyTorch tensors for training. To do this, the first step is to convert it numpy arrays. If you've filled out `input_cols`, `categorial_cols` and `output_cols` correctly, this following function will perform the conversion to numpy arrays."
   ]
  },
  {
   "cell_type": "code",
   "execution_count": 20,
   "metadata": {
    "executionInfo": {
     "elapsed": 11312,
     "status": "ok",
     "timestamp": 1607092614605,
     "user": {
      "displayName": "shobhit tyagi",
      "photoUrl": "https://lh3.googleusercontent.com/a-/AOh14GjKOHlUNQc-zxHwTA8P24S57--FT0_Ouv4wv947Rw=s64",
      "userId": "06994340572129584821"
     },
     "user_tz": -330
    },
    "id": "i5Efv9kuyBBH"
   },
   "outputs": [],
   "source": [
    "def dataframe_to_arrays(dataframe):\n",
    "    # Make a copy of the original dataframe\n",
    "    dataframe1 = dataframe.copy(deep=True)\n",
    "    # Convert non-numeric categorical columns to numbers\n",
    "    for col in categorical_cols:\n",
    "        dataframe1[col] = dataframe1[col].astype('category').cat.codes\n",
    "    # Extract input & outupts as numpy arrays\n",
    "    inputs_array = dataframe1[input_cols].to_numpy()\n",
    "    targets_array = dataframe1[output_cols].to_numpy()\n",
    "    return inputs_array, targets_array"
   ]
  },
  {
   "cell_type": "markdown",
   "metadata": {
    "id": "Q117cxukyBBH"
   },
   "source": [
    "Read through the [Pandas documentation](https://pandas.pydata.org/pandas-docs/stable/user_guide/categorical.html) to understand how we're converting categorical variables into numbers."
   ]
  },
  {
   "cell_type": "code",
   "execution_count": 21,
   "metadata": {
    "colab": {
     "base_uri": "https://localhost:8080/"
    },
    "executionInfo": {
     "elapsed": 11307,
     "status": "ok",
     "timestamp": 1607092614607,
     "user": {
      "displayName": "shobhit tyagi",
      "photoUrl": "https://lh3.googleusercontent.com/a-/AOh14GjKOHlUNQc-zxHwTA8P24S57--FT0_Ouv4wv947Rw=s64",
      "userId": "06994340572129584821"
     },
     "user_tz": -330
    },
    "id": "0utFOL_JyBBH",
    "outputId": "4a81a555-bd6b-4131-96e2-6d18e9402061"
   },
   "outputs": [
    {
     "data": {
      "text/plain": [
       "(array([[43.    ,  1.    , 39.5824,  2.    ,  1.    ,  2.    ],\n",
       "        [25.    ,  0.    , 24.4036,  0.    ,  0.    ,  0.    ],\n",
       "        [37.    ,  0.    , 36.192 ,  2.    ,  1.    ,  3.    ],\n",
       "        ...,\n",
       "        [47.    ,  1.    , 26.4264,  1.    ,  1.    ,  2.    ],\n",
       "        [35.    ,  1.    , 25.0952,  1.    ,  0.    ,  1.    ],\n",
       "        [43.    ,  0.    , 26.2808,  1.    ,  1.    ,  0.    ]]),\n",
       " array([[47242.077744 ],\n",
       "        [ 3559.2053985],\n",
       "        [44218.53609  ],\n",
       "        ...,\n",
       "        [24396.331359 ],\n",
       "        [ 5688.989427 ],\n",
       "        [24166.189953 ]]))"
      ]
     },
     "execution_count": 21,
     "metadata": {},
     "output_type": "execute_result"
    }
   ],
   "source": [
    "inputs_array, targets_array = dataframe_to_arrays(dataframe)\n",
    "inputs_array, targets_array"
   ]
  },
  {
   "cell_type": "markdown",
   "metadata": {
    "id": "htKaQc2EyBBH"
   },
   "source": [
    "**Q: Convert the numpy arrays `inputs_array` and `targets_array` into PyTorch tensors. Make sure that the data type is `torch.float32`.**"
   ]
  },
  {
   "cell_type": "code",
   "execution_count": 22,
   "metadata": {
    "executionInfo": {
     "elapsed": 11300,
     "status": "ok",
     "timestamp": 1607092614608,
     "user": {
      "displayName": "shobhit tyagi",
      "photoUrl": "https://lh3.googleusercontent.com/a-/AOh14GjKOHlUNQc-zxHwTA8P24S57--FT0_Ouv4wv947Rw=s64",
      "userId": "06994340572129584821"
     },
     "user_tz": -330
    },
    "id": "pKYoQVptyBBH"
   },
   "outputs": [],
   "source": [
    "inputs = torch.tensor(inputs_array).type(torch.float32)\n",
    "targets = torch.tensor(targets_array).type(torch.float32)"
   ]
  },
  {
   "cell_type": "code",
   "execution_count": 23,
   "metadata": {
    "colab": {
     "base_uri": "https://localhost:8080/"
    },
    "executionInfo": {
     "elapsed": 11298,
     "status": "ok",
     "timestamp": 1607092614611,
     "user": {
      "displayName": "shobhit tyagi",
      "photoUrl": "https://lh3.googleusercontent.com/a-/AOh14GjKOHlUNQc-zxHwTA8P24S57--FT0_Ouv4wv947Rw=s64",
      "userId": "06994340572129584821"
     },
     "user_tz": -330
    },
    "id": "x7WB-aeoyBBH",
    "outputId": "6600eeab-8919-4e01-9077-e012f97dadcd"
   },
   "outputs": [
    {
     "data": {
      "text/plain": [
       "(torch.float32, torch.float32)"
      ]
     },
     "execution_count": 23,
     "metadata": {},
     "output_type": "execute_result"
    }
   ],
   "source": [
    "inputs.dtype, targets.dtype"
   ]
  },
  {
   "cell_type": "markdown",
   "metadata": {
    "id": "SiwhZpULyBBH"
   },
   "source": [
    "Next, we need to create PyTorch datasets & data loaders for training & validation. We'll start by creating a `TensorDataset`."
   ]
  },
  {
   "cell_type": "code",
   "execution_count": 24,
   "metadata": {
    "executionInfo": {
     "elapsed": 11291,
     "status": "ok",
     "timestamp": 1607092614614,
     "user": {
      "displayName": "shobhit tyagi",
      "photoUrl": "https://lh3.googleusercontent.com/a-/AOh14GjKOHlUNQc-zxHwTA8P24S57--FT0_Ouv4wv947Rw=s64",
      "userId": "06994340572129584821"
     },
     "user_tz": -330
    },
    "id": "Hl3hue3dyBBH"
   },
   "outputs": [],
   "source": [
    "dataset = TensorDataset(inputs, targets)"
   ]
  },
  {
   "cell_type": "markdown",
   "metadata": {
    "id": "YgzpfQMiyBBH"
   },
   "source": [
    "**Q: Pick a number between `0.1` and `0.2` to determine the fraction of data that will be used for creating the validation set. Then use `random_split` to create training & validation datasets.**"
   ]
  },
  {
   "cell_type": "code",
   "execution_count": 29,
   "metadata": {
    "executionInfo": {
     "elapsed": 11287,
     "status": "ok",
     "timestamp": 1607092614615,
     "user": {
      "displayName": "shobhit tyagi",
      "photoUrl": "https://lh3.googleusercontent.com/a-/AOh14GjKOHlUNQc-zxHwTA8P24S57--FT0_Ouv4wv947Rw=s64",
      "userId": "06994340572129584821"
     },
     "user_tz": -330
    },
    "id": "tCZ67RnKyBBH"
   },
   "outputs": [],
   "source": [
    "val_percent = 0.1 # between 0.1 and 0.2\n",
    "val_size = int(num_rows * val_percent)\n",
    "train_size = num_rows - val_size\n",
    "\n",
    "\n",
    "train_ds, val_ds = random_split(dataset, (train_size,val_size)) # Use the random_split function to split dataset into 2 parts of the desired length"
   ]
  },
  {
   "cell_type": "markdown",
   "metadata": {
    "id": "GA8KXX9kyBBH"
   },
   "source": [
    "Finally, we can create data loaders for training & validation.\n",
    "\n",
    "**Q: Pick a batch size for the data loader.**"
   ]
  },
  {
   "cell_type": "code",
   "execution_count": 30,
   "metadata": {
    "executionInfo": {
     "elapsed": 11285,
     "status": "ok",
     "timestamp": 1607092614619,
     "user": {
      "displayName": "shobhit tyagi",
      "photoUrl": "https://lh3.googleusercontent.com/a-/AOh14GjKOHlUNQc-zxHwTA8P24S57--FT0_Ouv4wv947Rw=s64",
      "userId": "06994340572129584821"
     },
     "user_tz": -330
    },
    "id": "7XG7ioZEyBBH"
   },
   "outputs": [],
   "source": [
    "batch_size = 32"
   ]
  },
  {
   "cell_type": "code",
   "execution_count": 31,
   "metadata": {
    "executionInfo": {
     "elapsed": 11280,
     "status": "ok",
     "timestamp": 1607092614621,
     "user": {
      "displayName": "shobhit tyagi",
      "photoUrl": "https://lh3.googleusercontent.com/a-/AOh14GjKOHlUNQc-zxHwTA8P24S57--FT0_Ouv4wv947Rw=s64",
      "userId": "06994340572129584821"
     },
     "user_tz": -330
    },
    "id": "qNrHGi9OyBBH"
   },
   "outputs": [],
   "source": [
    "train_loader = DataLoader(train_ds, batch_size, shuffle=True)\n",
    "val_loader = DataLoader(val_ds, batch_size)"
   ]
  },
  {
   "cell_type": "markdown",
   "metadata": {
    "id": "cUCFPaATyBBH"
   },
   "source": [
    "Let's look at a batch of data to verify everything is working fine so far."
   ]
  },
  {
   "cell_type": "code",
   "execution_count": 32,
   "metadata": {
    "colab": {
     "base_uri": "https://localhost:8080/"
    },
    "executionInfo": {
     "elapsed": 11276,
     "status": "ok",
     "timestamp": 1607092614623,
     "user": {
      "displayName": "shobhit tyagi",
      "photoUrl": "https://lh3.googleusercontent.com/a-/AOh14GjKOHlUNQc-zxHwTA8P24S57--FT0_Ouv4wv947Rw=s64",
      "userId": "06994340572129584821"
     },
     "user_tz": -330
    },
    "id": "FyRkItxEyBBH",
    "outputId": "73f0a0bf-bb14-44d1-bbff-90877e2d338d"
   },
   "outputs": [
    {
     "name": "stdout",
     "output_type": "stream",
     "text": [
      "inputs: tensor([[46.0000,  0.0000, 33.5920,  2.0000,  0.0000,  0.0000],\n",
      "        [64.0000,  0.0000, 31.3196,  3.0000,  0.0000,  1.0000],\n",
      "        [29.0000,  0.0000, 26.9360,  0.0000,  0.0000,  3.0000],\n",
      "        [39.0000,  1.0000, 36.7120,  2.0000,  1.0000,  3.0000],\n",
      "        [22.0000,  0.0000, 37.4400,  0.0000,  0.0000,  3.0000],\n",
      "        [54.0000,  1.0000, 21.8504,  2.0000,  0.0000,  2.0000],\n",
      "        [35.0000,  0.0000, 29.1460,  0.0000,  1.0000,  1.0000],\n",
      "        [41.0000,  1.0000, 35.5680,  2.0000,  0.0000,  1.0000],\n",
      "        [57.0000,  1.0000, 41.9848,  0.0000,  0.0000,  2.0000],\n",
      "        [47.0000,  1.0000, 30.9920,  3.0000,  1.0000,  3.0000],\n",
      "        [32.0000,  0.0000, 45.9888,  0.0000,  0.0000,  2.0000],\n",
      "        [50.0000,  1.0000, 26.3796,  2.0000,  0.0000,  1.0000],\n",
      "        [48.0000,  1.0000, 38.7816,  2.0000,  0.0000,  2.0000],\n",
      "        [19.0000,  0.0000, 36.5560,  0.0000,  0.0000,  1.0000],\n",
      "        [35.0000,  0.0000, 27.1700,  0.0000,  0.0000,  0.0000],\n",
      "        [20.0000,  0.0000, 34.6320,  0.0000,  0.0000,  3.0000],\n",
      "        [42.0000,  1.0000, 27.3676,  1.0000,  0.0000,  1.0000],\n",
      "        [24.0000,  1.0000, 34.0080,  0.0000,  1.0000,  3.0000],\n",
      "        [21.0000,  1.0000, 36.9512,  0.0000,  0.0000,  2.0000],\n",
      "        [25.0000,  0.0000, 29.7388,  0.0000,  0.0000,  0.0000],\n",
      "        [53.0000,  1.0000, 32.4064,  1.0000,  0.0000,  1.0000],\n",
      "        [19.0000,  0.0000, 26.7748,  1.0000,  0.0000,  1.0000],\n",
      "        [20.0000,  0.0000, 33.0616,  2.0000,  0.0000,  2.0000],\n",
      "        [45.0000,  0.0000, 28.9432,  2.0000,  0.0000,  2.0000],\n",
      "        [55.0000,  0.0000, 31.3456,  2.0000,  0.0000,  2.0000],\n",
      "        [46.0000,  1.0000, 34.7776,  1.0000,  0.0000,  0.0000],\n",
      "        [19.0000,  0.0000, 31.7148,  0.0000,  0.0000,  1.0000],\n",
      "        [28.0000,  1.0000, 28.0592,  2.0000,  0.0000,  0.0000],\n",
      "        [47.0000,  0.0000, 30.5448,  1.0000,  0.0000,  2.0000],\n",
      "        [56.0000,  0.0000, 33.5920,  3.0000,  0.0000,  0.0000],\n",
      "        [19.0000,  0.0000, 33.0980,  1.0000,  0.0000,  1.0000],\n",
      "        [32.0000,  0.0000, 30.9244,  0.0000,  0.0000,  1.0000]])\n",
      "targets: tensor([[10446.2158],\n",
      "        [18265.8359],\n",
      "        [ 3722.1453],\n",
      "        [44515.3164],\n",
      "        [ 2405.0725],\n",
      "        [12225.2197],\n",
      "        [22460.6895],\n",
      "        [ 8060.5327],\n",
      "        [12190.5762],\n",
      "        [28093.5332],\n",
      "        [ 4433.5376],\n",
      "        [33615.9531],\n",
      "        [ 9965.7852],\n",
      "        [ 2369.7407],\n",
      "        [ 5803.0674],\n",
      "        [ 2087.3406],\n",
      "        [ 7704.4102],\n",
      "        [38264.8516],\n",
      "        [ 1701.0414],\n",
      "        [ 3567.1204],\n",
      "        [11612.7969],\n",
      "        [ 3009.0198],\n",
      "        [ 3392.5908],\n",
      "        [ 9452.4922],\n",
      "        [13188.9863],\n",
      "        [ 9251.3945],\n",
      "        [ 2362.5583],\n",
      "        [ 4922.9546],\n",
      "        [ 9487.9375],\n",
      "        [14907.5938],\n",
      "        [ 3018.4006],\n",
      "        [ 4836.3184]])\n"
     ]
    }
   ],
   "source": [
    "for xb, yb in train_loader:\n",
    "    print(\"inputs:\", xb)\n",
    "    print(\"targets:\", yb)\n",
    "    break"
   ]
  },
  {
   "cell_type": "markdown",
   "metadata": {
    "id": "d9hy28bCyBBH"
   },
   "source": [
    "Let's save our work by committing to Jovian."
   ]
  },
  {
   "cell_type": "code",
   "execution_count": 33,
   "metadata": {
    "colab": {
     "base_uri": "https://localhost:8080/",
     "height": 86
    },
    "executionInfo": {
     "elapsed": 3056,
     "status": "ok",
     "timestamp": 1607092637271,
     "user": {
      "displayName": "shobhit tyagi",
      "photoUrl": "https://lh3.googleusercontent.com/a-/AOh14GjKOHlUNQc-zxHwTA8P24S57--FT0_Ouv4wv947Rw=s64",
      "userId": "06994340572129584821"
     },
     "user_tz": -330
    },
    "id": "OpunoUtOyBBH",
    "outputId": "36dadfa9-ae09-4577-c188-66f63e69a28f"
   },
   "outputs": [
    {
     "data": {
      "application/javascript": [
       "window.require && require([\"base/js/namespace\"],function(Jupyter){Jupyter.notebook.save_checkpoint()})"
      ],
      "text/plain": [
       "<IPython.core.display.Javascript object>"
      ]
     },
     "metadata": {},
     "output_type": "display_data"
    },
    {
     "name": "stdout",
     "output_type": "stream",
     "text": [
      "[jovian] Attempting to save notebook..\n",
      "[jovian] Updating notebook \"shobhit-tya/assignment-2-live\" on https://jovian.ai/\n",
      "[jovian] Uploading notebook..\n",
      "[jovian] Committed successfully! https://jovian.ai/shobhit-tya/assignment-2-live\n"
     ]
    },
    {
     "data": {
      "text/plain": [
       "'https://jovian.ai/shobhit-tya/assignment-2-live'"
      ]
     },
     "execution_count": 33,
     "metadata": {},
     "output_type": "execute_result"
    }
   ],
   "source": [
    "jovian.commit(project=\"assignment-2 live\", environment=None)"
   ]
  },
  {
   "cell_type": "markdown",
   "metadata": {
    "id": "7u6Nh-rzyBBH"
   },
   "source": [
    "## Step 3: Create a Linear Regression Model\n",
    "\n",
    "Our model itself is a fairly straightforward linear regression (we'll build more complex models in the next assignment). \n"
   ]
  },
  {
   "cell_type": "code",
   "execution_count": 34,
   "metadata": {
    "executionInfo": {
     "elapsed": 2009,
     "status": "ok",
     "timestamp": 1607092640161,
     "user": {
      "displayName": "shobhit tyagi",
      "photoUrl": "https://lh3.googleusercontent.com/a-/AOh14GjKOHlUNQc-zxHwTA8P24S57--FT0_Ouv4wv947Rw=s64",
      "userId": "06994340572129584821"
     },
     "user_tz": -330
    },
    "id": "kOzZpZNoyBBH"
   },
   "outputs": [],
   "source": [
    "input_size = len(input_cols)\n",
    "output_size = len(output_cols)"
   ]
  },
  {
   "cell_type": "markdown",
   "metadata": {
    "id": "wOZ_djfIyBBH"
   },
   "source": [
    "**Q: Complete the class definition below by filling out the constructor (`__init__`), `forward`, `training_step` and `validation_step` methods.**\n",
    "\n",
    "Hint: Think carefully about picking a good loss fuction (it's not cross entropy). Maybe try 2-3 of them and see which one works best. See https://pytorch.org/docs/stable/nn.functional.html#loss-functions"
   ]
  },
  {
   "cell_type": "code",
   "execution_count": 53,
   "metadata": {
    "executionInfo": {
     "elapsed": 3733,
     "status": "ok",
     "timestamp": 1607092724302,
     "user": {
      "displayName": "shobhit tyagi",
      "photoUrl": "https://lh3.googleusercontent.com/a-/AOh14GjKOHlUNQc-zxHwTA8P24S57--FT0_Ouv4wv947Rw=s64",
      "userId": "06994340572129584821"
     },
     "user_tz": -330
    },
    "id": "E3eqnAeFyBBH"
   },
   "outputs": [],
   "source": [
    "class InsuranceModel(nn.Module):\n",
    "    def __init__(self):\n",
    "        super().__init__()\n",
    "        self.linear = nn.Linear(input_size, output_size)                # fill this (hint: use input_size & output_size defined above)\n",
    "        \n",
    "    def forward(self, xb):\n",
    "        out = self.linear(xb)                        # fill this\n",
    "        return out\n",
    "    \n",
    "    def training_step(self, batch):\n",
    "        inputs, targets = batch \n",
    "        # Generate predictions\n",
    "        out = self(inputs)          \n",
    "        # Calcuate loss\n",
    "        loss = nn.functional.l1_loss(out, targets)                          # fill this\n",
    "        return loss\n",
    "    \n",
    "    def validation_step(self, batch):\n",
    "        inputs, targets = batch\n",
    "        # Generate predictions\n",
    "        out = self(inputs)\n",
    "        # Calculate loss\n",
    "        loss = nn.functional.l1_loss(out, targets)                           # fill this    \n",
    "        return {'val_loss': loss.detach()}\n",
    "        \n",
    "    def validation_epoch_end(self, outputs):\n",
    "        batch_losses = [x['val_loss'] for x in outputs]\n",
    "        epoch_loss = torch.stack(batch_losses).mean()   # Combine losses\n",
    "        return {'val_loss': epoch_loss.item()}\n",
    "    \n",
    "    def epoch_end(self, epoch, result, num_epochs):\n",
    "        # Print result every 20th epoch\n",
    "        if (epoch+1) % 20 == 0 or epoch == num_epochs-1:\n",
    "            print(\"Epoch [{}], val_loss: {:.4f}\".format(epoch+1, result['val_loss']))"
   ]
  },
  {
   "cell_type": "markdown",
   "metadata": {
    "id": "jgw1Tqv4yBBH"
   },
   "source": [
    "Let us create a model using the `InsuranceModel` class. You may need to come back later and re-run the next cell to reinitialize the model, in case the loss becomes `nan` or `infinity`."
   ]
  },
  {
   "cell_type": "code",
   "execution_count": 54,
   "metadata": {
    "colab": {
     "base_uri": "https://localhost:8080/"
    },
    "executionInfo": {
     "elapsed": 2511,
     "status": "ok",
     "timestamp": 1607092724304,
     "user": {
      "displayName": "shobhit tyagi",
      "photoUrl": "https://lh3.googleusercontent.com/a-/AOh14GjKOHlUNQc-zxHwTA8P24S57--FT0_Ouv4wv947Rw=s64",
      "userId": "06994340572129584821"
     },
     "user_tz": -330
    },
    "id": "pWRM5W_1yBBI",
    "outputId": "aa1bb05e-aee5-4d67-ca19-f9082d2d5c5a"
   },
   "outputs": [
    {
     "data": {
      "text/plain": [
       "InsuranceModel(\n",
       "  (linear): Linear(in_features=6, out_features=1, bias=True)\n",
       ")"
      ]
     },
     "execution_count": 54,
     "metadata": {},
     "output_type": "execute_result"
    }
   ],
   "source": [
    "model = InsuranceModel()\n",
    "model"
   ]
  },
  {
   "cell_type": "markdown",
   "metadata": {
    "id": "3XoMtJg0yBBI"
   },
   "source": [
    "Let's check out the weights and biases of the model using `model.parameters`."
   ]
  },
  {
   "cell_type": "code",
   "execution_count": 55,
   "metadata": {
    "colab": {
     "base_uri": "https://localhost:8080/"
    },
    "executionInfo": {
     "elapsed": 3908,
     "status": "ok",
     "timestamp": 1607092728813,
     "user": {
      "displayName": "shobhit tyagi",
      "photoUrl": "https://lh3.googleusercontent.com/a-/AOh14GjKOHlUNQc-zxHwTA8P24S57--FT0_Ouv4wv947Rw=s64",
      "userId": "06994340572129584821"
     },
     "user_tz": -330
    },
    "id": "-d8CDCl4yBBI",
    "outputId": "fd5c425a-5c99-48cb-faa3-13d410a4521b"
   },
   "outputs": [
    {
     "data": {
      "text/plain": [
       "[Parameter containing:\n",
       " tensor([[ 0.1311,  0.0381, -0.2571, -0.3627,  0.3334,  0.0270]],\n",
       "        requires_grad=True), Parameter containing:\n",
       " tensor([0.1930], requires_grad=True)]"
      ]
     },
     "execution_count": 55,
     "metadata": {},
     "output_type": "execute_result"
    }
   ],
   "source": [
    "list(model.parameters())"
   ]
  },
  {
   "cell_type": "markdown",
   "metadata": {
    "id": "T9wh6_-AyBBI"
   },
   "source": [
    "One final commit before we train the model."
   ]
  },
  {
   "cell_type": "code",
   "execution_count": 56,
   "metadata": {
    "colab": {
     "base_uri": "https://localhost:8080/",
     "height": 86
    },
    "executionInfo": {
     "elapsed": 4031,
     "status": "ok",
     "timestamp": 1607092731090,
     "user": {
      "displayName": "shobhit tyagi",
      "photoUrl": "https://lh3.googleusercontent.com/a-/AOh14GjKOHlUNQc-zxHwTA8P24S57--FT0_Ouv4wv947Rw=s64",
      "userId": "06994340572129584821"
     },
     "user_tz": -330
    },
    "id": "1XiHsmWIyBBI",
    "outputId": "31c95368-dd98-49ab-c889-67d57caadfe1"
   },
   "outputs": [
    {
     "data": {
      "application/javascript": [
       "window.require && require([\"base/js/namespace\"],function(Jupyter){Jupyter.notebook.save_checkpoint()})"
      ],
      "text/plain": [
       "<IPython.core.display.Javascript object>"
      ]
     },
     "metadata": {},
     "output_type": "display_data"
    },
    {
     "name": "stdout",
     "output_type": "stream",
     "text": [
      "[jovian] Attempting to save notebook..\n",
      "[jovian] Updating notebook \"shobhit-tya/assignment-2-live\" on https://jovian.ai/\n",
      "[jovian] Uploading notebook..\n",
      "[jovian] Committed successfully! https://jovian.ai/shobhit-tya/assignment-2-live\n"
     ]
    },
    {
     "data": {
      "text/plain": [
       "'https://jovian.ai/shobhit-tya/assignment-2-live'"
      ]
     },
     "execution_count": 56,
     "metadata": {},
     "output_type": "execute_result"
    }
   ],
   "source": [
    "jovian.commit(project=\"assignment-2 live\", environment=None)"
   ]
  },
  {
   "cell_type": "markdown",
   "metadata": {
    "id": "wx9PENU0yBBI"
   },
   "source": [
    "## Step 4: Train the model to fit the data\n",
    "\n",
    "To train our model, we'll use the same `fit` function explained in the lecture. That's the benefit of defining a generic training loop - you can use it for any problem."
   ]
  },
  {
   "cell_type": "code",
   "execution_count": 57,
   "metadata": {
    "executionInfo": {
     "elapsed": 3215,
     "status": "ok",
     "timestamp": 1607092731092,
     "user": {
      "displayName": "shobhit tyagi",
      "photoUrl": "https://lh3.googleusercontent.com/a-/AOh14GjKOHlUNQc-zxHwTA8P24S57--FT0_Ouv4wv947Rw=s64",
      "userId": "06994340572129584821"
     },
     "user_tz": -330
    },
    "id": "YGBpBhFDyBBI"
   },
   "outputs": [],
   "source": [
    "def evaluate(model, val_loader):\n",
    "    outputs = [model.validation_step(batch) for batch in val_loader]\n",
    "    return model.validation_epoch_end(outputs)\n",
    "\n",
    "def fit(epochs, lr, model, train_loader, val_loader, opt_func=torch.optim.SGD):\n",
    "    history = []\n",
    "    optimizer = opt_func(model.parameters(), lr)\n",
    "    for epoch in range(epochs):\n",
    "        # Training Phase \n",
    "        for batch in train_loader:\n",
    "            loss = model.training_step(batch)\n",
    "            loss.backward()\n",
    "            optimizer.step()\n",
    "            optimizer.zero_grad()\n",
    "        # Validation phase\n",
    "        result = evaluate(model, val_loader)\n",
    "        model.epoch_end(epoch, result, epochs)\n",
    "        history.append(result)\n",
    "    return history"
   ]
  },
  {
   "cell_type": "markdown",
   "metadata": {
    "id": "zfmbI4q8yBBI"
   },
   "source": [
    "**Q: Use the `evaluate` function to calculate the loss on the validation set before training.**"
   ]
  },
  {
   "cell_type": "code",
   "execution_count": 58,
   "metadata": {
    "colab": {
     "base_uri": "https://localhost:8080/",
     "height": 324
    },
    "executionInfo": {
     "elapsed": 1935,
     "status": "error",
     "timestamp": 1607092731093,
     "user": {
      "displayName": "shobhit tyagi",
      "photoUrl": "https://lh3.googleusercontent.com/a-/AOh14GjKOHlUNQc-zxHwTA8P24S57--FT0_Ouv4wv947Rw=s64",
      "userId": "06994340572129584821"
     },
     "user_tz": -330
    },
    "id": "z3w6oL2uyBBI",
    "outputId": "0355a422-13ae-4506-dd49-7a45b95bf0a0"
   },
   "outputs": [
    {
     "name": "stdout",
     "output_type": "stream",
     "text": [
      "{'val_loss': 16443.01953125}\n"
     ]
    }
   ],
   "source": [
    "result = evaluate(model, val_loader) # Use the the evaluate function\n",
    "print(result)"
   ]
  },
  {
   "cell_type": "markdown",
   "metadata": {
    "id": "L7vcw-aUyBBI"
   },
   "source": [
    "\n",
    "We are now ready to train the model. You may need to run the training loop many times, for different number of epochs and with different learning rates, to get a good result. Also, if your loss becomes too large (or `nan`), you may have to re-initialize the model by running the cell `model = InsuranceModel()`. Experiment with this for a while, and try to get to as low a loss as possible."
   ]
  },
  {
   "cell_type": "markdown",
   "metadata": {
    "id": "yZgGu_XUyBBI"
   },
   "source": [
    "**Q: Train the model 4-5 times with different learning rates & for different number of epochs.**\n",
    "\n",
    "Hint: Vary learning rates by orders of 10 (e.g. `1e-2`, `1e-3`, `1e-4`, `1e-5`, `1e-6`) to figure out what works."
   ]
  },
  {
   "cell_type": "code",
   "execution_count": 59,
   "metadata": {
    "executionInfo": {
     "elapsed": 11214,
     "status": "aborted",
     "timestamp": 1607092614641,
     "user": {
      "displayName": "shobhit tyagi",
      "photoUrl": "https://lh3.googleusercontent.com/a-/AOh14GjKOHlUNQc-zxHwTA8P24S57--FT0_Ouv4wv947Rw=s64",
      "userId": "06994340572129584821"
     },
     "user_tz": -330
    },
    "id": "4OAfaytFyBBI"
   },
   "outputs": [
    {
     "name": "stdout",
     "output_type": "stream",
     "text": [
      "Epoch [20], val_loss: 16424.3086\n",
      "Epoch [40], val_loss: 16405.5977\n",
      "Epoch [60], val_loss: 16386.8848\n",
      "Epoch [80], val_loss: 16368.1719\n",
      "Epoch [100], val_loss: 16349.4639\n"
     ]
    }
   ],
   "source": [
    "epochs = 100\n",
    "lr = 1e-5\n",
    "history1 = fit(epochs, lr, model, train_loader, val_loader)"
   ]
  },
  {
   "cell_type": "code",
   "execution_count": 61,
   "metadata": {
    "executionInfo": {
     "elapsed": 11212,
     "status": "aborted",
     "timestamp": 1607092614643,
     "user": {
      "displayName": "shobhit tyagi",
      "photoUrl": "https://lh3.googleusercontent.com/a-/AOh14GjKOHlUNQc-zxHwTA8P24S57--FT0_Ouv4wv947Rw=s64",
      "userId": "06994340572129584821"
     },
     "user_tz": -330
    },
    "id": "_UztALoLyBBI"
   },
   "outputs": [
    {
     "name": "stdout",
     "output_type": "stream",
     "text": [
      "Epoch [20], val_loss: 15694.6006\n",
      "Epoch [40], val_loss: 15507.4961\n",
      "Epoch [60], val_loss: 15320.3906\n",
      "Epoch [80], val_loss: 15133.2900\n",
      "Epoch [100], val_loss: 14946.4014\n",
      "Epoch [120], val_loss: 14760.7666\n",
      "Epoch [140], val_loss: 14577.0811\n",
      "Epoch [160], val_loss: 14394.5098\n",
      "Epoch [180], val_loss: 14213.8984\n",
      "Epoch [200], val_loss: 14038.4297\n",
      "Epoch [220], val_loss: 13867.7188\n",
      "Epoch [240], val_loss: 13700.1387\n",
      "Epoch [260], val_loss: 13535.2432\n",
      "Epoch [280], val_loss: 13373.7090\n",
      "Epoch [300], val_loss: 13216.8281\n",
      "Epoch [320], val_loss: 13064.8965\n",
      "Epoch [340], val_loss: 12916.5488\n",
      "Epoch [360], val_loss: 12770.8857\n",
      "Epoch [380], val_loss: 12629.8545\n",
      "Epoch [400], val_loss: 12495.4902\n",
      "Epoch [420], val_loss: 12367.3271\n",
      "Epoch [440], val_loss: 12244.2383\n",
      "Epoch [460], val_loss: 12122.1895\n",
      "Epoch [480], val_loss: 12001.4121\n",
      "Epoch [500], val_loss: 11882.4932\n"
     ]
    }
   ],
   "source": [
    "epochs = 500\n",
    "lr = 1e-4\n",
    "history2 = fit(epochs, lr, model, train_loader, val_loader)"
   ]
  },
  {
   "cell_type": "code",
   "execution_count": 62,
   "metadata": {
    "executionInfo": {
     "elapsed": 11212,
     "status": "aborted",
     "timestamp": 1607092614646,
     "user": {
      "displayName": "shobhit tyagi",
      "photoUrl": "https://lh3.googleusercontent.com/a-/AOh14GjKOHlUNQc-zxHwTA8P24S57--FT0_Ouv4wv947Rw=s64",
      "userId": "06994340572129584821"
     },
     "user_tz": -330
    },
    "id": "nlK4oim2yBBI"
   },
   "outputs": [
    {
     "name": "stdout",
     "output_type": "stream",
     "text": [
      "Epoch [20], val_loss: 10919.3242\n",
      "Epoch [40], val_loss: 10295.8633\n",
      "Epoch [60], val_loss: 9870.9033\n",
      "Epoch [80], val_loss: 9626.4121\n",
      "Epoch [100], val_loss: 9498.1455\n"
     ]
    }
   ],
   "source": [
    "epochs = 100\n",
    "lr = 1e-3\n",
    "history3 = fit(epochs, lr, model, train_loader, val_loader)"
   ]
  },
  {
   "cell_type": "code",
   "execution_count": 64,
   "metadata": {
    "executionInfo": {
     "elapsed": 11211,
     "status": "aborted",
     "timestamp": 1607092614648,
     "user": {
      "displayName": "shobhit tyagi",
      "photoUrl": "https://lh3.googleusercontent.com/a-/AOh14GjKOHlUNQc-zxHwTA8P24S57--FT0_Ouv4wv947Rw=s64",
      "userId": "06994340572129584821"
     },
     "user_tz": -330
    },
    "id": "W3yfVLYGyBBI"
   },
   "outputs": [
    {
     "name": "stdout",
     "output_type": "stream",
     "text": [
      "Epoch [20], val_loss: 8832.1172\n",
      "Epoch [40], val_loss: 8824.6699\n",
      "Epoch [60], val_loss: 8807.0527\n",
      "Epoch [80], val_loss: 8807.8398\n",
      "Epoch [100], val_loss: 8801.4492\n"
     ]
    }
   ],
   "source": [
    "epochs = 100\n",
    "lr = 1e-1\n",
    "history4 = fit(epochs, lr, model, train_loader, val_loader)"
   ]
  },
  {
   "cell_type": "code",
   "execution_count": 70,
   "metadata": {
    "executionInfo": {
     "elapsed": 11216,
     "status": "aborted",
     "timestamp": 1607092614656,
     "user": {
      "displayName": "shobhit tyagi",
      "photoUrl": "https://lh3.googleusercontent.com/a-/AOh14GjKOHlUNQc-zxHwTA8P24S57--FT0_Ouv4wv947Rw=s64",
      "userId": "06994340572129584821"
     },
     "user_tz": -330
    },
    "id": "x6QB1cv3yBBI"
   },
   "outputs": [
    {
     "name": "stdout",
     "output_type": "stream",
     "text": [
      "Epoch [20], val_loss: 8217.9258\n",
      "Epoch [40], val_loss: 8221.6641\n",
      "Epoch [60], val_loss: 8314.3594\n",
      "Epoch [80], val_loss: 8256.0557\n",
      "Epoch [100], val_loss: 8210.5986\n",
      "Epoch [120], val_loss: 8133.8027\n",
      "Epoch [140], val_loss: 8210.9375\n",
      "Epoch [160], val_loss: 8137.8184\n",
      "Epoch [180], val_loss: 8081.8477\n",
      "Epoch [200], val_loss: 8090.7056\n",
      "Epoch [220], val_loss: 8047.5537\n",
      "Epoch [240], val_loss: 8067.7500\n",
      "Epoch [260], val_loss: 8021.5229\n",
      "Epoch [280], val_loss: 8038.9521\n",
      "Epoch [300], val_loss: 7967.1133\n",
      "Epoch [320], val_loss: 7949.8408\n",
      "Epoch [340], val_loss: 7936.8540\n",
      "Epoch [360], val_loss: 7990.1309\n",
      "Epoch [380], val_loss: 8072.9658\n",
      "Epoch [400], val_loss: 7880.6641\n",
      "Epoch [420], val_loss: 7861.2920\n",
      "Epoch [440], val_loss: 7891.9521\n",
      "Epoch [460], val_loss: 7840.4062\n",
      "Epoch [480], val_loss: 7807.9385\n",
      "Epoch [500], val_loss: 7920.6392\n"
     ]
    }
   ],
   "source": [
    "epochs = 500\n",
    "lr = 1e-1*5\n",
    "history5 = fit(epochs, lr, model, train_loader, val_loader)"
   ]
  },
  {
   "cell_type": "markdown",
   "metadata": {
    "id": "nGpLnRm9yBBI"
   },
   "source": [
    "**Q: What is the final validation loss of your model?**"
   ]
  },
  {
   "cell_type": "code",
   "execution_count": 71,
   "metadata": {},
   "outputs": [
    {
     "data": {
      "text/plain": [
       "Text(0.5, 1.0, 'Val_loss vs. epochs')"
      ]
     },
     "execution_count": 71,
     "metadata": {},
     "output_type": "execute_result"
    },
    {
     "data": {
      "image/png": "[encoded data removed]",
      "text/plain": [
       "<Figure size 648x360 with 1 Axes>"
      ]
     },
     "metadata": {
      "needs_background": "light"
     },
     "output_type": "display_data"
    }
   ],
   "source": [
    "loss = []\n",
    "for value in history2:\n",
    "    loss.append(value['val_loss'])\n",
    "plt.plot(loss)\n",
    "plt.xlabel('epochs')\n",
    "plt.ylabel('val_loss')\n",
    "plt.title('Val_loss vs. epochs')"
   ]
  },
  {
   "cell_type": "code",
   "execution_count": 74,
   "metadata": {
    "executionInfo": {
     "elapsed": 11213,
     "status": "aborted",
     "timestamp": 1607092614657,
     "user": {
      "displayName": "shobhit tyagi",
      "photoUrl": "https://lh3.googleusercontent.com/a-/AOh14GjKOHlUNQc-zxHwTA8P24S57--FT0_Ouv4wv947Rw=s64",
      "userId": "06994340572129584821"
     },
     "user_tz": -330
    },
    "id": "zxTSpvoLyBBI"
   },
   "outputs": [
    {
     "data": {
      "text/plain": [
       "{'val_loss': 7920.63916015625}"
      ]
     },
     "execution_count": 74,
     "metadata": {},
     "output_type": "execute_result"
    }
   ],
   "source": [
    "val_loss = evaluate(model, val_loader)\n",
    "val_loss"
   ]
  },
  {
   "cell_type": "markdown",
   "metadata": {
    "id": "-52KWdZByBBI"
   },
   "source": [
    "Let's log the final validation loss to Jovian and commit the notebook"
   ]
  },
  {
   "cell_type": "code",
   "execution_count": 75,
   "metadata": {
    "executionInfo": {
     "elapsed": 11212,
     "status": "aborted",
     "timestamp": 1607092614659,
     "user": {
      "displayName": "shobhit tyagi",
      "photoUrl": "https://lh3.googleusercontent.com/a-/AOh14GjKOHlUNQc-zxHwTA8P24S57--FT0_Ouv4wv947Rw=s64",
      "userId": "06994340572129584821"
     },
     "user_tz": -330
    },
    "id": "nCAg2W2myBBI"
   },
   "outputs": [
    {
     "name": "stdout",
     "output_type": "stream",
     "text": [
      "[jovian] Metrics logged.\r\n"
     ]
    }
   ],
   "source": [
    "jovian.log_metrics(val_loss=val_loss)"
   ]
  },
  {
   "cell_type": "code",
   "execution_count": null,
   "metadata": {
    "executionInfo": {
     "elapsed": 11210,
     "status": "aborted",
     "timestamp": 1607092614660,
     "user": {
      "displayName": "shobhit tyagi",
      "photoUrl": "https://lh3.googleusercontent.com/a-/AOh14GjKOHlUNQc-zxHwTA8P24S57--FT0_Ouv4wv947Rw=s64",
      "userId": "06994340572129584821"
     },
     "user_tz": -330
    },
    "id": "tefgjZMqyBBI"
   },
   "outputs": [],
   "source": [
    "jovian.commit(project=\"assignment-2 live\", environment=None)"
   ]
  },
  {
   "cell_type": "markdown",
   "metadata": {
    "id": "eAN51zEayBBI"
   },
   "source": [
    "Now scroll back up, re-initialize the model, and try different set of values for batch size, number of epochs, learning rate etc. Commit each experiment and use the \"Compare\" and \"View Diff\" options on Jovian to compare the different results."
   ]
  },
  {
   "cell_type": "markdown",
   "metadata": {
    "id": "cwgvpeK4yBBI"
   },
   "source": [
    "## Step 5: Make predictions using the trained model\n",
    "\n",
    "**Q: Complete the following function definition to make predictions on a single input**"
   ]
  },
  {
   "cell_type": "code",
   "execution_count": 78,
   "metadata": {
    "executionInfo": {
     "elapsed": 11209,
     "status": "aborted",
     "timestamp": 1607092614661,
     "user": {
      "displayName": "shobhit tyagi",
      "photoUrl": "https://lh3.googleusercontent.com/a-/AOh14GjKOHlUNQc-zxHwTA8P24S57--FT0_Ouv4wv947Rw=s64",
      "userId": "06994340572129584821"
     },
     "user_tz": -330
    },
    "id": "pGxw9a2xyBBI"
   },
   "outputs": [],
   "source": [
    "def predict_single(input, target, model):\n",
    "    inputs = input.unsqueeze(0)\n",
    "    predictions = model(inputs)                # fill this\n",
    "    prediction = predictions[0].detach()\n",
    "    print(\"Input:\", input)\n",
    "    print(\"Target:\", target)\n",
    "    print(\"Prediction:\", prediction)"
   ]
  },
  {
   "cell_type": "code",
   "execution_count": 79,
   "metadata": {
    "executionInfo": {
     "elapsed": 11207,
     "status": "aborted",
     "timestamp": 1607092614662,
     "user": {
      "displayName": "shobhit tyagi",
      "photoUrl": "https://lh3.googleusercontent.com/a-/AOh14GjKOHlUNQc-zxHwTA8P24S57--FT0_Ouv4wv947Rw=s64",
      "userId": "06994340572129584821"
     },
     "user_tz": -330
    },
    "id": "UhbObkvZyBBI"
   },
   "outputs": [
    {
     "name": "stdout",
     "output_type": "stream",
     "text": [
      "Input: tensor([50.0000,  1.0000, 33.4932,  0.0000,  0.0000,  1.0000])\n",
      "Target: tensor([9807.1445])\n",
      "Prediction: tensor([9938.8633])\n"
     ]
    }
   ],
   "source": [
    "input, target = val_ds[0]\n",
    "predict_single(input, target, model)"
   ]
  },
  {
   "cell_type": "code",
   "execution_count": 80,
   "metadata": {
    "executionInfo": {
     "elapsed": 11205,
     "status": "aborted",
     "timestamp": 1607092614663,
     "user": {
      "displayName": "shobhit tyagi",
      "photoUrl": "https://lh3.googleusercontent.com/a-/AOh14GjKOHlUNQc-zxHwTA8P24S57--FT0_Ouv4wv947Rw=s64",
      "userId": "06994340572129584821"
     },
     "user_tz": -330
    },
    "id": "onQvzzXTyBBI"
   },
   "outputs": [
    {
     "name": "stdout",
     "output_type": "stream",
     "text": [
      "Input: tensor([47.0000,  1.0000, 40.4976,  2.0000,  1.0000,  2.0000])\n",
      "Target: tensor([49064.9453])\n",
      "Prediction: tensor([12986.8994])\n"
     ]
    }
   ],
   "source": [
    "input, target = val_ds[10]\n",
    "predict_single(input, target, model)"
   ]
  },
  {
   "cell_type": "code",
   "execution_count": 81,
   "metadata": {
    "executionInfo": {
     "elapsed": 11205,
     "status": "aborted",
     "timestamp": 1607092614665,
     "user": {
      "displayName": "shobhit tyagi",
      "photoUrl": "https://lh3.googleusercontent.com/a-/AOh14GjKOHlUNQc-zxHwTA8P24S57--FT0_Ouv4wv947Rw=s64",
      "userId": "06994340572129584821"
     },
     "user_tz": -330
    },
    "id": "c8sENhrLyBBI"
   },
   "outputs": [
    {
     "name": "stdout",
     "output_type": "stream",
     "text": [
      "Input: tensor([40.0000,  0.0000, 29.2448,  1.0000,  1.0000,  0.0000])\n",
      "Target: tensor([24788.0391])\n",
      "Prediction: tensor([12507.5186])\n"
     ]
    }
   ],
   "source": [
    "input, target = val_ds[23]\n",
    "predict_single(input, target, model)"
   ]
  },
  {
   "cell_type": "code",
   "execution_count": 82,
   "metadata": {},
   "outputs": [
    {
     "name": "stdout",
     "output_type": "stream",
     "text": [
      "Input: tensor([50.0000,  1.0000, 33.4932,  0.0000,  0.0000,  1.0000])\n",
      "Target: tensor([9807.1445])\n",
      "Prediction: tensor([9938.8633])\n",
      "---------------------------\n",
      "Input: tensor([47.0000,  1.0000, 26.4784,  2.0000,  0.0000,  0.0000])\n",
      "Target: tensor([10240.0342])\n",
      "Prediction: tensor([10666.9541])\n",
      "---------------------------\n",
      "Input: tensor([38.0000,  1.0000, 21.9648,  3.0000,  0.0000,  2.0000])\n",
      "Target: tensor([7384.3071])\n",
      "Prediction: tensor([8290.7783])\n",
      "---------------------------\n",
      "Input: tensor([41.0000,  1.0000, 32.0112,  3.0000,  1.0000,  0.0000])\n",
      "Target: tensor([43953.1211])\n",
      "Prediction: tensor([12831.4209])\n",
      "---------------------------\n",
      "Input: tensor([43.0000,  1.0000, 28.9120,  0.0000,  1.0000,  3.0000])\n",
      "Target: tensor([41990.9922])\n",
      "Prediction: tensor([11426.5693])\n",
      "---------------------------\n"
     ]
    }
   ],
   "source": [
    "for i in range(5):\n",
    "    input, target = val_ds[i]\n",
    "    predict_single(input, target, model)\n",
    "    print(\"---------------------------\")"
   ]
  },
  {
   "cell_type": "markdown",
   "metadata": {
    "id": "XU8HkocuyBBI"
   },
   "source": [
    "Are you happy with your model's predictions? Try to improve them further."
   ]
  },
  {
   "cell_type": "markdown",
   "metadata": {
    "id": "wslLOlcuyBBI"
   },
   "source": [
    "## (Optional) Step 6: Try another dataset & blog about it\n",
    "\n",
    "While this last step is optional for the submission of your assignment, we highly recommend that you do it. Try to replicate this notebook for a different linear regression or logistic regression problem. This will help solidify your understanding, and give you a chance to differentiate the generic patterns in machine learning from problem-specific details.You can use one of these starer notebooks (just change the dataset):\n",
    "\n",
    "- Linear regression (minimal): https://jovian.ai/aakashns/housing-linear-minimal\n",
    "- Logistic regression (minimal): https://jovian.ai/aakashns/mnist-logistic-minimal\n",
    "\n",
    "Here are some sources to find good datasets:\n",
    "\n",
    "- https://lionbridge.ai/datasets/10-open-datasets-for-linear-regression/\n",
    "- https://www.kaggle.com/rtatman/datasets-for-regression-analysis\n",
    "- https://archive.ics.uci.edu/ml/datasets.php?format=&task=reg&att=&area=&numAtt=&numIns=&type=&sort=nameUp&view=table\n",
    "- https://people.sc.fsu.edu/~jburkardt/datasets/regression/regression.html\n",
    "- https://archive.ics.uci.edu/ml/datasets/wine+quality\n",
    "- https://pytorch.org/docs/stable/torchvision/datasets.html\n",
    "\n",
    "We also recommend that you write a blog about your approach to the problem. Here is a suggested structure for your post (feel free to experiment with it):\n",
    "\n",
    "- Interesting title & subtitle\n",
    "- Overview of what the blog covers (which dataset, linear regression or logistic regression, intro to PyTorch)\n",
    "- Downloading & exploring the data\n",
    "- Preparing the data for training\n",
    "- Creating a model using PyTorch\n",
    "- Training the model to fit the data\n",
    "- Your thoughts on how to experiment with different hyperparmeters to reduce loss\n",
    "- Making predictions using the model\n",
    "\n",
    "As with the previous assignment, you can [embed Juptyer notebook cells & outputs from Jovian](https://medium.com/jovianml/share-and-embed-jupyter-notebooks-online-with-jovian-ml-df709a03064e) into your blog. \n",
    "\n",
    "Don't forget to share your work on the forum: https://jovian.ai/forum/t/linear-regression-and-logistic-regression-notebooks-and-blog-posts/14039"
   ]
  },
  {
   "cell_type": "code",
   "execution_count": null,
   "metadata": {
    "executionInfo": {
     "elapsed": 11194,
     "status": "aborted",
     "timestamp": 1607092614667,
     "user": {
      "displayName": "shobhit tyagi",
      "photoUrl": "https://lh3.googleusercontent.com/a-/AOh14GjKOHlUNQc-zxHwTA8P24S57--FT0_Ouv4wv947Rw=s64",
      "userId": "06994340572129584821"
     },
     "user_tz": -330
    },
    "id": "DiAd9yjByBBI"
   },
   "outputs": [],
   "source": [
    "jovian.commit(project=project_name, environment=None)\n",
    "jovian.commit(project=project_name, environment=None) # try again, kaggle fails sometimes"
   ]
  },
  {
   "cell_type": "code",
   "execution_count": null,
   "metadata": {
    "executionInfo": {
     "elapsed": 11191,
     "status": "aborted",
     "timestamp": 1607092614668,
     "user": {
      "displayName": "shobhit tyagi",
      "photoUrl": "https://lh3.googleusercontent.com/a-/AOh14GjKOHlUNQc-zxHwTA8P24S57--FT0_Ouv4wv947Rw=s64",
      "userId": "06994340572129584821"
     },
     "user_tz": -330
    },
    "id": "m8CD5gd9yBBI"
   },
   "outputs": [],
   "source": []
  }
 ],
 "metadata": {
  "accelerator": "GPU",
  "colab": {
   "collapsed_sections": [
    "7u6Nh-rzyBBH",
    "wx9PENU0yBBI",
    "cwgvpeK4yBBI",
    "wslLOlcuyBBI"
   ],
   "name": "02-insurance-linear.ipynb",
   "provenance": []
  },
  "kernelspec": {
   "display_name": "Python 3",
   "language": "python",
   "name": "python3"
  },
  "language_info": {
   "codemirror_mode": {
    "name": "ipython",
    "version": 3
   },
   "file_extension": ".py",
   "mimetype": "text/x-python",
   "name": "python",
   "nbconvert_exporter": "python",
   "pygments_lexer": "ipython3",
   "version": "3.7.4"
  }
 },
 "nbformat": 4,
 "nbformat_minor": 1
}
